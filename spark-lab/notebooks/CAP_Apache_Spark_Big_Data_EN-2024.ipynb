{
 "cells": [
  {
   "attachments": {},
   "cell_type": "markdown",
   "metadata": {
    "id": "BYkPQP4Y0C3r"
   },
   "source": [
    "# Setup"
   ]
  },
  {
   "cell_type": "code",
   "execution_count": 1,
   "metadata": {
    "colab": {
     "base_uri": "https://localhost:8080/",
     "height": 216
    },
    "id": "EcUvT_eEiLv2",
    "outputId": "29e7314d-97ff-4c06-84e7-4a50c169c54f"
   },
   "outputs": [
    {
     "data": {
      "text/html": [
       "\n",
       "            <div>\n",
       "                <p><b>SparkSession - in-memory</b></p>\n",
       "                \n",
       "        <div>\n",
       "            <p><b>SparkContext</b></p>\n",
       "\n",
       "            <p><a href=\"http://de8cf428998d:4040\">Spark UI</a></p>\n",
       "\n",
       "            <dl>\n",
       "              <dt>Version</dt>\n",
       "                <dd><code>v3.5.3</code></dd>\n",
       "              <dt>Master</dt>\n",
       "                <dd><code>local[3]</code></dd>\n",
       "              <dt>AppName</dt>\n",
       "                <dd><code>pyspark-shell</code></dd>\n",
       "            </dl>\n",
       "        </div>\n",
       "        \n",
       "            </div>\n",
       "        "
      ],
      "text/plain": [
       "<pyspark.sql.session.SparkSession at 0x7fc3400a92d0>"
      ]
     },
     "execution_count": 1,
     "metadata": {},
     "output_type": "execute_result"
    },
    {
     "name": "stderr",
     "output_type": "stream",
     "text": [
      "----------------------------------------\n",
      "Exception occurred during processing of request from ('127.0.0.1', 43542)\n",
      "Traceback (most recent call last):\n",
      "  File \"/opt/conda/lib/python3.11/socketserver.py\", line 317, in _handle_request_noblock\n",
      "    self.process_request(request, client_address)\n",
      "  File \"/opt/conda/lib/python3.11/socketserver.py\", line 348, in process_request\n",
      "    self.finish_request(request, client_address)\n",
      "  File \"/opt/conda/lib/python3.11/socketserver.py\", line 361, in finish_request\n",
      "    self.RequestHandlerClass(request, client_address, self)\n",
      "  File \"/opt/conda/lib/python3.11/socketserver.py\", line 755, in __init__\n",
      "    self.handle()\n",
      "  File \"/usr/local/spark/python/pyspark/accumulators.py\", line 295, in handle\n",
      "    poll(accum_updates)\n",
      "  File \"/usr/local/spark/python/pyspark/accumulators.py\", line 267, in poll\n",
      "    if self.rfile in r and func():\n",
      "                           ^^^^^^\n",
      "  File \"/usr/local/spark/python/pyspark/accumulators.py\", line 271, in accum_updates\n",
      "    num_updates = read_int(self.rfile)\n",
      "                  ^^^^^^^^^^^^^^^^^^^^\n",
      "  File \"/usr/local/spark/python/pyspark/serializers.py\", line 596, in read_int\n",
      "    raise EOFError\n",
      "EOFError\n",
      "----------------------------------------\n"
     ]
    }
   ],
   "source": [
    "from pyspark.sql import SparkSession\n",
    "from pyspark import SparkContext, SparkConf\n",
    "\n",
    "\n",
    "spark = SparkSession.builder.master('local[3]').getOrCreate()\n",
    "#spark.conf.set('spark.cores.max', '1')\n",
    "#spark.conf.set('spark.driver.memory','1000M')\n",
    "\n",
    "sc = spark.sparkContext\n",
    "\n",
    "spark"
   ]
  },
  {
   "cell_type": "code",
   "execution_count": 2,
   "metadata": {
    "colab": {
     "base_uri": "https://localhost:8080/"
    },
    "id": "X5YTbeyw_39w",
    "outputId": "03c2eca9-305d-43b6-9ee3-0bd8551f8743"
   },
   "outputs": [
    {
     "name": "stdout",
     "output_type": "stream",
     "text": [
      "Requirement already satisfied: psutil in /opt/conda/lib/python3.11/site-packages (6.0.0)\n",
      "Your runtime has 8.2 gigabytes of available RAM\n",
      "\n"
     ]
    }
   ],
   "source": [
    "!pip install psutil\n",
    "from psutil import virtual_memory\n",
    "ram_gb = virtual_memory().total / 1e9\n",
    "print('Your runtime has {:.1f} gigabytes of available RAM\\n'.format(ram_gb))"
   ]
  },
  {
   "attachments": {},
   "cell_type": "markdown",
   "metadata": {
    "id": "8jmRZiO733Su"
   },
   "source": [
    "In addition, we can get the degree of parallelism, i.e. the number of cores used."
   ]
  },
  {
   "cell_type": "code",
   "execution_count": 3,
   "metadata": {
    "colab": {
     "base_uri": "https://localhost:8080/"
    },
    "id": "i1J8-pT-j1Ha",
    "outputId": "f0373d58-20a1-45cd-e434-5dd949d404ec"
   },
   "outputs": [
    {
     "data": {
      "text/plain": [
       "3"
      ]
     },
     "execution_count": 3,
     "metadata": {},
     "output_type": "execute_result"
    }
   ],
   "source": [
    "spark.sparkContext.defaultParallelism"
   ]
  },
  {
   "attachments": {},
   "cell_type": "markdown",
   "metadata": {
    "id": "TeL58iq5-QY3"
   },
   "source": [
    "Create an RDD that multiplies their values by 2 and add the results."
   ]
  },
  {
   "cell_type": "code",
   "execution_count": 3,
   "metadata": {
    "colab": {
     "base_uri": "https://localhost:8080/"
    },
    "id": "zxyRgNMe-YMF",
    "outputId": "53426e18-949b-43d8-ebd3-f833e3192de5"
   },
   "outputs": [
    {
     "name": "stdout",
     "output_type": "stream",
     "text": [
      "40\n"
     ]
    }
   ],
   "source": [
    "from operator import add\n",
    "rdd = sc.parallelize([1, 1, 1, 1, 2, 2, 2, 3, 3, 4])\n",
    "rdd2 = rdd.map(lambda x: x*2)\n",
    "tSum = rdd2.reduce(lambda x,y: x+y)\n",
    "print (tSum)"
   ]
  },
  {
   "attachments": {},
   "cell_type": "markdown",
   "metadata": {
    "id": "Nf5L_65q-bYB"
   },
   "source": [
    "Create a dictionary with elements (x,1) and sum the occurrences per element."
   ]
  },
  {
   "cell_type": "code",
   "execution_count": 4,
   "metadata": {
    "id": "FMT7UYH--gXw"
   },
   "outputs": [
    {
     "name": "stdout",
     "output_type": "stream",
     "text": [
      "[('red', 2), ('green', 2), ('blue', 1), ('yellow', 1)]\n"
     ]
    }
   ],
   "source": [
    "rdd_text = sc.parallelize(['red', 'red', 'blue', 'green', 'green','yellow'])\n",
    "rdd_aux = rdd_text.map(lambda x: (x,1))\n",
    "rdd_result = rdd_aux.reduceByKey(lambda x,y: x+y)\n",
    "print (rdd_result.collect())"
   ]
  },
  {
   "attachments": {},
   "cell_type": "markdown",
   "metadata": {
    "id": "z-rrqm0F-p9l"
   },
   "source": [
    "Creation from dictionaries."
   ]
  },
  {
   "cell_type": "code",
   "execution_count": 5,
   "metadata": {
    "colab": {
     "base_uri": "https://localhost:8080/"
    },
    "id": "Muwx0GO6-uaV",
    "outputId": "73e30a71-e68b-4d94-ec17-8ddd25600672"
   },
   "outputs": [
    {
     "name": "stdout",
     "output_type": "stream",
     "text": [
      "[('a', 1), ('b', 2), ('c', 3), ('a', 4)]\n"
     ]
    }
   ],
   "source": [
    "a = sc.parallelize(['a','b','c','a'])\n",
    "b = sc.parallelize([1,2,3,4])\n",
    "rdd_kv = a.zip(b)\n",
    "print (rdd_kv.collect())"
   ]
  },
  {
   "attachments": {},
   "cell_type": "markdown",
   "metadata": {
    "id": "bcvS7Pvw1rfX"
   },
   "source": [
    "# DataFrames\n",
    "\n",
    "Now, let's define our first PySpark DataFrame. The DataFrame in PySpark is like a spreadsheet that accommodates data. If you are already familiar with Pandas, you can safely assume that the PySpark DataFrame is something like the Pandas DataFrame (but with more powerful features). "
   ]
  },
  {
   "attachments": {},
   "cell_type": "markdown",
   "metadata": {
    "id": "a9TBjsgG14dD"
   },
   "source": [
    "Let's read a dataset from a comma-separated values (CSV) file. PySpark comes with a convenient set of functions (also called 'methods' in Python) to read and parse some common data file formats, such as spark.read.csv() or spark.read.json(). Once the file contents are parsed, the values are returned as a PySpark DataFrame. The actual usage looks like this."
   ]
  },
  {
   "cell_type": "code",
   "execution_count": 6,
   "metadata": {
    "id": "iqjD6ybk12U2"
   },
   "outputs": [],
   "source": [
    "!wget -q https://github.com/chadwickbureau/baseballdatabank/raw/master/core/People.csv -O data/People.csv\n",
    "df = spark.read.csv('data/People.csv', header=True, inferSchema=True)"
   ]
  },
  {
   "attachments": {},
   "cell_type": "markdown",
   "metadata": {
    "id": "OKDZW-vr2Vc-"
   },
   "source": [
    "In the above cell, we have downloaded the Major League Baseball dataset from the URL using the `wget` command (note: this is a linux command for downloading data from the web), and parsed it into a PySpark DataFrame named `df`.\n",
    "\n",
    "Note that the `header=True` argument is used to indicate that the first row of the CSV file contains the name of the columns (parameters). If you set it to `None`, which is the default value, PySpark will only get some random column names and the first row of the CSV file will only be assumed to be part of the data entries."
   ]
  },
  {
   "attachments": {},
   "cell_type": "markdown",
   "metadata": {
    "id": "a__7NVJG2rXC"
   },
   "source": [
    "To view the contents of a DataFrame, the `DataFrame.show()` method provides a simple way to check the raw data.\n"
   ]
  },
  {
   "cell_type": "code",
   "execution_count": 7,
   "metadata": {
    "id": "ooXCp6x62zqw"
   },
   "outputs": [
    {
     "name": "stdout",
     "output_type": "stream",
     "text": [
      "+---+---------+---------+----------+--------+------------+------------+----------+---------+----------+--------+------------+----------+---------------+---------+-----------+----------------+------+------+----+------+----------+---------+----------+--------+\n",
      "| ID| playerID|birthYear|birthMonth|birthDay|   birthCity|birthCountry|birthState|deathYear|deathMonth|deathDay|deathCountry|deathState|      deathCity|nameFirst|   nameLast|       nameGiven|weight|height|bats|throws|     debut|  bbrefID| finalGame| retroID|\n",
      "+---+---------+---------+----------+--------+------------+------------+----------+---------+----------+--------+------------+----------+---------------+---------+-----------+----------------+------+------+----+------+----------+---------+----------+--------+\n",
      "|  1|aardsda01|     1981|        12|      27|      Denver|         USA|        CO|     NULL|      NULL|    NULL|        NULL|      NULL|           NULL|    David|    Aardsma|     David Allan|   215|    75|   R|     R|2004-04-06|aardsda01|2015-08-23|aardd001|\n",
      "|  2|aaronha01|     1934|         2|       5|      Mobile|         USA|        AL|     2021|         1|      22|         USA|        GA|        Atlanta|     Hank|      Aaron|     Henry Louis|   180|    72|   R|     R|1954-04-13|aaronha01|1976-10-03|aaroh101|\n",
      "|  3|aaronto01|     1939|         8|       5|      Mobile|         USA|        AL|     1984|         8|      16|         USA|        GA|        Atlanta|   Tommie|      Aaron|      Tommie Lee|   190|    75|   R|     R|1962-04-10|aaronto01|1971-09-26|aarot101|\n",
      "|  4| aasedo01|     1954|         9|       8|      Orange|         USA|        CA|     NULL|      NULL|    NULL|        NULL|      NULL|           NULL|      Don|       Aase|  Donald William|   190|    75|   R|     R|1977-07-26| aasedo01|1990-10-03|aased001|\n",
      "|  5| abadan01|     1972|         8|      25|  Palm Beach|         USA|        FL|     NULL|      NULL|    NULL|        NULL|      NULL|           NULL|     Andy|       Abad|   Fausto Andres|   184|    73|   L|     L|2001-09-10| abadan01|2006-04-13|abada001|\n",
      "|  6| abadfe01|     1985|        12|      17|   La Romana|        D.R.| La Romana|     NULL|      NULL|    NULL|        NULL|      NULL|           NULL| Fernando|       Abad|Fernando Antonio|   235|    74|   L|     L|2010-07-28| abadfe01|2021-10-01|abadf001|\n",
      "|  7|abadijo01|     1850|        11|       4|Philadelphia|         USA|        PA|     1905|         5|      17|         USA|        NJ|      Pemberton|     John|     Abadie|         John W.|   192|    72|   R|     R|1875-04-26|abadijo01|1875-06-10|abadj101|\n",
      "|  8|abbated01|     1877|         4|      15|     Latrobe|         USA|        PA|     1957|         1|       6|         USA|        FL|Fort Lauderdale|       Ed|Abbaticchio|    Edward James|   170|    71|   R|     R|1897-09-04|abbated01|1910-09-15|abbae101|\n",
      "|  9|abbeybe01|     1869|        11|      11|       Essex|         USA|        VT|     1962|         6|      11|         USA|        VT|     Colchester|     Bert|      Abbey|       Bert Wood|   175|    71|   R|     R|1892-06-14|abbeybe01|1896-09-23|abbeb101|\n",
      "| 10|abbeych01|     1866|        10|      14|  Falls City|         USA|        NE|     1926|         4|      27|         USA|        CA|  San Francisco|  Charlie|      Abbey|      Charles S.|   169|    68|   L|     L|1893-08-16|abbeych01|1897-08-19|abbec101|\n",
      "| 11|abbotco01|     1995|         9|      20|   San Diego|         USA|        CA|     NULL|      NULL|    NULL|        NULL|      NULL|           NULL|     Cory|     Abbott|      Cory James|   220|    74|   R|     R|2021-06-05|abbotco01|2022-10-04|abboc001|\n",
      "| 12|abbotda01|     1862|         3|      16|     Portage|         USA|        OH|     1930|         2|      13|         USA|        MI|    Ottawa Lake|      Dan|     Abbott|Leander Franklin|   190|    71|   R|     R|1890-04-19|abbotda01|1890-05-23|abbod101|\n",
      "| 13|abbotfr01|     1874|        10|      22|  Versailles|         USA|        OH|     1935|         6|      11|         USA|        CA|    Los Angeles|     Fred|     Abbott| Harry Frederick|   180|    70|   R|     R|1903-04-25|abbotfr01|1905-09-20|abbof101|\n",
      "| 14|abbotgl01|     1951|         2|      16| Little Rock|         USA|        AR|     NULL|      NULL|    NULL|        NULL|      NULL|           NULL|    Glenn|     Abbott|   William Glenn|   200|    78|   R|     R|1973-07-29|abbotgl01|1984-08-08|abbog001|\n",
      "| 15|abbotje01|     1972|         8|      17|     Atlanta|         USA|        GA|     NULL|      NULL|    NULL|        NULL|      NULL|           NULL|     Jeff|     Abbott| Jeffrey William|   190|    74|   R|     L|1997-06-10|abbotje01|2001-09-29|abboj002|\n",
      "| 16|abbotji01|     1967|         9|      19|       Flint|         USA|        MI|     NULL|      NULL|    NULL|        NULL|      NULL|           NULL|      Jim|     Abbott|   James Anthony|   200|    75|   L|     L|1989-04-08|abbotji01|1999-07-21|abboj001|\n",
      "| 17|abbotku01|     1969|         6|       2|  Zanesville|         USA|        OH|     NULL|      NULL|    NULL|        NULL|      NULL|           NULL|     Kurt|     Abbott|     Kurt Thomas|   180|    71|   R|     R|1993-09-07|abbotku01|2001-04-13|abbok002|\n",
      "| 18|abbotky01|     1968|         2|      18| Newburyport|         USA|        MA|     NULL|      NULL|    NULL|        NULL|      NULL|           NULL|     Kyle|     Abbott|   Lawrence Kyle|   200|    76|   L|     L|1991-09-10|abbotky01|1996-08-24|abbok001|\n",
      "| 19|abbotod01|     1886|         9|       5|   New Eagle|         USA|        PA|     1933|         4|      13|         USA|        DC|     Washington|      Ody|     Abbott|       Ody Cleon|   165|    69|   L|     R|1910-09-10|abbotod01|1910-10-15|abboo101|\n",
      "| 20|abbotpa01|     1967|         9|      15|    Van Nuys|         USA|        CA|     NULL|      NULL|    NULL|        NULL|      NULL|           NULL|     Paul|     Abbott|      Paul David|   185|    75|   R|     R|1990-08-21|abbotpa01|2004-08-07|abbop001|\n",
      "+---+---------+---------+----------+--------+------------+------------+----------+---------+----------+--------+------------+----------+---------------+---------+-----------+----------------+------+------+----+------+----------+---------+----------+--------+\n",
      "only showing top 20 rows\n",
      "\n"
     ]
    }
   ],
   "source": [
    "df.show()"
   ]
  },
  {
   "attachments": {},
   "cell_type": "markdown",
   "metadata": {
    "id": "2-0GqPAm28eW"
   },
   "source": [
    "Another way to view the structure of the data is by printing, what is called, Schema. While the details will be explained several lines later, Schema defines the column name, the variable type, and the null of the data. Again, I'll explain those terms later, but for now, let's check what happens when we execute the DataFrame.printSchema() method."
   ]
  },
  {
   "attachments": {},
   "cell_type": "markdown",
   "metadata": {
    "id": "abLWyOFm_vF_"
   },
   "source": [
    "### Show specific columns"
   ]
  },
  {
   "attachments": {},
   "cell_type": "markdown",
   "metadata": {
    "id": "vJ-zxyMo_7lq"
   },
   "source": [
    "Sometimes you may want to see some specific columns of the data frame. For those purposes, you can take advantage of Spark's SQL capabilities.\n",
    "\n",
    "Using the `select()` function, you can mention any column you want to see"
   ]
  },
  {
   "cell_type": "code",
   "execution_count": 13,
   "metadata": {
    "colab": {
     "base_uri": "https://localhost:8080/"
    },
    "id": "zeaqyBgr_6BR",
    "outputId": "b7c67ff4-b0bf-42a4-d480-7a8abf9773cb"
   },
   "outputs": [
    {
     "name": "stdout",
     "output_type": "stream",
     "text": [
      "+---------+--------+------------------+\n",
      "|longitude|latitude|median_house_value|\n",
      "+---------+--------+------------------+\n",
      "|  -114.31|   34.19|           66900.0|\n",
      "|  -114.47|    34.4|           80100.0|\n",
      "|  -114.56|   33.69|           85700.0|\n",
      "|  -114.57|   33.64|           73400.0|\n",
      "|  -114.57|   33.57|           65500.0|\n",
      "+---------+--------+------------------+\n",
      "only showing top 5 rows\n",
      "\n"
     ]
    }
   ],
   "source": [
    "!wget https://raw.githubusercontent.com/timothypesi/Data-Sets-For-Machine-Learning-/main/california_housing_train.csv -O data/california_housing_train.csv\n",
    "df = spark.read.csv(\"data/california_housing_train.csv\", header=True, inferSchema=True)\n",
    "df.select(\"longitude\",\"latitude\",\"median_house_value\").show(5)"
   ]
  },
  {
   "attachments": {},
   "cell_type": "markdown",
   "metadata": {
    "id": "jDo0xp9kA-Y1"
   },
   "source": [
    "### Describing columns \n",
    "Often, when working with numerical characteristics, we want to take a look at the statistics related to the data frame. The describe() function is best suited for such purposes.\n",
    "\n",
    "It is quite similar to Panda's describe function, but the statistical values are much smaller and the string columns are also described."
   ]
  },
  {
   "cell_type": "code",
   "execution_count": 10,
   "metadata": {
    "colab": {
     "base_uri": "https://localhost:8080/"
    },
    "id": "FegkN--_BMVd",
    "outputId": "6ff41caf-55b2-4261-fcdb-6f561bb4f21e"
   },
   "outputs": [
    {
     "name": "stdout",
     "output_type": "stream",
     "text": [
      "+-------+-------------------+------------------+------------------+-----------------+-----------------+------------------+-----------------+------------------+------------------+\n",
      "|summary|          longitude|          latitude|housing_median_age|      total_rooms|   total_bedrooms|        population|       households|     median_income|median_house_value|\n",
      "+-------+-------------------+------------------+------------------+-----------------+-----------------+------------------+-----------------+------------------+------------------+\n",
      "|  count|              17000|             17000|             17000|            17000|            17000|             17000|            17000|             17000|             17000|\n",
      "|   mean|-119.56210823529375|  35.6252247058827| 28.58935294117647|2643.664411764706|539.4108235294118|1429.5739411764705|501.2219411764706| 3.883578100000021|207300.91235294117|\n",
      "| stddev| 2.0051664084260357|2.1373397946570867|12.586936981660406|2179.947071452777|421.4994515798648| 1147.852959159527|384.5208408559016|1.9081565183791036|115983.76438720895|\n",
      "|    min|            -124.35|             32.54|               1.0|              2.0|              1.0|               3.0|              1.0|            0.4999|           14999.0|\n",
      "|    max|            -114.31|             41.95|              52.0|          37937.0|           6445.0|           35682.0|           6082.0|           15.0001|          500001.0|\n",
      "+-------+-------------------+------------------+------------------+-----------------+-----------------+------------------+-----------------+------------------+------------------+\n",
      "\n"
     ]
    }
   ],
   "source": [
    "df.describe().show()"
   ]
  },
  {
   "cell_type": "code",
   "execution_count": 14,
   "metadata": {},
   "outputs": [
    {
     "name": "stdout",
     "output_type": "stream",
     "text": [
      "root\n",
      " |-- longitude: double (nullable = true)\n",
      " |-- latitude: double (nullable = true)\n",
      " |-- housing_median_age: double (nullable = true)\n",
      " |-- total_rooms: double (nullable = true)\n",
      " |-- total_bedrooms: double (nullable = true)\n",
      " |-- population: double (nullable = true)\n",
      " |-- households: double (nullable = true)\n",
      " |-- median_income: double (nullable = true)\n",
      " |-- median_house_value: double (nullable = true)\n",
      "\n"
     ]
    }
   ],
   "source": [
    "df.printSchema()"
   ]
  },
  {
   "attachments": {},
   "cell_type": "markdown",
   "metadata": {
    "id": "gp_EnA95FpQG"
   },
   "source": [
    "## Some basic operations\n",
    "Now that we understand the basic structure of Spark DataFrames, let's look at some basic operations that allow us to interact with the data."
   ]
  },
  {
   "cell_type": "code",
   "execution_count": 15,
   "metadata": {
    "colab": {
     "base_uri": "https://localhost:8080/"
    },
    "id": "TVHCmsP0GC_A",
    "outputId": "587a960c-5314-4aec-c9e5-b15292f37d8c"
   },
   "outputs": [
    {
     "name": "stdout",
     "output_type": "stream",
     "text": [
      "+---------+------+-----+------+----+---+---------+---+---+---+---+---+---+---+---+---+---+---+----+---+---+---+----+-----+\n",
      "| playerID|yearID|stint|teamID|lgID|  G|G_batting| AB|  R|  H| 2B| 3B| HR|RBI| SB| CS| BB| SO| IBB|HBP| SH| SF|GIDP|G_old|\n",
      "+---------+------+-----+------+----+---+---------+---+---+---+---+---+---+---+---+---+---+---+----+---+---+---+----+-----+\n",
      "|aardsda01|  2004|    1|   SFN|  NL| 11|     NULL|  0|  0|  0|  0|  0|  0|  0|  0|  0|  0|  0|   0|  0|  0|  0|   0| NULL|\n",
      "|aardsda01|  2006|    1|   CHN|  NL| 45|     NULL|  2|  0|  0|  0|  0|  0|  0|  0|  0|  0|  0|   0|  0|  1|  0|   0| NULL|\n",
      "|aardsda01|  2007|    1|   CHA|  AL| 25|     NULL|  0|  0|  0|  0|  0|  0|  0|  0|  0|  0|  0|   0|  0|  0|  0|   0| NULL|\n",
      "|aardsda01|  2008|    1|   BOS|  AL| 47|     NULL|  1|  0|  0|  0|  0|  0|  0|  0|  0|  0|  1|   0|  0|  0|  0|   0| NULL|\n",
      "|aardsda01|  2009|    1|   SEA|  AL| 73|     NULL|  0|  0|  0|  0|  0|  0|  0|  0|  0|  0|  0|   0|  0|  0|  0|   0| NULL|\n",
      "|aardsda01|  2010|    1|   SEA|  AL| 53|     NULL|  0|  0|  0|  0|  0|  0|  0|  0|  0|  0|  0|   0|  0|  0|  0|   0| NULL|\n",
      "|aardsda01|  2012|    1|   NYA|  AL|  1|     NULL|  0|  0|  0|  0|  0|  0|  0|  0|  0|  0|  0|   0|  0|  0|  0|   0| NULL|\n",
      "|aardsda01|  2013|    1|   NYN|  NL| 43|     NULL|  0|  0|  0|  0|  0|  0|  0|  0|  0|  0|  0|   0|  0|  0|  0|   0| NULL|\n",
      "|aardsda01|  2015|    1|   ATL|  NL| 33|     NULL|  1|  0|  0|  0|  0|  0|  0|  0|  0|  0|  1|   0|  0|  0|  0|   0| NULL|\n",
      "|aaronha01|  1954|    1|   ML1|  NL|122|     NULL|468| 58|131| 27|  6| 13| 69|  2|  2| 28| 39|NULL|  3|  6|  4|  13| NULL|\n",
      "|aaronha01|  1955|    1|   ML1|  NL|153|     NULL|602|105|189| 37|  9| 27|106|  3|  1| 49| 61|   5|  3|  7|  4|  20| NULL|\n",
      "|aaronha01|  1956|    1|   ML1|  NL|153|     NULL|609|106|200| 34| 14| 26| 92|  2|  4| 37| 54|   6|  2|  5|  7|  21| NULL|\n",
      "|aaronha01|  1957|    1|   ML1|  NL|151|     NULL|615|118|198| 27|  6| 44|132|  1|  1| 57| 58|  15|  0|  0|  3|  13| NULL|\n",
      "|aaronha01|  1958|    1|   ML1|  NL|153|     NULL|601|109|196| 34|  4| 30| 95|  4|  1| 59| 49|  16|  1|  0|  3|  21| NULL|\n",
      "|aaronha01|  1959|    1|   ML1|  NL|154|     NULL|629|116|223| 46|  7| 39|123|  8|  0| 51| 54|  17|  4|  0|  9|  19| NULL|\n",
      "|aaronha01|  1960|    1|   ML1|  NL|153|     NULL|590|102|172| 20| 11| 40|126| 16|  7| 60| 63|  13|  2|  0| 12|   8| NULL|\n",
      "|aaronha01|  1961|    1|   ML1|  NL|155|     NULL|603|115|197| 39| 10| 34|120| 21|  9| 56| 64|  20|  2|  1|  9|  16| NULL|\n",
      "|aaronha01|  1962|    1|   ML1|  NL|156|     NULL|592|127|191| 28|  6| 45|128| 15|  7| 66| 73|  14|  3|  0|  6|  14| NULL|\n",
      "|aaronha01|  1963|    1|   ML1|  NL|161|     NULL|631|121|201| 29|  4| 44|130| 31|  5| 78| 94|  18|  0|  0|  5|  11| NULL|\n",
      "|aaronha01|  1964|    1|   ML1|  NL|145|     NULL|570|103|187| 30|  2| 24| 95| 22|  4| 62| 46|   9|  0|  0|  2|  22| NULL|\n",
      "+---------+------+-----+------+----+---+---------+---+---+---+---+---+---+---+---+---+---+---+----+---+---+---+----+-----+\n",
      "only showing top 20 rows\n",
      "\n"
     ]
    }
   ],
   "source": [
    "!wget -q https://github.com/chadwickbureau/baseballdatabank/raw/master/core/Batting.csv -O data/Batting.csv\n",
    "df = spark.read.csv('data/Batting.csv', header=True, inferSchema=True)\n",
    "df.show()"
   ]
  },
  {
   "attachments": {},
   "cell_type": "markdown",
   "metadata": {
    "id": "m5iNbIIXGNI2"
   },
   "source": [
    "### Column selection"
   ]
  },
  {
   "attachments": {},
   "cell_type": "markdown",
   "metadata": {
    "id": "OljXRHaAYu2v"
   },
   "source": [
    "As you analyze data, what you will often do is select a few subsets of columns from a data set and process them. In PySpark, selecting a column is as simple as `df['column_name']`."
   ]
  },
  {
   "cell_type": "code",
   "execution_count": 16,
   "metadata": {
    "colab": {
     "base_uri": "https://localhost:8080/"
    },
    "id": "0SIQkp-CGQie",
    "outputId": "c9be55fd-06ad-49e8-eea5-2cd92a4073c8"
   },
   "outputs": [
    {
     "data": {
      "text/plain": [
       "Column<'playerID'>"
      ]
     },
     "execution_count": 16,
     "metadata": {},
     "output_type": "execute_result"
    }
   ],
   "source": [
    "df['playerID']"
   ]
  },
  {
   "attachments": {},
   "cell_type": "markdown",
   "metadata": {
    "id": "7QstJerKGRwh"
   },
   "source": [
    "Note that the cell above prints a Spark column object. To see this more explicitly, you can run `type()` function in Python to check the data type."
   ]
  },
  {
   "cell_type": "code",
   "execution_count": 17,
   "metadata": {
    "colab": {
     "base_uri": "https://localhost:8080/"
    },
    "id": "O2cDk61bGXcy",
    "outputId": "09a3c49a-07b7-4ff0-fbe0-7adced5ee832"
   },
   "outputs": [
    {
     "data": {
      "text/plain": [
       "pyspark.sql.column.Column"
      ]
     },
     "execution_count": 17,
     "metadata": {},
     "output_type": "execute_result"
    }
   ],
   "source": [
    "type(df['playerID'])"
   ]
  },
  {
   "attachments": {},
   "cell_type": "markdown",
   "metadata": {
    "id": "6IPTkpNHGbEx"
   },
   "source": [
    "An important thing to remember here is that column objects are **not** the same as DataFrames. For example, the \"show()\" method that was available for regular DataFrames **will not work** with a column object. Therefore, it **assumes that the following cell returns a compilation error**:"
   ]
  },
  {
   "cell_type": "code",
   "execution_count": 18,
   "metadata": {
    "id": "r8XCjxf4GkJb"
   },
   "outputs": [
    {
     "ename": "TypeError",
     "evalue": "'Column' object is not callable",
     "output_type": "error",
     "traceback": [
      "\u001b[0;31m---------------------------------------------------------------------------\u001b[0m",
      "\u001b[0;31mTypeError\u001b[0m                                 Traceback (most recent call last)",
      "Cell \u001b[0;32mIn[18], line 1\u001b[0m\n\u001b[0;32m----> 1\u001b[0m \u001b[43mdf\u001b[49m\u001b[43m[\u001b[49m\u001b[38;5;124;43m'\u001b[39;49m\u001b[38;5;124;43mplayerID\u001b[39;49m\u001b[38;5;124;43m'\u001b[39;49m\u001b[43m]\u001b[49m\u001b[38;5;241;43m.\u001b[39;49m\u001b[43mshow\u001b[49m\u001b[43m(\u001b[49m\u001b[43m)\u001b[49m\n",
      "\u001b[0;31mTypeError\u001b[0m: 'Column' object is not callable"
     ]
    }
   ],
   "source": [
    "df['playerID'].show()"
   ]
  },
  {
   "attachments": {},
   "cell_type": "markdown",
   "metadata": {
    "id": "876G3MrjGnAN"
   },
   "source": [
    "So why did people bother to create a column data type? Well, as we'll see later, one reason is to use it as an efficient reference (something like a pointer) to a column. For now, however, it should be enough to understand that column objects are not DataFrames.\n",
    "\n",
    "What should we do then, if we want to handle the columns as usual DataFrames? In other words, what should we do if we want to call the `show()` method to print the contents of a specific column? For this purpose, there is a `select()` method that can be called from a DataFrame. See the following example."
   ]
  },
  {
   "cell_type": "code",
   "execution_count": 19,
   "metadata": {
    "id": "K2U7GqMzGtxK"
   },
   "outputs": [
    {
     "data": {
      "text/plain": [
       "DataFrame[playerID: string]"
      ]
     },
     "execution_count": 19,
     "metadata": {},
     "output_type": "execute_result"
    }
   ],
   "source": [
    "df.select('playerID')"
   ]
  },
  {
   "attachments": {},
   "cell_type": "markdown",
   "metadata": {
    "id": "4QtTiYw1GwXS"
   },
   "source": [
    "Now the type is DataFrame. Or more explicitly:"
   ]
  },
  {
   "cell_type": "code",
   "execution_count": 20,
   "metadata": {
    "colab": {
     "base_uri": "https://localhost:8080/"
    },
    "id": "lUfkfrWRGxgE",
    "outputId": "5146d54c-5c1c-47b8-83cf-6f028fe12f77"
   },
   "outputs": [
    {
     "data": {
      "text/plain": [
       "pyspark.sql.dataframe.DataFrame"
      ]
     },
     "execution_count": 20,
     "metadata": {},
     "output_type": "execute_result"
    }
   ],
   "source": [
    "type(df.select('playerID'))"
   ]
  },
  {
   "attachments": {},
   "cell_type": "markdown",
   "metadata": {
    "id": "HV1YwCdHG0pq"
   },
   "source": [
    "And of course, since the column is now selected as a DataFrame, we can call any DataFrame method we want."
   ]
  },
  {
   "cell_type": "code",
   "execution_count": 21,
   "metadata": {
    "id": "C8I1RBsTG3JR"
   },
   "outputs": [
    {
     "name": "stdout",
     "output_type": "stream",
     "text": [
      "+---------+\n",
      "| playerID|\n",
      "+---------+\n",
      "|aardsda01|\n",
      "|aardsda01|\n",
      "|aardsda01|\n",
      "|aardsda01|\n",
      "|aardsda01|\n",
      "|aardsda01|\n",
      "|aardsda01|\n",
      "|aardsda01|\n",
      "|aardsda01|\n",
      "|aaronha01|\n",
      "|aaronha01|\n",
      "|aaronha01|\n",
      "|aaronha01|\n",
      "|aaronha01|\n",
      "|aaronha01|\n",
      "|aaronha01|\n",
      "|aaronha01|\n",
      "|aaronha01|\n",
      "|aaronha01|\n",
      "|aaronha01|\n",
      "+---------+\n",
      "only showing top 20 rows\n",
      "\n"
     ]
    }
   ],
   "source": [
    "df.select('playerID').show()"
   ]
  },
  {
   "attachments": {},
   "cell_type": "markdown",
   "metadata": {
    "id": "o10RkP2IG5vk"
   },
   "source": [
    "The column selection does not have to be a single column, but several columns can be selected at once. In this case, the names of the columns to be selected can be passed as a Python list. For example:"
   ]
  },
  {
   "cell_type": "code",
   "execution_count": 22,
   "metadata": {
    "colab": {
     "base_uri": "https://localhost:8080/"
    },
    "id": "nt9YdmBoG8ft",
    "outputId": "5d4d9153-8e8b-4a05-e47b-60966c142a57"
   },
   "outputs": [
    {
     "name": "stdout",
     "output_type": "stream",
     "text": [
      "+---------+------+\n",
      "| playerID|yearID|\n",
      "+---------+------+\n",
      "|aardsda01|  2004|\n",
      "|aardsda01|  2006|\n",
      "|aardsda01|  2007|\n",
      "|aardsda01|  2008|\n",
      "|aardsda01|  2009|\n",
      "|aardsda01|  2010|\n",
      "|aardsda01|  2012|\n",
      "|aardsda01|  2013|\n",
      "|aardsda01|  2015|\n",
      "|aaronha01|  1954|\n",
      "|aaronha01|  1955|\n",
      "|aaronha01|  1956|\n",
      "|aaronha01|  1957|\n",
      "|aaronha01|  1958|\n",
      "|aaronha01|  1959|\n",
      "|aaronha01|  1960|\n",
      "|aaronha01|  1961|\n",
      "|aaronha01|  1962|\n",
      "|aaronha01|  1963|\n",
      "|aaronha01|  1964|\n",
      "+---------+------+\n",
      "only showing top 20 rows\n",
      "\n"
     ]
    }
   ],
   "source": [
    "df.select( ['playerID', 'yearID'] ).show()"
   ]
  },
  {
   "attachments": {},
   "cell_type": "markdown",
   "metadata": {
    "id": "sVwzNeG7HBPG"
   },
   "source": [
    "### Row selection"
   ]
  },
  {
   "attachments": {},
   "cell_type": "markdown",
   "metadata": {
    "id": "t-i9FFwmYjja"
   },
   "source": [
    "As much as you need to select columns, you will also need to select rows. However, selecting rows is not as trivial as selecting columns. In fact, if you think about it, rows are basically data entries that are different on a case-by-case, sample-by-sample basis. Moreover, when the data is large, we are not talking about a small number of rows, but thousands or millions of them (or even more).\n",
    "\n",
    "Therefore, row selection is often done by specifying some particular conditions. For example, you may want to select the first 10 rows of your DataFrame, which has already been sorted by some rules. You may also want to select rows that satisfy a certain condition. It is uncommon (especially in large data scenarios) to select rows using indexes, like what we have done for columns.\n",
    "\n",
    "That said, here is our simplest example of selecting a few rows. Let's say you're interested in extracting the first 10 rows of a DataFrame. The \"head()\" method provides that very functionality."
   ]
  },
  {
   "cell_type": "code",
   "execution_count": 23,
   "metadata": {
    "colab": {
     "base_uri": "https://localhost:8080/"
    },
    "id": "Ifo7SKLPHHKH",
    "outputId": "0aef1036-f812-48ed-9497-969e1c2070fb"
   },
   "outputs": [
    {
     "data": {
      "text/plain": [
       "[Row(playerID='aardsda01', yearID=2004, stint=1, teamID='SFN', lgID='NL', G=11, G_batting=None, AB=0, R=0, H=0, 2B=0, 3B=0, HR=0, RBI=0, SB=0, CS=0, BB=0, SO=0, IBB=0, HBP=0, SH=0, SF=0, GIDP=0, G_old=None),\n",
       " Row(playerID='aardsda01', yearID=2006, stint=1, teamID='CHN', lgID='NL', G=45, G_batting=None, AB=2, R=0, H=0, 2B=0, 3B=0, HR=0, RBI=0, SB=0, CS=0, BB=0, SO=0, IBB=0, HBP=0, SH=1, SF=0, GIDP=0, G_old=None),\n",
       " Row(playerID='aardsda01', yearID=2007, stint=1, teamID='CHA', lgID='AL', G=25, G_batting=None, AB=0, R=0, H=0, 2B=0, 3B=0, HR=0, RBI=0, SB=0, CS=0, BB=0, SO=0, IBB=0, HBP=0, SH=0, SF=0, GIDP=0, G_old=None),\n",
       " Row(playerID='aardsda01', yearID=2008, stint=1, teamID='BOS', lgID='AL', G=47, G_batting=None, AB=1, R=0, H=0, 2B=0, 3B=0, HR=0, RBI=0, SB=0, CS=0, BB=0, SO=1, IBB=0, HBP=0, SH=0, SF=0, GIDP=0, G_old=None),\n",
       " Row(playerID='aardsda01', yearID=2009, stint=1, teamID='SEA', lgID='AL', G=73, G_batting=None, AB=0, R=0, H=0, 2B=0, 3B=0, HR=0, RBI=0, SB=0, CS=0, BB=0, SO=0, IBB=0, HBP=0, SH=0, SF=0, GIDP=0, G_old=None),\n",
       " Row(playerID='aardsda01', yearID=2010, stint=1, teamID='SEA', lgID='AL', G=53, G_batting=None, AB=0, R=0, H=0, 2B=0, 3B=0, HR=0, RBI=0, SB=0, CS=0, BB=0, SO=0, IBB=0, HBP=0, SH=0, SF=0, GIDP=0, G_old=None),\n",
       " Row(playerID='aardsda01', yearID=2012, stint=1, teamID='NYA', lgID='AL', G=1, G_batting=None, AB=0, R=0, H=0, 2B=0, 3B=0, HR=0, RBI=0, SB=0, CS=0, BB=0, SO=0, IBB=0, HBP=0, SH=0, SF=0, GIDP=0, G_old=None),\n",
       " Row(playerID='aardsda01', yearID=2013, stint=1, teamID='NYN', lgID='NL', G=43, G_batting=None, AB=0, R=0, H=0, 2B=0, 3B=0, HR=0, RBI=0, SB=0, CS=0, BB=0, SO=0, IBB=0, HBP=0, SH=0, SF=0, GIDP=0, G_old=None),\n",
       " Row(playerID='aardsda01', yearID=2015, stint=1, teamID='ATL', lgID='NL', G=33, G_batting=None, AB=1, R=0, H=0, 2B=0, 3B=0, HR=0, RBI=0, SB=0, CS=0, BB=0, SO=1, IBB=0, HBP=0, SH=0, SF=0, GIDP=0, G_old=None),\n",
       " Row(playerID='aaronha01', yearID=1954, stint=1, teamID='ML1', lgID='NL', G=122, G_batting=None, AB=468, R=58, H=131, 2B=27, 3B=6, HR=13, RBI=69, SB=2, CS=2, BB=28, SO=39, IBB=None, HBP=3, SH=6, SF=4, GIDP=13, G_old=None)]"
      ]
     },
     "execution_count": 23,
     "metadata": {},
     "output_type": "execute_result"
    }
   ],
   "source": [
    "df.head(10)"
   ]
  },
  {
   "attachments": {},
   "cell_type": "markdown",
   "metadata": {
    "id": "5oWHcEZPHOAU"
   },
   "source": [
    "Notice that the row elements are returned as a Python list (look at the bracket!). This means that you can access the elements of the selected row as if you were accessing a value in a list."
   ]
  },
  {
   "cell_type": "code",
   "execution_count": 24,
   "metadata": {
    "colab": {
     "base_uri": "https://localhost:8080/"
    },
    "id": "tSilcaCRHSIi",
    "outputId": "d3f50f68-0c1a-4fd0-fbba-3a8a2a1dbca9"
   },
   "outputs": [
    {
     "data": {
      "text/plain": [
       "Row(playerID='aardsda01', yearID=2004, stint=1, teamID='SFN', lgID='NL', G=11, G_batting=None, AB=0, R=0, H=0, 2B=0, 3B=0, HR=0, RBI=0, SB=0, CS=0, BB=0, SO=0, IBB=0, HBP=0, SH=0, SF=0, GIDP=0, G_old=None)"
      ]
     },
     "execution_count": 24,
     "metadata": {},
     "output_type": "execute_result"
    }
   ],
   "source": [
    "df.head(10)[0] # elemento cero"
   ]
  },
  {
   "attachments": {},
   "cell_type": "markdown",
   "metadata": {
    "id": "qLBlJPICHWVo"
   },
   "source": [
    "The data type of a row element is of type \"row\", or more explicitly, \"pyspark.sql.types.Row\". "
   ]
  },
  {
   "cell_type": "code",
   "execution_count": 25,
   "metadata": {
    "colab": {
     "base_uri": "https://localhost:8080/"
    },
    "id": "tB_LMbEKHXv_",
    "outputId": "9a12a602-9e4a-4d91-9280-3daba0388a2b"
   },
   "outputs": [
    {
     "data": {
      "text/plain": [
       "pyspark.sql.types.Row"
      ]
     },
     "execution_count": 25,
     "metadata": {},
     "output_type": "execute_result"
    }
   ],
   "source": [
    "type(df.head(10)[0])"
   ]
  },
  {
   "attachments": {},
   "cell_type": "markdown",
   "metadata": {
    "id": "9DRWkJpkNUck"
   },
   "source": [
    "### Adding columns"
   ]
  },
  {
   "attachments": {},
   "cell_type": "markdown",
   "metadata": {
    "id": "Uyd29OndYWyw"
   },
   "source": [
    "Another type of operation that can be quite useful is to add new columns. For example, let's say you invented a new characteristic (or baseball metric) called \"stolen base success rate (SBSR)\" defined as the number of stolen bases (SB) divided by the number of caught stealing (CS). (Of course, there are, for example, many players who never attempted to steal a single base, so there are no caught stealing. But let's not get too serious about this new metric.) For this, the following line can be quite useful."
   ]
  },
  {
   "cell_type": "code",
   "execution_count": 26,
   "metadata": {
    "colab": {
     "base_uri": "https://localhost:8080/"
    },
    "id": "2YkMnrAGNZ3k",
    "outputId": "28936b20-d7e2-40ed-c77f-c90ece0fbf0a"
   },
   "outputs": [
    {
     "name": "stdout",
     "output_type": "stream",
     "text": [
      "+---------+------+-----+------+----+---+---------+---+---+---+---+---+---+---+---+---+---+---+----+---+---+---+----+-----+------------------+\n",
      "| playerID|yearID|stint|teamID|lgID|  G|G_batting| AB|  R|  H| 2B| 3B| HR|RBI| SB| CS| BB| SO| IBB|HBP| SH| SF|GIDP|G_old|              SBSR|\n",
      "+---------+------+-----+------+----+---+---------+---+---+---+---+---+---+---+---+---+---+---+----+---+---+---+----+-----+------------------+\n",
      "|aardsda01|  2004|    1|   SFN|  NL| 11|     NULL|  0|  0|  0|  0|  0|  0|  0|  0|  0|  0|  0|   0|  0|  0|  0|   0| NULL|              NULL|\n",
      "|aardsda01|  2006|    1|   CHN|  NL| 45|     NULL|  2|  0|  0|  0|  0|  0|  0|  0|  0|  0|  0|   0|  0|  1|  0|   0| NULL|              NULL|\n",
      "|aardsda01|  2007|    1|   CHA|  AL| 25|     NULL|  0|  0|  0|  0|  0|  0|  0|  0|  0|  0|  0|   0|  0|  0|  0|   0| NULL|              NULL|\n",
      "|aardsda01|  2008|    1|   BOS|  AL| 47|     NULL|  1|  0|  0|  0|  0|  0|  0|  0|  0|  0|  1|   0|  0|  0|  0|   0| NULL|              NULL|\n",
      "|aardsda01|  2009|    1|   SEA|  AL| 73|     NULL|  0|  0|  0|  0|  0|  0|  0|  0|  0|  0|  0|   0|  0|  0|  0|   0| NULL|              NULL|\n",
      "|aardsda01|  2010|    1|   SEA|  AL| 53|     NULL|  0|  0|  0|  0|  0|  0|  0|  0|  0|  0|  0|   0|  0|  0|  0|   0| NULL|              NULL|\n",
      "|aardsda01|  2012|    1|   NYA|  AL|  1|     NULL|  0|  0|  0|  0|  0|  0|  0|  0|  0|  0|  0|   0|  0|  0|  0|   0| NULL|              NULL|\n",
      "|aardsda01|  2013|    1|   NYN|  NL| 43|     NULL|  0|  0|  0|  0|  0|  0|  0|  0|  0|  0|  0|   0|  0|  0|  0|   0| NULL|              NULL|\n",
      "|aardsda01|  2015|    1|   ATL|  NL| 33|     NULL|  1|  0|  0|  0|  0|  0|  0|  0|  0|  0|  1|   0|  0|  0|  0|   0| NULL|              NULL|\n",
      "|aaronha01|  1954|    1|   ML1|  NL|122|     NULL|468| 58|131| 27|  6| 13| 69|  2|  2| 28| 39|NULL|  3|  6|  4|  13| NULL|               1.0|\n",
      "|aaronha01|  1955|    1|   ML1|  NL|153|     NULL|602|105|189| 37|  9| 27|106|  3|  1| 49| 61|   5|  3|  7|  4|  20| NULL|               3.0|\n",
      "|aaronha01|  1956|    1|   ML1|  NL|153|     NULL|609|106|200| 34| 14| 26| 92|  2|  4| 37| 54|   6|  2|  5|  7|  21| NULL|               0.5|\n",
      "|aaronha01|  1957|    1|   ML1|  NL|151|     NULL|615|118|198| 27|  6| 44|132|  1|  1| 57| 58|  15|  0|  0|  3|  13| NULL|               1.0|\n",
      "|aaronha01|  1958|    1|   ML1|  NL|153|     NULL|601|109|196| 34|  4| 30| 95|  4|  1| 59| 49|  16|  1|  0|  3|  21| NULL|               4.0|\n",
      "|aaronha01|  1959|    1|   ML1|  NL|154|     NULL|629|116|223| 46|  7| 39|123|  8|  0| 51| 54|  17|  4|  0|  9|  19| NULL|              NULL|\n",
      "|aaronha01|  1960|    1|   ML1|  NL|153|     NULL|590|102|172| 20| 11| 40|126| 16|  7| 60| 63|  13|  2|  0| 12|   8| NULL|2.2857142857142856|\n",
      "|aaronha01|  1961|    1|   ML1|  NL|155|     NULL|603|115|197| 39| 10| 34|120| 21|  9| 56| 64|  20|  2|  1|  9|  16| NULL|2.3333333333333335|\n",
      "|aaronha01|  1962|    1|   ML1|  NL|156|     NULL|592|127|191| 28|  6| 45|128| 15|  7| 66| 73|  14|  3|  0|  6|  14| NULL| 2.142857142857143|\n",
      "|aaronha01|  1963|    1|   ML1|  NL|161|     NULL|631|121|201| 29|  4| 44|130| 31|  5| 78| 94|  18|  0|  0|  5|  11| NULL|               6.2|\n",
      "|aaronha01|  1964|    1|   ML1|  NL|145|     NULL|570|103|187| 30|  2| 24| 95| 22|  4| 62| 46|   9|  0|  0|  2|  22| NULL|               5.5|\n",
      "+---------+------+-----+------+----+---+---------+---+---+---+---+---+---+---+---+---+---+---+----+---+---+---+----+-----+------------------+\n",
      "only showing top 20 rows\n",
      "\n"
     ]
    }
   ],
   "source": [
    "df.withColumn('SBSR', df['SB']/df['CS']).show()"
   ]
  },
  {
   "attachments": {},
   "cell_type": "markdown",
   "metadata": {
    "id": "f06DPyEPNrlN"
   },
   "source": [
    "First, `withColumn(<column name>, <value>)` is a method to create a new column. The `df.withColumn()` function creates a new DataFrame that has the same content as the original DataFrame `df`, but with an added column `<column name>`. Note that it does not change the original DataFrame `df`.\n",
    "\n",
    "For the value, you can pass a reference to a column to be added. Of course, the column must have the same number of rows to be added to the existing DataFrame. One interesting thing here is that algebraic operations can be performed directly on the columns.\n",
    "\n",
    "df['SB'] + df['CS'] + df['CS']\n",
    "\n",
    "df['SB'] * df['CS']\n",
    "\n",
    "df['SB'] / df['CS']\n",
    "\n",
    "At this point, you will already notice that column objects have something special. At the beginning of this lab tutorial, I have emphasized that columnar objects must be distinguished from DataFrames. I have also mentioned that column objects are sort of pointers or references to the corresponding column in the DataFrame.\n",
    "\n",
    "Well, to be more precise, column objects are essentially containers for queries. For example, a few lines ago, we saw that a Boolean operation like this `(df['yearID'] >= 2015) & (df['HR'] > 20) & (df['SB'] > 20)` creates a column object like this `Column<b'((yearID >= 2015) AND (HR > 20)) AND (SB > 20))>`. Just above, we also saw that columns could be added, subtracted, multiplied and divided and the result was something like this `Column<b'(SB / CS)'>`.\n",
    "\n",
    "In fact, what happens here is that while we execute arithmetic/boolean operations on the columns, PySpark stores those operations as a query string in a column object. It doesn't actually execute real numeric operations at this point. So nothing is actually added, multiplied, or compared. Instead, the moment the column object is passed to a DataFrame method (e.g., `where()`, `withColumn()'), PySpark converts the query string into internally optimized Spark code and executes the query.\n",
    "\n",
    "This is an important Spark design principle that you should understand. The choice behind this is actually quite obvious. It's obviously not a good idea to run computations every time a user enters code, because there can be many data entries in a big data problem and the data is typically distributed across multiple DataNodes. Instead, it is more beneficial to collect all queries until the end, and run them only once when the user requests to get actual results. Furthermore, when this happens, Spark optimizes queries in a way that is compatible with the database system it is running on (in our case, Hadoop), which is a secret recipe behind efficient distributed computing.\n",
    "\n",
    "By understanding how PySpark handles queries, we have just opened a treasure chest of many tools. One of them is a set of mathematical functions that are predefined in PySpark. These functions can be loaded by importing the module `pyspark.sql.functions`.\n",
    "\n",
    "\n",
    "With this, you can easily define new columns with custom processed values. Although I will not list the complete and exhaustive list of functions here, the following example will give you an idea of how these functions could be used. (For a complete list of functions, see https://spark.apache.org/docs/latest/api/python/pyspark.sql.html#module-pyspark.sql.functions)"
   ]
  },
  {
   "cell_type": "code",
   "execution_count": 27,
   "metadata": {
    "colab": {
     "base_uri": "https://localhost:8080/"
    },
    "id": "D-ob3pQjOIdv",
    "outputId": "1a7f7fcd-91bd-413a-be49-1db90b2a3cd6"
   },
   "outputs": [
    {
     "name": "stdout",
     "output_type": "stream",
     "text": [
      "+---------+------+-----+------+----+---+---------+---+---+---+---+---+---+---+---+---+---+---+----+---+---+---+----+-----+--------------------+\n",
      "| playerID|yearID|stint|teamID|lgID|  G|G_batting| AB|  R|  H| 2B| 3B| HR|RBI| SB| CS| BB| SO| IBB|HBP| SH| SF|GIDP|G_old|   exp(HR) + cos(SB)|\n",
      "+---------+------+-----+------+----+---+---------+---+---+---+---+---+---+---+---+---+---+---+----+---+---+---+----+-----+--------------------+\n",
      "|aardsda01|  2004|    1|   SFN|  NL| 11|     NULL|  0|  0|  0|  0|  0|  0|  0|  0|  0|  0|  0|   0|  0|  0|  0|   0| NULL|                 2.0|\n",
      "|aardsda01|  2006|    1|   CHN|  NL| 45|     NULL|  2|  0|  0|  0|  0|  0|  0|  0|  0|  0|  0|   0|  0|  1|  0|   0| NULL|                 2.0|\n",
      "|aardsda01|  2007|    1|   CHA|  AL| 25|     NULL|  0|  0|  0|  0|  0|  0|  0|  0|  0|  0|  0|   0|  0|  0|  0|   0| NULL|                 2.0|\n",
      "|aardsda01|  2008|    1|   BOS|  AL| 47|     NULL|  1|  0|  0|  0|  0|  0|  0|  0|  0|  0|  1|   0|  0|  0|  0|   0| NULL|                 2.0|\n",
      "|aardsda01|  2009|    1|   SEA|  AL| 73|     NULL|  0|  0|  0|  0|  0|  0|  0|  0|  0|  0|  0|   0|  0|  0|  0|   0| NULL|                 2.0|\n",
      "|aardsda01|  2010|    1|   SEA|  AL| 53|     NULL|  0|  0|  0|  0|  0|  0|  0|  0|  0|  0|  0|   0|  0|  0|  0|   0| NULL|                 2.0|\n",
      "|aardsda01|  2012|    1|   NYA|  AL|  1|     NULL|  0|  0|  0|  0|  0|  0|  0|  0|  0|  0|  0|   0|  0|  0|  0|   0| NULL|                 2.0|\n",
      "|aardsda01|  2013|    1|   NYN|  NL| 43|     NULL|  0|  0|  0|  0|  0|  0|  0|  0|  0|  0|  0|   0|  0|  0|  0|   0| NULL|                 2.0|\n",
      "|aardsda01|  2015|    1|   ATL|  NL| 33|     NULL|  1|  0|  0|  0|  0|  0|  0|  0|  0|  0|  1|   0|  0|  0|  0|   0| NULL|                 2.0|\n",
      "|aaronha01|  1954|    1|   ML1|  NL|122|     NULL|468| 58|131| 27|  6| 13| 69|  2|  2| 28| 39|NULL|  3|  6|  4|  13| NULL|   6.972909262383508|\n",
      "|aaronha01|  1955|    1|   ML1|  NL|153|     NULL|602|105|189| 37|  9| 27|106|  3|  1| 49| 61|   5|  3|  7|  4|  20| NULL|   19.09554442658722|\n",
      "|aaronha01|  1956|    1|   ML1|  NL|153|     NULL|609|106|200| 34| 14| 26| 92|  2|  4| 37| 54|   6|  2|  5|  7|  21| NULL|   6.972909262383508|\n",
      "|aaronha01|  1957|    1|   ML1|  NL|151|     NULL|615|118|198| 27|  6| 44|132|  1|  1| 57| 58|  15|  0|  0|  3|  13| NULL|  3.2585841343271853|\n",
      "|aaronha01|  1958|    1|   ML1|  NL|153|     NULL|601|109|196| 34|  4| 30| 95|  4|  1| 59| 49|  16|  1|  0|  3|  21| NULL|  53.944506412280624|\n",
      "|aaronha01|  1959|    1|   ML1|  NL|154|     NULL|629|116|223| 46|  7| 39|123|  8|  0| 51| 54|  17|  4|  0|  9|  19| NULL|  2980.8124870079196|\n",
      "|aaronha01|  1960|    1|   ML1|  NL|153|     NULL|590|102|172| 20| 11| 40|126| 16|  7| 60| 63|  13|  2|  0| 12|   8| NULL|   8886109.562848391|\n",
      "|aaronha01|  1961|    1|   ML1|  NL|155|     NULL|603|115|197| 39| 10| 34|120| 21|  9| 56| 64|  20|  2|  1|  9|  16| NULL|1.3188157339354854E9|\n",
      "|aaronha01|  1962|    1|   ML1|  NL|156|     NULL|592|127|191| 28|  6| 45|128| 15|  7| 66| 73|  14|  3|  0|  6|  14| NULL|   3269016.612784198|\n",
      "|aaronha01|  1963|    1|   ML1|  NL|161|     NULL|631|121|201| 29|  4| 44|130| 31|  5| 78| 94|  18|  0|  0|  5|  11| NULL|2.904884966524834E13|\n",
      "|aaronha01|  1964|    1|   ML1|  NL|145|     NULL|570|103|187| 30|  2| 24| 95| 22|  4| 62| 46|   9|  0|  0|  2|  22| NULL| 3.584912845131631E9|\n",
      "+---------+------+-----+------+----+---+---------+---+---+---+---+---+---+---+---+---+---+---+----+---+---+---+----+-----+--------------------+\n",
      "only showing top 20 rows\n",
      "\n"
     ]
    }
   ],
   "source": [
    "import pyspark.sql.functions as F\n",
    "F.exp(df['SB']) + F.cos(df['SB'])\n",
    "df.withColumn('exp(HR) + cos(SB)', F.exp(df['SB']) + F.cos(df['SB'])).show()"
   ]
  },
  {
   "attachments": {},
   "cell_type": "markdown",
   "metadata": {
    "id": "5r9xZRPPY-p1"
   },
   "source": [
    "### Sorting"
   ]
  },
  {
   "attachments": {},
   "cell_type": "markdown",
   "metadata": {
    "id": "AOxVQqM3ZNJ0"
   },
   "source": [
    "Once it is clear how queries work in PySpark, the rest will be easy. For example, a DataFrame function that sorts rows according to a sort criterion is `sort()`. Meanwhile, a query function to define the ascending/descending order is `asc()`/`desc()`. With this, we can create a list of the top 10 MLB hitters in homers by season."
   ]
  },
  {
   "cell_type": "code",
   "execution_count": 28,
   "metadata": {
    "id": "0yAw53lPZO0h"
   },
   "outputs": [
    {
     "name": "stdout",
     "output_type": "stream",
     "text": [
      "+---------+------+-----+------+----+---+---------+---+---+---+---+---+---+---+---+---+---+---+----+---+---+----+----+-----+\n",
      "| playerID|yearID|stint|teamID|lgID|  G|G_batting| AB|  R|  H| 2B| 3B| HR|RBI| SB| CS| BB| SO| IBB|HBP| SH|  SF|GIDP|G_old|\n",
      "+---------+------+-----+------+----+---+---------+---+---+---+---+---+---+---+---+---+---+---+----+---+---+----+----+-----+\n",
      "|bondsba01|  2001|    1|   SFN|  NL|153|     NULL|476|129|156| 32|  2| 73|137| 13|  3|177| 93|  35|  9|  0|   2|   5| NULL|\n",
      "|mcgwima01|  1998|    1|   SLN|  NL|155|     NULL|509|130|152| 21|  0| 70|147|  1|  0|162|155|  28|  6|  0|   4|   8| NULL|\n",
      "| sosasa01|  1998|    1|   CHN|  NL|159|     NULL|643|134|198| 20|  0| 66|158| 18|  9| 73|171|  14|  1|  0|   5|  20| NULL|\n",
      "|mcgwima01|  1999|    1|   SLN|  NL|153|     NULL|521|118|145| 21|  1| 65|147|  0|  0|133|141|  21|  2|  0|   5|  12| NULL|\n",
      "| sosasa01|  2001|    1|   CHN|  NL|160|     NULL|577|146|189| 34|  5| 64|160|  0|  2|116|153|  37|  6|  0|  12|   6| NULL|\n",
      "| sosasa01|  1999|    1|   CHN|  NL|162|     NULL|625|114|180| 24|  2| 63|141|  7|  8| 78|171|   8|  3|  0|   6|  17| NULL|\n",
      "|judgeaa01|  2022|    1|   NYA|  AL|157|     NULL|570|133|177| 28|  0| 62|131| 16|  3|111|175|  19|  6|  0|   5|  14| NULL|\n",
      "|marisro01|  1961|    1|   NYA|  AL|161|     NULL|590|132|159| 16|  4| 61|142|  0|  0| 94| 67|   0|  7|  0|   7|  16| NULL|\n",
      "| ruthba01|  1927|    1|   NYA|  AL|151|     NULL|540|158|192| 29|  8| 60|164|  7|  6|137| 89|NULL|  0| 14|NULL|NULL| NULL|\n",
      "| ruthba01|  1921|    1|   NYA|  AL|152|     NULL|540|177|204| 44| 16| 59|171| 17| 13|145| 81|NULL|  4|  4|NULL|NULL| NULL|\n",
      "+---------+------+-----+------+----+---+---------+---+---+---+---+---+---+---+---+---+---+---+----+---+---+----+----+-----+\n",
      "\n"
     ]
    }
   ],
   "source": [
    "df.sort(df['hr'].desc()).limit(10).show()"
   ]
  },
  {
   "attachments": {},
   "cell_type": "markdown",
   "metadata": {
    "id": "xqPS3PPHZRhp"
   },
   "source": [
    "Multiple ranking conditions can also be specified. For example, the last two rows of the top 10 list has two players with 59 homeruns (HR). Suppose we want to sort them further by \"HR\", from low to high (ascending order). For this, the code below will do the job."
   ]
  },
  {
   "cell_type": "code",
   "execution_count": 29,
   "metadata": {
    "id": "4ZmX9tZ1ZXVm"
   },
   "outputs": [
    {
     "name": "stdout",
     "output_type": "stream",
     "text": [
      "+---------+------+-----+------+----+---+---------+---+---+---+---+---+---+---+---+---+---+---+----+---+---+----+----+-----+\n",
      "| playerID|yearID|stint|teamID|lgID|  G|G_batting| AB|  R|  H| 2B| 3B| HR|RBI| SB| CS| BB| SO| IBB|HBP| SH|  SF|GIDP|G_old|\n",
      "+---------+------+-----+------+----+---+---------+---+---+---+---+---+---+---+---+---+---+---+----+---+---+----+----+-----+\n",
      "|bondsba01|  2001|    1|   SFN|  NL|153|     NULL|476|129|156| 32|  2| 73|137| 13|  3|177| 93|  35|  9|  0|   2|   5| NULL|\n",
      "|mcgwima01|  1998|    1|   SLN|  NL|155|     NULL|509|130|152| 21|  0| 70|147|  1|  0|162|155|  28|  6|  0|   4|   8| NULL|\n",
      "| sosasa01|  1998|    1|   CHN|  NL|159|     NULL|643|134|198| 20|  0| 66|158| 18|  9| 73|171|  14|  1|  0|   5|  20| NULL|\n",
      "|mcgwima01|  1999|    1|   SLN|  NL|153|     NULL|521|118|145| 21|  1| 65|147|  0|  0|133|141|  21|  2|  0|   5|  12| NULL|\n",
      "| sosasa01|  2001|    1|   CHN|  NL|160|     NULL|577|146|189| 34|  5| 64|160|  0|  2|116|153|  37|  6|  0|  12|   6| NULL|\n",
      "| sosasa01|  1999|    1|   CHN|  NL|162|     NULL|625|114|180| 24|  2| 63|141|  7|  8| 78|171|   8|  3|  0|   6|  17| NULL|\n",
      "|judgeaa01|  2022|    1|   NYA|  AL|157|     NULL|570|133|177| 28|  0| 62|131| 16|  3|111|175|  19|  6|  0|   5|  14| NULL|\n",
      "|marisro01|  1961|    1|   NYA|  AL|161|     NULL|590|132|159| 16|  4| 61|142|  0|  0| 94| 67|   0|  7|  0|   7|  16| NULL|\n",
      "| ruthba01|  1927|    1|   NYA|  AL|151|     NULL|540|158|192| 29|  8| 60|164|  7|  6|137| 89|NULL|  0| 14|NULL|NULL| NULL|\n",
      "|stantmi03|  2017|    1|   MIA|  NL|159|     NULL|597|123|168| 32|  0| 59|132|  2|  2| 85|163|  13|  7|  0|   3|  13| NULL|\n",
      "+---------+------+-----+------+----+---+---------+---+---+---+---+---+---+---+---+---+---+---+----+---+---+----+----+-----+\n",
      "\n"
     ]
    }
   ],
   "source": [
    "df.sort(df['hr'].desc(), df['rbi'].asc()).limit(10).show()"
   ]
  },
  {
   "attachments": {},
   "cell_type": "markdown",
   "metadata": {
    "id": "2Pu1OMDLZagd"
   },
   "source": [
    "Notice that the order has now been changed, so that when the \"HR\" is the same, the entries are sorted based on the ascending order of the \"RBI\"."
   ]
  },
  {
   "attachments": {},
   "cell_type": "markdown",
   "metadata": {
    "id": "iP7oPIQDaU17"
   },
   "source": [
    "### Joining tables"
   ]
  },
  {
   "attachments": {},
   "cell_type": "markdown",
   "metadata": {
    "id": "6DKnymsQaWk0"
   },
   "source": [
    "It is quite normal to store large data in different tables. For example, an online shopping mall may have separate tables of customer data, product data, inventory data, etc. In our baseball example there are also multiple database files such as player data, batting data, pitching data, salary data, etc. Therefore, knowing how to retrieve information from multiple DataFrames is critically important.\n",
    "\n",
    "To see how this can be done in PySpark, let's now read two different csv files, \"Batting.csv\" and \"People.csv\". In fact, we have already downloaded these two files from the previous examples, so we can access them directly."
   ]
  },
  {
   "cell_type": "code",
   "execution_count": 32,
   "metadata": {
    "id": "hJa1ULLMaaK8"
   },
   "outputs": [],
   "source": [
    "df_batting = spark.read.csv('data/Batting.csv', header=True, inferSchema=True)\n",
    "df_people = spark.read.csv('data/People.csv', header=True, inferSchema=True)"
   ]
  },
  {
   "attachments": {},
   "cell_type": "markdown",
   "metadata": {
    "id": "4yfUC-ugahLW"
   },
   "source": [
    "Joining two DataFrames is as simple as `fd1.join(df2)`."
   ]
  },
  {
   "cell_type": "code",
   "execution_count": 33,
   "metadata": {},
   "outputs": [
    {
     "name": "stdout",
     "output_type": "stream",
     "text": [
      "+---------+------+-----+------+----+---+---------+---+---+---+---+---+---+---+---+---+---+---+---+---+---+---+----+-----+---+---------+---------+----------+--------+------------+------------+----------+---------+----------+--------+------------+----------+---------------+---------+-----------+----------------+------+------+----+------+----------+---------+----------+--------+\n",
      "| playerID|yearID|stint|teamID|lgID|  G|G_batting| AB|  R|  H| 2B| 3B| HR|RBI| SB| CS| BB| SO|IBB|HBP| SH| SF|GIDP|G_old| ID| playerID|birthYear|birthMonth|birthDay|   birthCity|birthCountry|birthState|deathYear|deathMonth|deathDay|deathCountry|deathState|      deathCity|nameFirst|   nameLast|       nameGiven|weight|height|bats|throws|     debut|  bbrefID| finalGame| retroID|\n",
      "+---------+------+-----+------+----+---+---------+---+---+---+---+---+---+---+---+---+---+---+---+---+---+---+----+-----+---+---------+---------+----------+--------+------------+------------+----------+---------+----------+--------+------------+----------+---------------+---------+-----------+----------------+------+------+----+------+----------+---------+----------+--------+\n",
      "|aardsda01|  2004|    1|   SFN|  NL| 11|     NULL|  0|  0|  0|  0|  0|  0|  0|  0|  0|  0|  0|  0|  0|  0|  0|   0| NULL|  1|aardsda01|     1981|        12|      27|      Denver|         USA|        CO|     NULL|      NULL|    NULL|        NULL|      NULL|           NULL|    David|    Aardsma|     David Allan|   215|    75|   R|     R|2004-04-06|aardsda01|2015-08-23|aardd001|\n",
      "|aardsda01|  2004|    1|   SFN|  NL| 11|     NULL|  0|  0|  0|  0|  0|  0|  0|  0|  0|  0|  0|  0|  0|  0|  0|   0| NULL|  2|aaronha01|     1934|         2|       5|      Mobile|         USA|        AL|     2021|         1|      22|         USA|        GA|        Atlanta|     Hank|      Aaron|     Henry Louis|   180|    72|   R|     R|1954-04-13|aaronha01|1976-10-03|aaroh101|\n",
      "|aardsda01|  2004|    1|   SFN|  NL| 11|     NULL|  0|  0|  0|  0|  0|  0|  0|  0|  0|  0|  0|  0|  0|  0|  0|   0| NULL|  3|aaronto01|     1939|         8|       5|      Mobile|         USA|        AL|     1984|         8|      16|         USA|        GA|        Atlanta|   Tommie|      Aaron|      Tommie Lee|   190|    75|   R|     R|1962-04-10|aaronto01|1971-09-26|aarot101|\n",
      "|aardsda01|  2004|    1|   SFN|  NL| 11|     NULL|  0|  0|  0|  0|  0|  0|  0|  0|  0|  0|  0|  0|  0|  0|  0|   0| NULL|  4| aasedo01|     1954|         9|       8|      Orange|         USA|        CA|     NULL|      NULL|    NULL|        NULL|      NULL|           NULL|      Don|       Aase|  Donald William|   190|    75|   R|     R|1977-07-26| aasedo01|1990-10-03|aased001|\n",
      "|aardsda01|  2004|    1|   SFN|  NL| 11|     NULL|  0|  0|  0|  0|  0|  0|  0|  0|  0|  0|  0|  0|  0|  0|  0|   0| NULL|  5| abadan01|     1972|         8|      25|  Palm Beach|         USA|        FL|     NULL|      NULL|    NULL|        NULL|      NULL|           NULL|     Andy|       Abad|   Fausto Andres|   184|    73|   L|     L|2001-09-10| abadan01|2006-04-13|abada001|\n",
      "|aardsda01|  2004|    1|   SFN|  NL| 11|     NULL|  0|  0|  0|  0|  0|  0|  0|  0|  0|  0|  0|  0|  0|  0|  0|   0| NULL|  6| abadfe01|     1985|        12|      17|   La Romana|        D.R.| La Romana|     NULL|      NULL|    NULL|        NULL|      NULL|           NULL| Fernando|       Abad|Fernando Antonio|   235|    74|   L|     L|2010-07-28| abadfe01|2021-10-01|abadf001|\n",
      "|aardsda01|  2004|    1|   SFN|  NL| 11|     NULL|  0|  0|  0|  0|  0|  0|  0|  0|  0|  0|  0|  0|  0|  0|  0|   0| NULL|  7|abadijo01|     1850|        11|       4|Philadelphia|         USA|        PA|     1905|         5|      17|         USA|        NJ|      Pemberton|     John|     Abadie|         John W.|   192|    72|   R|     R|1875-04-26|abadijo01|1875-06-10|abadj101|\n",
      "|aardsda01|  2004|    1|   SFN|  NL| 11|     NULL|  0|  0|  0|  0|  0|  0|  0|  0|  0|  0|  0|  0|  0|  0|  0|   0| NULL|  8|abbated01|     1877|         4|      15|     Latrobe|         USA|        PA|     1957|         1|       6|         USA|        FL|Fort Lauderdale|       Ed|Abbaticchio|    Edward James|   170|    71|   R|     R|1897-09-04|abbated01|1910-09-15|abbae101|\n",
      "|aardsda01|  2004|    1|   SFN|  NL| 11|     NULL|  0|  0|  0|  0|  0|  0|  0|  0|  0|  0|  0|  0|  0|  0|  0|   0| NULL|  9|abbeybe01|     1869|        11|      11|       Essex|         USA|        VT|     1962|         6|      11|         USA|        VT|     Colchester|     Bert|      Abbey|       Bert Wood|   175|    71|   R|     R|1892-06-14|abbeybe01|1896-09-23|abbeb101|\n",
      "|aardsda01|  2004|    1|   SFN|  NL| 11|     NULL|  0|  0|  0|  0|  0|  0|  0|  0|  0|  0|  0|  0|  0|  0|  0|   0| NULL| 10|abbeych01|     1866|        10|      14|  Falls City|         USA|        NE|     1926|         4|      27|         USA|        CA|  San Francisco|  Charlie|      Abbey|      Charles S.|   169|    68|   L|     L|1893-08-16|abbeych01|1897-08-19|abbec101|\n",
      "|aardsda01|  2004|    1|   SFN|  NL| 11|     NULL|  0|  0|  0|  0|  0|  0|  0|  0|  0|  0|  0|  0|  0|  0|  0|   0| NULL| 11|abbotco01|     1995|         9|      20|   San Diego|         USA|        CA|     NULL|      NULL|    NULL|        NULL|      NULL|           NULL|     Cory|     Abbott|      Cory James|   220|    74|   R|     R|2021-06-05|abbotco01|2022-10-04|abboc001|\n",
      "|aardsda01|  2004|    1|   SFN|  NL| 11|     NULL|  0|  0|  0|  0|  0|  0|  0|  0|  0|  0|  0|  0|  0|  0|  0|   0| NULL| 12|abbotda01|     1862|         3|      16|     Portage|         USA|        OH|     1930|         2|      13|         USA|        MI|    Ottawa Lake|      Dan|     Abbott|Leander Franklin|   190|    71|   R|     R|1890-04-19|abbotda01|1890-05-23|abbod101|\n",
      "|aardsda01|  2004|    1|   SFN|  NL| 11|     NULL|  0|  0|  0|  0|  0|  0|  0|  0|  0|  0|  0|  0|  0|  0|  0|   0| NULL| 13|abbotfr01|     1874|        10|      22|  Versailles|         USA|        OH|     1935|         6|      11|         USA|        CA|    Los Angeles|     Fred|     Abbott| Harry Frederick|   180|    70|   R|     R|1903-04-25|abbotfr01|1905-09-20|abbof101|\n",
      "|aardsda01|  2004|    1|   SFN|  NL| 11|     NULL|  0|  0|  0|  0|  0|  0|  0|  0|  0|  0|  0|  0|  0|  0|  0|   0| NULL| 14|abbotgl01|     1951|         2|      16| Little Rock|         USA|        AR|     NULL|      NULL|    NULL|        NULL|      NULL|           NULL|    Glenn|     Abbott|   William Glenn|   200|    78|   R|     R|1973-07-29|abbotgl01|1984-08-08|abbog001|\n",
      "|aardsda01|  2004|    1|   SFN|  NL| 11|     NULL|  0|  0|  0|  0|  0|  0|  0|  0|  0|  0|  0|  0|  0|  0|  0|   0| NULL| 15|abbotje01|     1972|         8|      17|     Atlanta|         USA|        GA|     NULL|      NULL|    NULL|        NULL|      NULL|           NULL|     Jeff|     Abbott| Jeffrey William|   190|    74|   R|     L|1997-06-10|abbotje01|2001-09-29|abboj002|\n",
      "|aardsda01|  2004|    1|   SFN|  NL| 11|     NULL|  0|  0|  0|  0|  0|  0|  0|  0|  0|  0|  0|  0|  0|  0|  0|   0| NULL| 16|abbotji01|     1967|         9|      19|       Flint|         USA|        MI|     NULL|      NULL|    NULL|        NULL|      NULL|           NULL|      Jim|     Abbott|   James Anthony|   200|    75|   L|     L|1989-04-08|abbotji01|1999-07-21|abboj001|\n",
      "|aardsda01|  2004|    1|   SFN|  NL| 11|     NULL|  0|  0|  0|  0|  0|  0|  0|  0|  0|  0|  0|  0|  0|  0|  0|   0| NULL| 17|abbotku01|     1969|         6|       2|  Zanesville|         USA|        OH|     NULL|      NULL|    NULL|        NULL|      NULL|           NULL|     Kurt|     Abbott|     Kurt Thomas|   180|    71|   R|     R|1993-09-07|abbotku01|2001-04-13|abbok002|\n",
      "|aardsda01|  2004|    1|   SFN|  NL| 11|     NULL|  0|  0|  0|  0|  0|  0|  0|  0|  0|  0|  0|  0|  0|  0|  0|   0| NULL| 18|abbotky01|     1968|         2|      18| Newburyport|         USA|        MA|     NULL|      NULL|    NULL|        NULL|      NULL|           NULL|     Kyle|     Abbott|   Lawrence Kyle|   200|    76|   L|     L|1991-09-10|abbotky01|1996-08-24|abbok001|\n",
      "|aardsda01|  2004|    1|   SFN|  NL| 11|     NULL|  0|  0|  0|  0|  0|  0|  0|  0|  0|  0|  0|  0|  0|  0|  0|   0| NULL| 19|abbotod01|     1886|         9|       5|   New Eagle|         USA|        PA|     1933|         4|      13|         USA|        DC|     Washington|      Ody|     Abbott|       Ody Cleon|   165|    69|   L|     R|1910-09-10|abbotod01|1910-10-15|abboo101|\n",
      "|aardsda01|  2004|    1|   SFN|  NL| 11|     NULL|  0|  0|  0|  0|  0|  0|  0|  0|  0|  0|  0|  0|  0|  0|  0|   0| NULL| 20|abbotpa01|     1967|         9|      15|    Van Nuys|         USA|        CA|     NULL|      NULL|    NULL|        NULL|      NULL|           NULL|     Paul|     Abbott|      Paul David|   185|    75|   R|     R|1990-08-21|abbotpa01|2004-08-07|abbop001|\n",
      "+---------+------+-----+------+----+---+---------+---+---+---+---+---+---+---+---+---+---+---+---+---+---+---+----+-----+---+---------+---------+----------+--------+------------+------------+----------+---------+----------+--------+------------+----------+---------------+---------+-----------+----------------+------+------+----+------+----------+---------+----------+--------+\n",
      "only showing top 20 rows\n",
      "\n"
     ]
    }
   ],
   "source": [
    "df_batting.join(df_people).show()"
   ]
  },
  {
   "attachments": {},
   "cell_type": "markdown",
   "metadata": {
    "id": "U4_Hb8wSa_-7"
   },
   "source": [
    "Of course, PySpark's `join()` function is not that smart, so if you try to get the actual result (remember that PySpark doesn't actually execute anything, but just accumulates queries, until you request the actual result), you should see an error:"
   ]
  },
  {
   "attachments": {},
   "cell_type": "markdown",
   "metadata": {
    "id": "6uUabvWwbNMn"
   },
   "source": [
    "The reason we see the above error is because the join operation is quite ambiguous. For example, `df_batting` and `df_people` have different number of rows and different entries. Therefore, there is no trivial way to join them.\n",
    "\n",
    "To do so, you will need to specify key values to join two tables. In our case, the `playerID`s are the ones we can use to connect the two databases."
   ]
  },
  {
   "cell_type": "code",
   "execution_count": 34,
   "metadata": {
    "colab": {
     "base_uri": "https://localhost:8080/"
    },
    "id": "YgV9U7V6bWTr",
    "outputId": "f5699cb4-4cb0-4036-cb40-4e592a1886bd"
   },
   "outputs": [
    {
     "name": "stdout",
     "output_type": "stream",
     "text": [
      "+---------+------+-----+------+----+---+---------+---+---+---+---+---+---+---+---+---+---+---+----+---+---+---+----+-----+---+---------+----------+--------+---------+------------+----------+---------+----------+--------+------------+----------+---------+---------+--------+-----------+------+------+----+------+----------+---------+----------+--------+\n",
      "| playerID|yearID|stint|teamID|lgID|  G|G_batting| AB|  R|  H| 2B| 3B| HR|RBI| SB| CS| BB| SO| IBB|HBP| SH| SF|GIDP|G_old| ID|birthYear|birthMonth|birthDay|birthCity|birthCountry|birthState|deathYear|deathMonth|deathDay|deathCountry|deathState|deathCity|nameFirst|nameLast|  nameGiven|weight|height|bats|throws|     debut|  bbrefID| finalGame| retroID|\n",
      "+---------+------+-----+------+----+---+---------+---+---+---+---+---+---+---+---+---+---+---+----+---+---+---+----+-----+---+---------+----------+--------+---------+------------+----------+---------+----------+--------+------------+----------+---------+---------+--------+-----------+------+------+----+------+----------+---------+----------+--------+\n",
      "|aardsda01|  2004|    1|   SFN|  NL| 11|     NULL|  0|  0|  0|  0|  0|  0|  0|  0|  0|  0|  0|   0|  0|  0|  0|   0| NULL|  1|     1981|        12|      27|   Denver|         USA|        CO|     NULL|      NULL|    NULL|        NULL|      NULL|     NULL|    David| Aardsma|David Allan|   215|    75|   R|     R|2004-04-06|aardsda01|2015-08-23|aardd001|\n",
      "|aardsda01|  2006|    1|   CHN|  NL| 45|     NULL|  2|  0|  0|  0|  0|  0|  0|  0|  0|  0|  0|   0|  0|  1|  0|   0| NULL|  1|     1981|        12|      27|   Denver|         USA|        CO|     NULL|      NULL|    NULL|        NULL|      NULL|     NULL|    David| Aardsma|David Allan|   215|    75|   R|     R|2004-04-06|aardsda01|2015-08-23|aardd001|\n",
      "|aardsda01|  2007|    1|   CHA|  AL| 25|     NULL|  0|  0|  0|  0|  0|  0|  0|  0|  0|  0|  0|   0|  0|  0|  0|   0| NULL|  1|     1981|        12|      27|   Denver|         USA|        CO|     NULL|      NULL|    NULL|        NULL|      NULL|     NULL|    David| Aardsma|David Allan|   215|    75|   R|     R|2004-04-06|aardsda01|2015-08-23|aardd001|\n",
      "|aardsda01|  2008|    1|   BOS|  AL| 47|     NULL|  1|  0|  0|  0|  0|  0|  0|  0|  0|  0|  1|   0|  0|  0|  0|   0| NULL|  1|     1981|        12|      27|   Denver|         USA|        CO|     NULL|      NULL|    NULL|        NULL|      NULL|     NULL|    David| Aardsma|David Allan|   215|    75|   R|     R|2004-04-06|aardsda01|2015-08-23|aardd001|\n",
      "|aardsda01|  2009|    1|   SEA|  AL| 73|     NULL|  0|  0|  0|  0|  0|  0|  0|  0|  0|  0|  0|   0|  0|  0|  0|   0| NULL|  1|     1981|        12|      27|   Denver|         USA|        CO|     NULL|      NULL|    NULL|        NULL|      NULL|     NULL|    David| Aardsma|David Allan|   215|    75|   R|     R|2004-04-06|aardsda01|2015-08-23|aardd001|\n",
      "|aardsda01|  2010|    1|   SEA|  AL| 53|     NULL|  0|  0|  0|  0|  0|  0|  0|  0|  0|  0|  0|   0|  0|  0|  0|   0| NULL|  1|     1981|        12|      27|   Denver|         USA|        CO|     NULL|      NULL|    NULL|        NULL|      NULL|     NULL|    David| Aardsma|David Allan|   215|    75|   R|     R|2004-04-06|aardsda01|2015-08-23|aardd001|\n",
      "|aardsda01|  2012|    1|   NYA|  AL|  1|     NULL|  0|  0|  0|  0|  0|  0|  0|  0|  0|  0|  0|   0|  0|  0|  0|   0| NULL|  1|     1981|        12|      27|   Denver|         USA|        CO|     NULL|      NULL|    NULL|        NULL|      NULL|     NULL|    David| Aardsma|David Allan|   215|    75|   R|     R|2004-04-06|aardsda01|2015-08-23|aardd001|\n",
      "|aardsda01|  2013|    1|   NYN|  NL| 43|     NULL|  0|  0|  0|  0|  0|  0|  0|  0|  0|  0|  0|   0|  0|  0|  0|   0| NULL|  1|     1981|        12|      27|   Denver|         USA|        CO|     NULL|      NULL|    NULL|        NULL|      NULL|     NULL|    David| Aardsma|David Allan|   215|    75|   R|     R|2004-04-06|aardsda01|2015-08-23|aardd001|\n",
      "|aardsda01|  2015|    1|   ATL|  NL| 33|     NULL|  1|  0|  0|  0|  0|  0|  0|  0|  0|  0|  1|   0|  0|  0|  0|   0| NULL|  1|     1981|        12|      27|   Denver|         USA|        CO|     NULL|      NULL|    NULL|        NULL|      NULL|     NULL|    David| Aardsma|David Allan|   215|    75|   R|     R|2004-04-06|aardsda01|2015-08-23|aardd001|\n",
      "|aaronha01|  1954|    1|   ML1|  NL|122|     NULL|468| 58|131| 27|  6| 13| 69|  2|  2| 28| 39|NULL|  3|  6|  4|  13| NULL|  2|     1934|         2|       5|   Mobile|         USA|        AL|     2021|         1|      22|         USA|        GA|  Atlanta|     Hank|   Aaron|Henry Louis|   180|    72|   R|     R|1954-04-13|aaronha01|1976-10-03|aaroh101|\n",
      "|aaronha01|  1955|    1|   ML1|  NL|153|     NULL|602|105|189| 37|  9| 27|106|  3|  1| 49| 61|   5|  3|  7|  4|  20| NULL|  2|     1934|         2|       5|   Mobile|         USA|        AL|     2021|         1|      22|         USA|        GA|  Atlanta|     Hank|   Aaron|Henry Louis|   180|    72|   R|     R|1954-04-13|aaronha01|1976-10-03|aaroh101|\n",
      "|aaronha01|  1956|    1|   ML1|  NL|153|     NULL|609|106|200| 34| 14| 26| 92|  2|  4| 37| 54|   6|  2|  5|  7|  21| NULL|  2|     1934|         2|       5|   Mobile|         USA|        AL|     2021|         1|      22|         USA|        GA|  Atlanta|     Hank|   Aaron|Henry Louis|   180|    72|   R|     R|1954-04-13|aaronha01|1976-10-03|aaroh101|\n",
      "|aaronha01|  1957|    1|   ML1|  NL|151|     NULL|615|118|198| 27|  6| 44|132|  1|  1| 57| 58|  15|  0|  0|  3|  13| NULL|  2|     1934|         2|       5|   Mobile|         USA|        AL|     2021|         1|      22|         USA|        GA|  Atlanta|     Hank|   Aaron|Henry Louis|   180|    72|   R|     R|1954-04-13|aaronha01|1976-10-03|aaroh101|\n",
      "|aaronha01|  1958|    1|   ML1|  NL|153|     NULL|601|109|196| 34|  4| 30| 95|  4|  1| 59| 49|  16|  1|  0|  3|  21| NULL|  2|     1934|         2|       5|   Mobile|         USA|        AL|     2021|         1|      22|         USA|        GA|  Atlanta|     Hank|   Aaron|Henry Louis|   180|    72|   R|     R|1954-04-13|aaronha01|1976-10-03|aaroh101|\n",
      "|aaronha01|  1959|    1|   ML1|  NL|154|     NULL|629|116|223| 46|  7| 39|123|  8|  0| 51| 54|  17|  4|  0|  9|  19| NULL|  2|     1934|         2|       5|   Mobile|         USA|        AL|     2021|         1|      22|         USA|        GA|  Atlanta|     Hank|   Aaron|Henry Louis|   180|    72|   R|     R|1954-04-13|aaronha01|1976-10-03|aaroh101|\n",
      "|aaronha01|  1960|    1|   ML1|  NL|153|     NULL|590|102|172| 20| 11| 40|126| 16|  7| 60| 63|  13|  2|  0| 12|   8| NULL|  2|     1934|         2|       5|   Mobile|         USA|        AL|     2021|         1|      22|         USA|        GA|  Atlanta|     Hank|   Aaron|Henry Louis|   180|    72|   R|     R|1954-04-13|aaronha01|1976-10-03|aaroh101|\n",
      "|aaronha01|  1961|    1|   ML1|  NL|155|     NULL|603|115|197| 39| 10| 34|120| 21|  9| 56| 64|  20|  2|  1|  9|  16| NULL|  2|     1934|         2|       5|   Mobile|         USA|        AL|     2021|         1|      22|         USA|        GA|  Atlanta|     Hank|   Aaron|Henry Louis|   180|    72|   R|     R|1954-04-13|aaronha01|1976-10-03|aaroh101|\n",
      "|aaronha01|  1962|    1|   ML1|  NL|156|     NULL|592|127|191| 28|  6| 45|128| 15|  7| 66| 73|  14|  3|  0|  6|  14| NULL|  2|     1934|         2|       5|   Mobile|         USA|        AL|     2021|         1|      22|         USA|        GA|  Atlanta|     Hank|   Aaron|Henry Louis|   180|    72|   R|     R|1954-04-13|aaronha01|1976-10-03|aaroh101|\n",
      "|aaronha01|  1963|    1|   ML1|  NL|161|     NULL|631|121|201| 29|  4| 44|130| 31|  5| 78| 94|  18|  0|  0|  5|  11| NULL|  2|     1934|         2|       5|   Mobile|         USA|        AL|     2021|         1|      22|         USA|        GA|  Atlanta|     Hank|   Aaron|Henry Louis|   180|    72|   R|     R|1954-04-13|aaronha01|1976-10-03|aaroh101|\n",
      "|aaronha01|  1964|    1|   ML1|  NL|145|     NULL|570|103|187| 30|  2| 24| 95| 22|  4| 62| 46|   9|  0|  0|  2|  22| NULL|  2|     1934|         2|       5|   Mobile|         USA|        AL|     2021|         1|      22|         USA|        GA|  Atlanta|     Hank|   Aaron|Henry Louis|   180|    72|   R|     R|1954-04-13|aaronha01|1976-10-03|aaroh101|\n",
      "+---------+------+-----+------+----+---+---------+---+---+---+---+---+---+---+---+---+---+---+----+---+---+---+----+-----+---+---------+----------+--------+---------+------------+----------+---------+----------+--------+------------+----------+---------+---------+--------+-----------+------+------+----+------+----------+---------+----------+--------+\n",
      "only showing top 20 rows\n",
      "\n"
     ]
    }
   ],
   "source": [
    "df_batting.join(df_people, on=['playerID']).show()"
   ]
  },
  {
   "attachments": {},
   "cell_type": "markdown",
   "metadata": {
    "id": "F2FQKpNNZh1n"
   },
   "source": [
    "### Agregations"
   ]
  },
  {
   "attachments": {},
   "cell_type": "markdown",
   "metadata": {
    "id": "qzNJEnKgZnW8"
   },
   "source": [
    "Now the last topic for this lab tutorial is data aggregation. For example, the batting statistics we have are based on each season. In other words, the same player may have multiple rows of his record if he played more than one season. Now suppose we are interested in career homerun records (i.e., how many homeruns a player has hit over his entire career), rather than season records. To do this, we need to be able to aggregate all the rows corresponding to each player by adding them together."
   ]
  },
  {
   "attachments": {},
   "cell_type": "markdown",
   "metadata": {
    "id": "qBEUWHj9Zs66"
   },
   "source": [
    "So far, we have learned how to order the values in a DataFrame"
   ]
  },
  {
   "cell_type": "code",
   "execution_count": 35,
   "metadata": {
    "colab": {
     "base_uri": "https://localhost:8080/"
    },
    "id": "8SNTKmZLZttW",
    "outputId": "affeaa37-c2f8-432a-bbd4-49b344dcc711"
   },
   "outputs": [
    {
     "name": "stdout",
     "output_type": "stream",
     "text": [
      "+---------+------+-----+------+----+---+---------+---+---+---+---+---+---+---+---+---+---+---+----+---+---+----+----+-----+\n",
      "| playerID|yearID|stint|teamID|lgID|  G|G_batting| AB|  R|  H| 2B| 3B| HR|RBI| SB| CS| BB| SO| IBB|HBP| SH|  SF|GIDP|G_old|\n",
      "+---------+------+-----+------+----+---+---------+---+---+---+---+---+---+---+---+---+---+---+----+---+---+----+----+-----+\n",
      "|bondsba01|  2001|    1|   SFN|  NL|153|     NULL|476|129|156| 32|  2| 73|137| 13|  3|177| 93|  35|  9|  0|   2|   5| NULL|\n",
      "|mcgwima01|  1998|    1|   SLN|  NL|155|     NULL|509|130|152| 21|  0| 70|147|  1|  0|162|155|  28|  6|  0|   4|   8| NULL|\n",
      "| sosasa01|  1998|    1|   CHN|  NL|159|     NULL|643|134|198| 20|  0| 66|158| 18|  9| 73|171|  14|  1|  0|   5|  20| NULL|\n",
      "|mcgwima01|  1999|    1|   SLN|  NL|153|     NULL|521|118|145| 21|  1| 65|147|  0|  0|133|141|  21|  2|  0|   5|  12| NULL|\n",
      "| sosasa01|  2001|    1|   CHN|  NL|160|     NULL|577|146|189| 34|  5| 64|160|  0|  2|116|153|  37|  6|  0|  12|   6| NULL|\n",
      "| sosasa01|  1999|    1|   CHN|  NL|162|     NULL|625|114|180| 24|  2| 63|141|  7|  8| 78|171|   8|  3|  0|   6|  17| NULL|\n",
      "|judgeaa01|  2022|    1|   NYA|  AL|157|     NULL|570|133|177| 28|  0| 62|131| 16|  3|111|175|  19|  6|  0|   5|  14| NULL|\n",
      "|marisro01|  1961|    1|   NYA|  AL|161|     NULL|590|132|159| 16|  4| 61|142|  0|  0| 94| 67|   0|  7|  0|   7|  16| NULL|\n",
      "| ruthba01|  1927|    1|   NYA|  AL|151|     NULL|540|158|192| 29|  8| 60|164|  7|  6|137| 89|NULL|  0| 14|NULL|NULL| NULL|\n",
      "| ruthba01|  1921|    1|   NYA|  AL|152|     NULL|540|177|204| 44| 16| 59|171| 17| 13|145| 81|NULL|  4|  4|NULL|NULL| NULL|\n",
      "+---------+------+-----+------+----+---+---------+---+---+---+---+---+---+---+---+---+---+---+----+---+---+----+----+-----+\n",
      "\n"
     ]
    }
   ],
   "source": [
    "df_batting.sort(df_batting['hr'].desc()).limit(10).show()"
   ]
  },
  {
   "attachments": {},
   "cell_type": "markdown",
   "metadata": {
    "id": "wBY5InZiZ3X9"
   },
   "source": [
    "To do this, we go to the first rows of the group by \"playerID\"."
   ]
  },
  {
   "cell_type": "code",
   "execution_count": 36,
   "metadata": {
    "colab": {
     "base_uri": "https://localhost:8080/"
    },
    "id": "CX5-MHTaZ4TX",
    "outputId": "b0d4565b-e298-4a2b-9282-389a4f33f065"
   },
   "outputs": [
    {
     "data": {
      "text/plain": [
       "GroupedData[grouping expressions: [playerid], value: [playerID: string, yearID: int ... 22 more fields], type: GroupBy]"
      ]
     },
     "execution_count": 36,
     "metadata": {},
     "output_type": "execute_result"
    }
   ],
   "source": [
    "df_batting.groupby('playerid')"
   ]
  },
  {
   "attachments": {},
   "cell_type": "markdown",
   "metadata": {
    "id": "TreLkpYzZ7ZS"
   },
   "source": [
    "This creates a grouped DataFrame where the rows are ready to be aggregated by the \"playerID\". Since we want the total number of homeruns in the race, the aggregation method of our choice is \"sum\"."
   ]
  },
  {
   "attachments": {},
   "cell_type": "markdown",
   "metadata": {
    "id": "ZwUYoCypZ_cv"
   },
   "source": [
    "As can be seen from the above, the `sum()` method creates a new DataFrame composed of aggregated column values. There are other aggregation methods such as `avg()`, `max()`, `min()`, etc., whose functions are quite self-explanatory. (For an exhaustive list, see https://spark.apache.org/docs/latest/api/python/pyspark.sql.html#pyspark.sql.GroupedData)."
   ]
  },
  {
   "cell_type": "code",
   "execution_count": 37,
   "metadata": {},
   "outputs": [
    {
     "name": "stdout",
     "output_type": "stream",
     "text": [
      "+---------+-----------+----------+------+--------------+-------+------+------+-------+-------+-------+--------+-------+-------+-------+-------+--------+--------+-------+-------+---------+\n",
      "| playerid|sum(yearID)|sum(stint)|sum(G)|sum(G_batting)|sum(AB)|sum(R)|sum(H)|sum(2B)|sum(3B)|sum(HR)|sum(RBI)|sum(SB)|sum(CS)|sum(BB)|sum(SO)|sum(IBB)|sum(HBP)|sum(SH)|sum(SF)|sum(GIDP)|\n",
      "+---------+-----------+----------+------+--------------+-------+------+------+-------+-------+-------+--------+-------+-------+-------+-------+--------+--------+-------+-------+---------+\n",
      "|adamsac01|      11661|         6|   302|          NULL|     99|     9|    12|      0|      0|      0|       2|      0|      0|      6|     14|       0|       0|      8|      0|        2|\n",
      "|alanirj01|       6059|         4|    15|          NULL|      2|     0|     1|      0|      0|      0|       1|      0|      0|      0|      1|       0|       0|      0|      0|        0|\n",
      "|albercy01|       1910|         1|     4|          NULL|      7|     0|     0|      0|      0|      0|       0|      0|   NULL|      2|      3|    NULL|       0|      1|   NULL|     NULL|\n",
      "|allisdo01|      22503|        14|   318|          NULL|   1407|   236|   382|     44|     10|      2|     139|      5|      2|     24|     44|    NULL|    NULL|   NULL|   NULL|        6|\n",
      "|ayraujo01|       1996|         1|     7|          NULL|      5|     0|     1|      0|      0|      0|       0|      0|      0|      0|      1|       0|       1|      0|      0|        1|\n",
      "|backebr01|      16044|         8|   153|          NULL|    133|    22|    34|      5|      2|      4|      16|      1|      0|     10|     48|       0|       2|     13|      0|        1|\n",
      "|bailest01|       3935|         2|    34|          NULL|     10|     0|     0|      0|      0|      0|       0|      0|      0|      1|      5|       0|       0|      0|      0|        0|\n",
      "|bakerfr02|       3940|         2|   125|          NULL|    353|    39|    82|     17|      4|      4|      38|      3|      4|     26|     68|       3|       2|      0|      3|        8|\n",
      "|barnefr02|       5875|         3|    21|          NULL|     10|     3|     1|      0|      0|      0|       0|      0|      1|      0|      3|       0|       0|      0|      0|        0|\n",
      "|batesde01|       1970|         1|    22|          NULL|     60|     1|     8|      2|      0|      0|       1|      0|      1|      6|     15|       1|       4|      0|      0|        2|\n",
      "|becanbu01|       5656|         3|    12|          NULL|     41|     3|    10|      0|      0|      0|       2|      0|   NULL|      1|      2|    NULL|       1|   NULL|   NULL|     NULL|\n",
      "|bosioch01|      21901|        11|   310|          NULL|      0|     0|     0|      0|      0|      0|       0|      0|      0|      0|      0|       0|       0|      0|      0|        0|\n",
      "| browsc01|       7981|         4|    59|          NULL|      1|     0|     0|      0|      0|      0|       0|      0|      0|      0|      1|       0|       0|      0|      0|        0|\n",
      "|butlebr01|      35808|        19|  2213|          NULL|   8180|  1359|  2375|    277|    131|     54|     578|    558|    257|   1129|    907|      23|      38|    147|     51|       62|\n",
      "|carpifr01|       3931|         2|    49|          NULL|      1|     0|     0|      0|      0|      0|       0|      0|      0|      0|      0|       0|       0|      0|      0|        0|\n",
      "|castada01|       8086|         4|    24|             0|      4|     0|     0|      0|      0|      0|       0|      0|      0|      0|      2|       0|       0|      1|      0|        0|\n",
      "| cobbal01|      24206|        12|   230|             0|     24|     0|     2|      1|      0|      0|       1|      0|      0|      0|      8|       0|       1|      1|      0|        1|\n",
      "|  coxbo01|       3937|         2|   220|          NULL|    628|    50|   141|     22|      2|      9|      58|      3|      3|     75|    126|      14|       6|      3|      7|       17|\n",
      "|crookto01|       3819|         2|    11|          NULL|     28|     3|     6|      2|      0|      0|       3|      1|   NULL|      3|      5|    NULL|       0|      2|   NULL|     NULL|\n",
      "|cuddymi01|      30120|        15|  1536|          NULL|   5488|   809|  1522|    333|     42|    197|     794|     75|     22|    527|   1101|      36|      49|      4|     34|      183|\n",
      "+---------+-----------+----------+------+--------------+-------+------+------+-------+-------+-------+--------+-------+-------+-------+-------+--------+--------+-------+-------+---------+\n",
      "only showing top 20 rows\n",
      "\n"
     ]
    }
   ],
   "source": [
    "df_batting.groupby('playerid').sum().show()"
   ]
  },
  {
   "attachments": {},
   "cell_type": "markdown",
   "metadata": {
    "id": "edTA6zST3Wr0"
   },
   "source": [
    "## SQL"
   ]
  },
  {
   "attachments": {},
   "cell_type": "markdown",
   "metadata": {
    "id": "BrpWT585YcHN"
   },
   "source": [
    "If you are already familiar with SQL, Spark allows you to create queries using SQL. While this is beyond the scope of this class, I think it may be useful to some of you and therefore provide an example below.\n",
    "\n"
   ]
  },
  {
   "cell_type": "code",
   "execution_count": 38,
   "metadata": {
    "id": "sYQme0fD3a9B"
   },
   "outputs": [],
   "source": [
    "df_people = spark.read.csv('data/People.csv', header=True, inferSchema=True)\n",
    "df_people.createOrReplaceTempView('people')"
   ]
  },
  {
   "cell_type": "code",
   "execution_count": 40,
   "metadata": {
    "id": "IZGxPu3z3dj_"
   },
   "outputs": [
    {
     "name": "stdout",
     "output_type": "stream",
     "text": [
      "+---+---------+---------+----------+--------+------------+------------+----------+---------+----------+--------+------------+----------+---------------+---------+-----------+----------------+------+------+----+------+----------+---------+----------+--------+\n",
      "| ID| playerID|birthYear|birthMonth|birthDay|   birthCity|birthCountry|birthState|deathYear|deathMonth|deathDay|deathCountry|deathState|      deathCity|nameFirst|   nameLast|       nameGiven|weight|height|bats|throws|     debut|  bbrefID| finalGame| retroID|\n",
      "+---+---------+---------+----------+--------+------------+------------+----------+---------+----------+--------+------------+----------+---------------+---------+-----------+----------------+------+------+----+------+----------+---------+----------+--------+\n",
      "|  1|aardsda01|     1981|        12|      27|      Denver|         USA|        CO|     NULL|      NULL|    NULL|        NULL|      NULL|           NULL|    David|    Aardsma|     David Allan|   215|    75|   R|     R|2004-04-06|aardsda01|2015-08-23|aardd001|\n",
      "|  2|aaronha01|     1934|         2|       5|      Mobile|         USA|        AL|     2021|         1|      22|         USA|        GA|        Atlanta|     Hank|      Aaron|     Henry Louis|   180|    72|   R|     R|1954-04-13|aaronha01|1976-10-03|aaroh101|\n",
      "|  3|aaronto01|     1939|         8|       5|      Mobile|         USA|        AL|     1984|         8|      16|         USA|        GA|        Atlanta|   Tommie|      Aaron|      Tommie Lee|   190|    75|   R|     R|1962-04-10|aaronto01|1971-09-26|aarot101|\n",
      "|  4| aasedo01|     1954|         9|       8|      Orange|         USA|        CA|     NULL|      NULL|    NULL|        NULL|      NULL|           NULL|      Don|       Aase|  Donald William|   190|    75|   R|     R|1977-07-26| aasedo01|1990-10-03|aased001|\n",
      "|  5| abadan01|     1972|         8|      25|  Palm Beach|         USA|        FL|     NULL|      NULL|    NULL|        NULL|      NULL|           NULL|     Andy|       Abad|   Fausto Andres|   184|    73|   L|     L|2001-09-10| abadan01|2006-04-13|abada001|\n",
      "|  6| abadfe01|     1985|        12|      17|   La Romana|        D.R.| La Romana|     NULL|      NULL|    NULL|        NULL|      NULL|           NULL| Fernando|       Abad|Fernando Antonio|   235|    74|   L|     L|2010-07-28| abadfe01|2021-10-01|abadf001|\n",
      "|  7|abadijo01|     1850|        11|       4|Philadelphia|         USA|        PA|     1905|         5|      17|         USA|        NJ|      Pemberton|     John|     Abadie|         John W.|   192|    72|   R|     R|1875-04-26|abadijo01|1875-06-10|abadj101|\n",
      "|  8|abbated01|     1877|         4|      15|     Latrobe|         USA|        PA|     1957|         1|       6|         USA|        FL|Fort Lauderdale|       Ed|Abbaticchio|    Edward James|   170|    71|   R|     R|1897-09-04|abbated01|1910-09-15|abbae101|\n",
      "|  9|abbeybe01|     1869|        11|      11|       Essex|         USA|        VT|     1962|         6|      11|         USA|        VT|     Colchester|     Bert|      Abbey|       Bert Wood|   175|    71|   R|     R|1892-06-14|abbeybe01|1896-09-23|abbeb101|\n",
      "| 10|abbeych01|     1866|        10|      14|  Falls City|         USA|        NE|     1926|         4|      27|         USA|        CA|  San Francisco|  Charlie|      Abbey|      Charles S.|   169|    68|   L|     L|1893-08-16|abbeych01|1897-08-19|abbec101|\n",
      "| 11|abbotco01|     1995|         9|      20|   San Diego|         USA|        CA|     NULL|      NULL|    NULL|        NULL|      NULL|           NULL|     Cory|     Abbott|      Cory James|   220|    74|   R|     R|2021-06-05|abbotco01|2022-10-04|abboc001|\n",
      "| 12|abbotda01|     1862|         3|      16|     Portage|         USA|        OH|     1930|         2|      13|         USA|        MI|    Ottawa Lake|      Dan|     Abbott|Leander Franklin|   190|    71|   R|     R|1890-04-19|abbotda01|1890-05-23|abbod101|\n",
      "| 13|abbotfr01|     1874|        10|      22|  Versailles|         USA|        OH|     1935|         6|      11|         USA|        CA|    Los Angeles|     Fred|     Abbott| Harry Frederick|   180|    70|   R|     R|1903-04-25|abbotfr01|1905-09-20|abbof101|\n",
      "| 14|abbotgl01|     1951|         2|      16| Little Rock|         USA|        AR|     NULL|      NULL|    NULL|        NULL|      NULL|           NULL|    Glenn|     Abbott|   William Glenn|   200|    78|   R|     R|1973-07-29|abbotgl01|1984-08-08|abbog001|\n",
      "| 15|abbotje01|     1972|         8|      17|     Atlanta|         USA|        GA|     NULL|      NULL|    NULL|        NULL|      NULL|           NULL|     Jeff|     Abbott| Jeffrey William|   190|    74|   R|     L|1997-06-10|abbotje01|2001-09-29|abboj002|\n",
      "| 16|abbotji01|     1967|         9|      19|       Flint|         USA|        MI|     NULL|      NULL|    NULL|        NULL|      NULL|           NULL|      Jim|     Abbott|   James Anthony|   200|    75|   L|     L|1989-04-08|abbotji01|1999-07-21|abboj001|\n",
      "| 17|abbotku01|     1969|         6|       2|  Zanesville|         USA|        OH|     NULL|      NULL|    NULL|        NULL|      NULL|           NULL|     Kurt|     Abbott|     Kurt Thomas|   180|    71|   R|     R|1993-09-07|abbotku01|2001-04-13|abbok002|\n",
      "| 18|abbotky01|     1968|         2|      18| Newburyport|         USA|        MA|     NULL|      NULL|    NULL|        NULL|      NULL|           NULL|     Kyle|     Abbott|   Lawrence Kyle|   200|    76|   L|     L|1991-09-10|abbotky01|1996-08-24|abbok001|\n",
      "| 19|abbotod01|     1886|         9|       5|   New Eagle|         USA|        PA|     1933|         4|      13|         USA|        DC|     Washington|      Ody|     Abbott|       Ody Cleon|   165|    69|   L|     R|1910-09-10|abbotod01|1910-10-15|abboo101|\n",
      "| 20|abbotpa01|     1967|         9|      15|    Van Nuys|         USA|        CA|     NULL|      NULL|    NULL|        NULL|      NULL|           NULL|     Paul|     Abbott|      Paul David|   185|    75|   R|     R|1990-08-21|abbotpa01|2004-08-07|abbop001|\n",
      "+---+---------+---------+----------+--------+------------+------------+----------+---------+----------+--------+------------+----------+---------------+---------+-----------+----------------+------+------+----+------+----------+---------+----------+--------+\n",
      "only showing top 20 rows\n",
      "\n"
     ]
    }
   ],
   "source": [
    "results = spark.sql(\"SELECT * FROM people\")\n",
    "results.show()"
   ]
  },
  {
   "cell_type": "code",
   "execution_count": 41,
   "metadata": {
    "colab": {
     "base_uri": "https://localhost:8080/"
    },
    "id": "4quifr8W3iRS",
    "outputId": "1fe717e8-d96b-4c68-e36f-73850fdc9ac5"
   },
   "outputs": [
    {
     "name": "stdout",
     "output_type": "stream",
     "text": [
      "+---+---------+---------+----------+--------+--------------------+------------+------------------+---------+----------+--------+------------+----------+---------+---------+--------+-----------------+------+------+----+------+----------+---------+----------+--------+\n",
      "| ID| playerID|birthYear|birthMonth|birthDay|           birthCity|birthCountry|        birthState|deathYear|deathMonth|deathDay|deathCountry|deathState|deathCity|nameFirst|nameLast|        nameGiven|weight|height|bats|throws|     debut|  bbrefID| finalGame| retroID|\n",
      "+---+---------+---------+----------+--------+--------------------+------------+------------------+---------+----------+--------+------------+----------+---------+---------+--------+-----------------+------+------+----+------+----------+---------+----------+--------+\n",
      "| 11|abbotco01|     1995|         9|      20|           San Diego|         USA|                CA|     NULL|      NULL|    NULL|        NULL|      NULL|     NULL|     Cory|  Abbott|       Cory James|   220|    74|   R|     R|2021-06-05|abbotco01|2022-10-04|abboc001|\n",
      "| 33|abramcj01|     2000|        10|       3|          Alpharetta|         USA|                GA|     NULL|      NULL|    NULL|        NULL|      NULL|     NULL|       CJ|  Abrams| Paul Christopher|   185|    74|   L|     R|2022-04-08|abramcj01|2022-10-04|abrac001|\n",
      "| 36|abreual01|     1995|         9|      26|            Guayubin|        D.R.|      Monte Cristi|     NULL|      NULL|    NULL|        NULL|      NULL|     NULL|   Albert|   Abreu|  Albert Enmanuel|   190|    74|   R|     R|2020-08-08|abreual01|2022-10-05|abrea001|\n",
      "| 38|abreubr01|     1997|         4|      22|       Santo Domingo|        D.R.| Distrito Nacional|     NULL|      NULL|    NULL|        NULL|      NULL|     NULL|    Bryan|   Abreu|    Bryan Enrique|   225|    73|   R|     R|2019-07-31|abreubr01|2022-10-05|abreb002|\n",
      "| 47|acevedo01|     1994|         3|       6| Villa Los Almacigos|        D.R.|Santiago Rodriguez|     NULL|      NULL|    NULL|        NULL|      NULL|     NULL|  Domingo| Acevedo|  Domingo Antonio|   240|    79|   R|     R|2021-06-21|acevedo01|2022-10-04|acevd001|\n",
      "| 62|acunaro01|     1997|        12|      18|           La Guaira|   Venezuela|         La Guaira|     NULL|      NULL|    NULL|        NULL|      NULL|     NULL|   Ronald|   Acuna|      Ronald Jose|   205|    72|   R|     R|2018-04-25|acunaro01|2022-10-04|acunr001|\n",
      "| 66|adamecr01|     1991|         7|      26|       Santo Domingo|        D.R.| Distrito Nacional|     NULL|      NULL|    NULL|        NULL|      NULL|     NULL|Cristhian|  Adames|Cristhian Pascual|   217|    71|   B|     R|2014-07-29|adamecr01|2019-09-29|adamc001|\n",
      "| 67|adamewi01|     1995|         9|       2|            Santiago|        D.R.|          Santiago|     NULL|      NULL|    NULL|        NULL|      NULL|     NULL|    Willy|  Adames|     Willy Rafael|   210|    72|   R|     R|2018-05-22|adamewi01|2022-10-05|adamw002|\n",
      "| 68| adamja01|     1991|         8|       4|               Omaha|         USA|                NE|     NULL|      NULL|    NULL|        NULL|      NULL|     NULL|    Jason|    Adam|    Jason Kendall|   229|    75|   R|     R|2018-05-05| adamja01|2022-09-28|adamj002|\n",
      "| 71|adamsau02|     1991|         5|       5|               Tampa|         USA|                FL|     NULL|      NULL|    NULL|        NULL|      NULL|     NULL|   Austin|   Adams|     Austin Lance|   220|    75|   R|     R|2017-07-15|adamsau02|2022-04-12|adama002|\n",
      "| 79|adamsch01|     1994|         8|      10|          Scottsdale|         USA|                AZ|     NULL|      NULL|    NULL|        NULL|      NULL|     NULL|   Chance|   Adams|           Chance|   215|    73|   R|     R|2018-08-04|adamsch01|2020-09-22|adamc002|\n",
      "| 99|adamsri03|     1996|         6|      26|           Encinitas|         USA|                CA|     NULL|      NULL|    NULL|        NULL|      NULL|     NULL|    Riley|   Adams|     Riley Keaton|   249|    76|   R|     R|2021-06-08|adamsri03|2022-10-04|adamr004|\n",
      "|113|adelljo01|     1999|         4|       8|              Shelby|         USA|                NC|     NULL|      NULL|    NULL|        NULL|      NULL|     NULL|       Jo|   Adell|     Jordon Scott|   215|    75|   R|     R|2020-08-04|adelljo01|2022-10-05|adelj001|\n",
      "|125| adonjo01|     1998|         8|      12|       Santo Domingo|        D.R.| Distrito Nacional|     NULL|      NULL|    NULL|        NULL|      NULL|     NULL|     Joan|    Adon|      Joan Manuel|   246|    74|   R|     R|2021-10-03| adonjo01|2022-07-07|adonj001|\n",
      "|135|agrazda01|     1994|        12|      28|           Aguadulce|      Panama|             Cocle|     NULL|      NULL|    NULL|        NULL|      NULL|     NULL|    Dario| Agrazal|     Dario Abdiel|   225|    74|   R|     R|2019-06-15|agrazda01|2019-09-25|agrad001|\n",
      "|139|aguilmi01|     1991|         9|      26|      Ciudad Obregon|      Mexico|            Sonora|     NULL|      NULL|    NULL|        NULL|      NULL|     NULL|   Miguel| Aguilar|   Miguel Armando|   194|    68|   L|     L|2021-07-30|aguilmi01|2021-09-12|aguim001|\n",
      "|141|aguilry01|     1994|         9|      11|         Yorba Linda|         USA|                CA|     NULL|      NULL|    NULL|        NULL|      NULL|     NULL|     Ryan| Aguilar|       Ryan Scott|   168|    74|   L|     L|2022-08-26|aguilry01|2022-09-05|aguir002|\n",
      "|157| akinke01|     1995|         4|       1|                Alma|         USA|                MI|     NULL|      NULL|    NULL|        NULL|      NULL|     NULL|   Keegan|    Akin|       Keegan Lee|   235|    71|   L|     L|2020-08-14| akinke01|2022-10-05|akink001|\n",
      "|159|alanirj01|     1991|         6|      14|             McAllen|         USA|                TX|     NULL|      NULL|    NULL|        NULL|      NULL|     NULL|    R. J.|  Alaniz|            Ruben|   220|    76|   R|     R|2019-04-12|alanirj01|2021-07-23|alanr001|\n",
      "|167|alberha01|     1992|        10|      17|San Francisco de ...|        D.R.|            Duarte|     NULL|      NULL|    NULL|        NULL|      NULL|     NULL|   Hanser| Alberto|      Hanser Joel|   215|    71|   R|     R|2015-05-29|alberha01|2022-10-05|albeh001|\n",
      "+---+---------+---------+----------+--------+--------------------+------------+------------------+---------+----------+--------+------------+----------+---------+---------+--------+-----------------+------+------+----+------+----------+---------+----------+--------+\n",
      "only showing top 20 rows\n",
      "\n"
     ]
    }
   ],
   "source": [
    "spark.sql(\"SELECT * FROM people WHERE birthYear>1990\").show()"
   ]
  },
  {
   "attachments": {},
   "cell_type": "markdown",
   "metadata": {
    "id": "CGiwTDTq7rqs"
   },
   "source": [
    "# Matplotlib visualization"
   ]
  },
  {
   "attachments": {},
   "cell_type": "markdown",
   "metadata": {
    "id": "-ZL0QH7g7u6n"
   },
   "source": [
    "Now let's take an in-depth look at the Matplotlib package for visualization in Python. Matplotlib is a cross-platform data visualization library built on top of NumPy arrays, and designed to work with the broader SciPy stack. It was conceived by John Hunter in 2002, originally as a patch for IPython to allow interactive MATLAB-style plotting via gnuplot from the IPython command line. The creator of IPython, Fernando Perez, was at the time struggling to finish his PhD, and let John know that he would not have time to review the patch for several months. John took this as a signal to strike out on his own, and so the Matplotlib package was born, with version 0.1 released in 2003. It received an early boost when it was adopted as the plotting package of choice by the Space Telescope Science Institute (the folks behind the Hubble Telescope), which financially supported Matplotlib's development and greatly expanded its capabilities.\n",
    "\n",
    "One of the most important features of Matplotlib is its ability to work well with many operating systems and graphics supports. Matplotlib supports dozens of backends and output types, which means you can count on it to work regardless of the operating system you are using or the output format you want. This cross-platform, all-for-all approach has been one of Matplotlib's great strengths. It has led to a large user base, which in turn has led to an active developer base and to Matplotlib's powerful tools and ubiquity within the scientific Python world."
   ]
  },
  {
   "attachments": {},
   "cell_type": "markdown",
   "metadata": {
    "id": "jEWdN1Lz79rR"
   },
   "source": [
    "## Importing dependencies"
   ]
  },
  {
   "cell_type": "code",
   "execution_count": 37,
   "metadata": {
    "id": "MhphsDsH8BjS"
   },
   "outputs": [],
   "source": [
    "import matplotlib as mpl\n",
    "import matplotlib.pyplot as plt"
   ]
  },
  {
   "attachments": {},
   "cell_type": "markdown",
   "metadata": {
    "id": "rnQ4Wt4F8FMQ"
   },
   "source": [
    "## Style"
   ]
  },
  {
   "cell_type": "code",
   "execution_count": null,
   "metadata": {
    "id": "YmbAEMS58Jkw"
   },
   "outputs": [],
   "source": []
  },
  {
   "attachments": {},
   "cell_type": "markdown",
   "metadata": {
    "id": "GV3sMXmO8wMR"
   },
   "source": [
    "## Line"
   ]
  },
  {
   "cell_type": "code",
   "execution_count": 38,
   "metadata": {
    "colab": {
     "base_uri": "https://localhost:8080/",
     "height": 295
    },
    "id": "NtIeXge_8ycw",
    "outputId": "df737f6a-1bd2-418f-cb3b-089d7d430148"
   },
   "outputs": [
    {
     "data": {
      "image/png": "[encoded data removed]",
      "text/plain": [
       "<Figure size 640x480 with 1 Axes>"
      ]
     },
     "metadata": {},
     "output_type": "display_data"
    }
   ],
   "source": [
    "x  = [1, 2, 3, 4, 5, 6, 7, 8, 9]\n",
    "y1 = [1, 3, 5, 3, 1, 3, 5, 3, 1]\n",
    "y2 = [2, 4, 6, 4, 2, 4, 6, 4, 2]\n",
    "plt.plot(x, y1, label=\"line L\")\n",
    "plt.plot(x, y2, label=\"line H\")\n",
    "plt.plot()\n",
    "\n",
    "plt.xlabel(\"x axis\")\n",
    "plt.ylabel(\"y axis\")\n",
    "plt.title(\"Line Graph Example\")\n",
    "plt.legend()\n",
    "plt.show()"
   ]
  },
  {
   "attachments": {},
   "cell_type": "markdown",
   "metadata": {
    "id": "nyrAcbRt810o"
   },
   "source": [
    "## Bars"
   ]
  },
  {
   "cell_type": "code",
   "execution_count": 39,
   "metadata": {
    "colab": {
     "base_uri": "https://localhost:8080/",
     "height": 295
    },
    "id": "m5zDvkCM84rb",
    "outputId": "09057340-66e3-45f1-db30-5dc0ac523e6d"
   },
   "outputs": [
    {
     "data": {
      "image/png": "[encoded data removed]",
      "text/plain": [
       "<Figure size 640x480 with 1 Axes>"
      ]
     },
     "metadata": {},
     "output_type": "display_data"
    }
   ],
   "source": [
    "# Look at index 4 and 6, which demonstrate overlapping cases.\n",
    "x1 = [1, 3, 4, 5, 6, 7, 9]\n",
    "y1 = [4, 7, 2, 4, 7, 8, 3]\n",
    "\n",
    "x2 = [2, 4, 6, 8, 10]\n",
    "y2 = [5, 6, 2, 6, 2]\n",
    "\n",
    "# Colors: https://matplotlib.org/api/colors_api.html\n",
    "\n",
    "plt.bar(x1, y1, label=\"Blue Bar\", color='b')\n",
    "plt.bar(x2, y2, label=\"Green Bar\", color='g')\n",
    "plt.plot()\n",
    "\n",
    "plt.xlabel(\"bar number\")\n",
    "plt.ylabel(\"bar height\")\n",
    "plt.title(\"Bar Chart Example\")\n",
    "plt.legend()\n",
    "plt.show()"
   ]
  },
  {
   "attachments": {},
   "cell_type": "markdown",
   "metadata": {
    "id": "xOetX7Ty88Ov"
   },
   "source": [
    "## Histograms"
   ]
  },
  {
   "cell_type": "code",
   "execution_count": 42,
   "metadata": {
    "colab": {
     "base_uri": "https://localhost:8080/",
     "height": 809
    },
    "id": "yMrPnD3v9ADD",
    "outputId": "3172faeb-fa2a-4744-d6a4-83d0b8425044"
   },
   "outputs": [
    {
     "data": {
      "image/png": "[encoded data removed]",
      "text/plain": [
       "<Figure size 640x480 with 1 Axes>"
      ]
     },
     "metadata": {},
     "output_type": "display_data"
    },
    {
     "data": {
      "image/png": "[encoded data removed]",
      "text/plain": [
       "<Figure size 640x480 with 1 Axes>"
      ]
     },
     "metadata": {},
     "output_type": "display_data"
    },
    {
     "data": {
      "image/png": "[encoded data removed]",
      "text/plain": [
       "<Figure size 640x480 with 1 Axes>"
      ]
     },
     "metadata": {},
     "output_type": "display_data"
    }
   ],
   "source": [
    "import numpy as np\n",
    "# Use numpy to generate a bunch of random data in a bell curve around 5.\n",
    "n = 5 + np.random.randn(1000)\n",
    "\n",
    "m = [m for m in range(len(n))]\n",
    "plt.bar(m, n)\n",
    "plt.title(\"Raw Data\")\n",
    "plt.show()\n",
    "\n",
    "plt.hist(n, bins=20)\n",
    "plt.title(\"Histogram\")\n",
    "plt.show()\n",
    "\n",
    "plt.hist(n, cumulative=True, bins=20)\n",
    "plt.title(\"Cumulative Histogram\")\n",
    "plt.show()"
   ]
  },
  {
   "attachments": {},
   "cell_type": "markdown",
   "metadata": {
    "id": "x6_oLfvx9Dcg"
   },
   "source": [
    "## Scatter"
   ]
  },
  {
   "cell_type": "code",
   "execution_count": 43,
   "metadata": {
    "colab": {
     "base_uri": "https://localhost:8080/",
     "height": 281
    },
    "id": "1ZXHUmSq9P7z",
    "outputId": "6f5ff3a2-e6a7-4f8d-ce7b-47ad1bddf237"
   },
   "outputs": [
    {
     "data": {
      "image/png": "[encoded data removed]",
      "text/plain": [
       "<Figure size 640x480 with 1 Axes>"
      ]
     },
     "metadata": {},
     "output_type": "display_data"
    }
   ],
   "source": [
    "x1 = [2, 3, 4]\n",
    "y1 = [5, 5, 5]\n",
    "\n",
    "x2 = [1, 2, 3, 4, 5]\n",
    "y2 = [2, 3, 2, 3, 4]\n",
    "y3 = [6, 8, 7, 8, 7]\n",
    "\n",
    "# Markers: https://matplotlib.org/api/markers_api.html\n",
    "\n",
    "plt.scatter(x1, y1)\n",
    "plt.scatter(x2, y2, marker='v', color='r')\n",
    "plt.scatter(x2, y3, marker='^', color='m')\n",
    "plt.title('Scatter Plot Example')\n",
    "plt.show()"
   ]
  },
  {
   "attachments": {},
   "cell_type": "markdown",
   "metadata": {
    "id": "qDfKgt5Y9cZe"
   },
   "source": [
    "## Save graphics to disk\n",
    "A nice feature of Matplotlib is the ability to save figures in a wide variety of formats. Saving a figure can be done using the savefig() command. For example, to save the above figure as a PNG file, you can run this:"
   ]
  },
  {
   "cell_type": "code",
   "execution_count": 44,
   "metadata": {
    "colab": {
     "base_uri": "https://localhost:8080/",
     "height": 265
    },
    "id": "LmMh3ZvX9nwV",
    "outputId": "83e5f815-5136-4b19-8564-a5499a43eeed"
   },
   "outputs": [
    {
     "data": {
      "image/png": "[encoded data removed]",
      "text/plain": [
       "<Figure size 640x480 with 1 Axes>"
      ]
     },
     "metadata": {},
     "output_type": "display_data"
    }
   ],
   "source": [
    "x = np.linspace(0, 10, 100)\n",
    "\n",
    "fig = plt.figure()\n",
    "plt.plot(x, np.sin(x), '-')\n",
    "plt.plot(x, np.cos(x), '--');\n",
    "\n",
    "fig.savefig('output/my_figure.png')"
   ]
  },
  {
   "attachments": {},
   "cell_type": "markdown",
   "metadata": {
    "id": "v-IRLtMwcuER"
   },
   "source": [
    "# Pandas"
   ]
  },
  {
   "cell_type": "code",
   "execution_count": 45,
   "metadata": {
    "id": "jSA8kMNPdBBX"
   },
   "outputs": [],
   "source": [
    "import numpy as np\n",
    "import pandas as pd\n",
    "\n",
    "# Enable Arrow-based columnar data transfers\n",
    "spark.conf.set(\"spark.sql.execution.arrow.enabled\", \"true\")\n",
    "\n",
    "# Generate a pandas DataFrame\n",
    "pdf = pd.DataFrame(np.random.rand(100, 3))\n",
    "\n",
    "# Create a Spark DataFrame from a pandas DataFrame using Arrow\n",
    "df = spark.createDataFrame(pdf)\n",
    "\n",
    "# Convert the Spark DataFrame back to a pandas DataFrame using Arrow\n",
    "result_pdf = df.select(\"*\").toPandas()"
   ]
  },
  {
   "attachments": {},
   "cell_type": "markdown",
   "metadata": {
    "id": "QNZm3uBPdPJm"
   },
   "source": [
    "https://spark.apache.org/docs/latest/sql-pyspark-pandas-with-arrow.html"
   ]
  },
  {
   "attachments": {},
   "cell_type": "markdown",
   "metadata": {
    "id": "qGV5Rs-f7COd"
   },
   "source": [
    "# Examples"
   ]
  },
  {
   "attachments": {},
   "cell_type": "markdown",
   "metadata": {
    "id": "JWc9gqRo7E1z"
   },
   "source": [
    "## Number PI calculation"
   ]
  },
  {
   "cell_type": "code",
   "execution_count": 42,
   "metadata": {
    "colab": {
     "base_uri": "https://localhost:8080/"
    },
    "id": "CgDd229_7HQq",
    "outputId": "ca799681-81ec-4492-ff08-2eb27c227682"
   },
   "outputs": [
    {
     "name": "stdout",
     "output_type": "stream",
     "text": [
      "34.307 seconds elapsed for Spark approach and n = 100000000\n",
      "Pi is roughly 3.141326\n"
     ]
    }
   ],
   "source": [
    "from time import time\n",
    "import numpy as np\n",
    "from random import random\n",
    "from operator import add\n",
    "\n",
    "sc = spark.sparkContext\n",
    "\n",
    "n = 100000000\n",
    "\n",
    "\n",
    "def is_point_inside_unit_circle(p):\n",
    "    # p is useless here\n",
    "    x, y = random(), random()\n",
    "    return 1 if x*x + y*y < 1 else 0\n",
    "\n",
    "\n",
    "t_0 = time()\n",
    "\n",
    "# parallelize creates a spark Resilient Distributed Dataset (RDD)\n",
    "# its values are useless in this case\n",
    "# but allows us to distribute our calculation (inside function)\n",
    "count = sc.parallelize(range(0, n)) \\\n",
    "             .map(is_point_inside_unit_circle).reduce(add)\n",
    "print(np.round(time()-t_0, 3), \"seconds elapsed for Spark approach and n =\",n)\n",
    "print(\"Pi is roughly %f\" % (4.0 * count / n))"
   ]
  },
  {
   "cell_type": "markdown",
   "metadata": {},
   "source": [
    "# Twitter\n",
    "Let's calculate the trending topic of twitter, processing a small amount of data."
   ]
  },
  {
   "cell_type": "code",
   "execution_count": 31,
   "metadata": {},
   "outputs": [],
   "source": [
    "# extract data\n",
    "twitter = spark.read.json(\"data/twitter/\")"
   ]
  },
  {
   "cell_type": "code",
   "execution_count": 32,
   "metadata": {},
   "outputs": [
    {
     "name": "stdout",
     "output_type": "stream",
     "text": [
      "Number of tweets: 161801\n",
      "root\n",
      " |-- contributors: string (nullable = true)\n",
      " |-- coordinates: struct (nullable = true)\n",
      " |    |-- coordinates: array (nullable = true)\n",
      " |    |    |-- element: double (containsNull = true)\n",
      " |    |-- type: string (nullable = true)\n",
      " |-- created_at: string (nullable = true)\n",
      " |-- delete: struct (nullable = true)\n",
      " |    |-- status: struct (nullable = true)\n",
      " |    |    |-- id: long (nullable = true)\n",
      " |    |    |-- id_str: string (nullable = true)\n",
      " |    |    |-- user_id: long (nullable = true)\n",
      " |    |    |-- user_id_str: string (nullable = true)\n",
      " |    |-- timestamp_ms: string (nullable = true)\n",
      " |-- display_text_range: array (nullable = true)\n",
      " |    |-- element: long (containsNull = true)\n",
      " |-- entities: struct (nullable = true)\n",
      " |    |-- hashtags: array (nullable = true)\n",
      " |    |    |-- element: struct (containsNull = true)\n",
      " |    |    |    |-- indices: array (nullable = true)\n",
      " |    |    |    |    |-- element: long (containsNull = true)\n",
      " |    |    |    |-- text: string (nullable = true)\n",
      " |    |-- media: array (nullable = true)\n",
      " |    |    |-- element: struct (containsNull = true)\n",
      " |    |    |    |-- display_url: string (nullable = true)\n",
      " |    |    |    |-- expanded_url: string (nullable = true)\n",
      " |    |    |    |-- id: long (nullable = true)\n",
      " |    |    |    |-- id_str: string (nullable = true)\n",
      " |    |    |    |-- indices: array (nullable = true)\n",
      " |    |    |    |    |-- element: long (containsNull = true)\n",
      " |    |    |    |-- media_url: string (nullable = true)\n",
      " |    |    |    |-- media_url_https: string (nullable = true)\n",
      " |    |    |    |-- sizes: struct (nullable = true)\n",
      " |    |    |    |    |-- large: struct (nullable = true)\n",
      " |    |    |    |    |    |-- h: long (nullable = true)\n",
      " |    |    |    |    |    |-- resize: string (nullable = true)\n",
      " |    |    |    |    |    |-- w: long (nullable = true)\n",
      " |    |    |    |    |-- medium: struct (nullable = true)\n",
      " |    |    |    |    |    |-- h: long (nullable = true)\n",
      " |    |    |    |    |    |-- resize: string (nullable = true)\n",
      " |    |    |    |    |    |-- w: long (nullable = true)\n",
      " |    |    |    |    |-- small: struct (nullable = true)\n",
      " |    |    |    |    |    |-- h: long (nullable = true)\n",
      " |    |    |    |    |    |-- resize: string (nullable = true)\n",
      " |    |    |    |    |    |-- w: long (nullable = true)\n",
      " |    |    |    |    |-- thumb: struct (nullable = true)\n",
      " |    |    |    |    |    |-- h: long (nullable = true)\n",
      " |    |    |    |    |    |-- resize: string (nullable = true)\n",
      " |    |    |    |    |    |-- w: long (nullable = true)\n",
      " |    |    |    |-- source_status_id: long (nullable = true)\n",
      " |    |    |    |-- source_status_id_str: string (nullable = true)\n",
      " |    |    |    |-- source_user_id: long (nullable = true)\n",
      " |    |    |    |-- source_user_id_str: string (nullable = true)\n",
      " |    |    |    |-- type: string (nullable = true)\n",
      " |    |    |    |-- url: string (nullable = true)\n",
      " |    |-- symbols: array (nullable = true)\n",
      " |    |    |-- element: struct (containsNull = true)\n",
      " |    |    |    |-- indices: array (nullable = true)\n",
      " |    |    |    |    |-- element: long (containsNull = true)\n",
      " |    |    |    |-- text: string (nullable = true)\n",
      " |    |-- urls: array (nullable = true)\n",
      " |    |    |-- element: struct (containsNull = true)\n",
      " |    |    |    |-- display_url: string (nullable = true)\n",
      " |    |    |    |-- expanded_url: string (nullable = true)\n",
      " |    |    |    |-- indices: array (nullable = true)\n",
      " |    |    |    |    |-- element: long (containsNull = true)\n",
      " |    |    |    |-- url: string (nullable = true)\n",
      " |    |-- user_mentions: array (nullable = true)\n",
      " |    |    |-- element: struct (containsNull = true)\n",
      " |    |    |    |-- id: long (nullable = true)\n",
      " |    |    |    |-- id_str: string (nullable = true)\n",
      " |    |    |    |-- indices: array (nullable = true)\n",
      " |    |    |    |    |-- element: long (containsNull = true)\n",
      " |    |    |    |-- name: string (nullable = true)\n",
      " |    |    |    |-- screen_name: string (nullable = true)\n",
      " |-- extended_entities: struct (nullable = true)\n",
      " |    |-- media: array (nullable = true)\n",
      " |    |    |-- element: struct (containsNull = true)\n",
      " |    |    |    |-- display_url: string (nullable = true)\n",
      " |    |    |    |-- expanded_url: string (nullable = true)\n",
      " |    |    |    |-- id: long (nullable = true)\n",
      " |    |    |    |-- id_str: string (nullable = true)\n",
      " |    |    |    |-- indices: array (nullable = true)\n",
      " |    |    |    |    |-- element: long (containsNull = true)\n",
      " |    |    |    |-- media_url: string (nullable = true)\n",
      " |    |    |    |-- media_url_https: string (nullable = true)\n",
      " |    |    |    |-- sizes: struct (nullable = true)\n",
      " |    |    |    |    |-- large: struct (nullable = true)\n",
      " |    |    |    |    |    |-- h: long (nullable = true)\n",
      " |    |    |    |    |    |-- resize: string (nullable = true)\n",
      " |    |    |    |    |    |-- w: long (nullable = true)\n",
      " |    |    |    |    |-- medium: struct (nullable = true)\n",
      " |    |    |    |    |    |-- h: long (nullable = true)\n",
      " |    |    |    |    |    |-- resize: string (nullable = true)\n",
      " |    |    |    |    |    |-- w: long (nullable = true)\n",
      " |    |    |    |    |-- small: struct (nullable = true)\n",
      " |    |    |    |    |    |-- h: long (nullable = true)\n",
      " |    |    |    |    |    |-- resize: string (nullable = true)\n",
      " |    |    |    |    |    |-- w: long (nullable = true)\n",
      " |    |    |    |    |-- thumb: struct (nullable = true)\n",
      " |    |    |    |    |    |-- h: long (nullable = true)\n",
      " |    |    |    |    |    |-- resize: string (nullable = true)\n",
      " |    |    |    |    |    |-- w: long (nullable = true)\n",
      " |    |    |    |-- source_status_id: long (nullable = true)\n",
      " |    |    |    |-- source_status_id_str: string (nullable = true)\n",
      " |    |    |    |-- source_user_id: long (nullable = true)\n",
      " |    |    |    |-- source_user_id_str: string (nullable = true)\n",
      " |    |    |    |-- type: string (nullable = true)\n",
      " |    |    |    |-- url: string (nullable = true)\n",
      " |    |    |    |-- video_info: struct (nullable = true)\n",
      " |    |    |    |    |-- aspect_ratio: array (nullable = true)\n",
      " |    |    |    |    |    |-- element: long (containsNull = true)\n",
      " |    |    |    |    |-- duration_millis: long (nullable = true)\n",
      " |    |    |    |    |-- variants: array (nullable = true)\n",
      " |    |    |    |    |    |-- element: struct (containsNull = true)\n",
      " |    |    |    |    |    |    |-- bitrate: long (nullable = true)\n",
      " |    |    |    |    |    |    |-- content_type: string (nullable = true)\n",
      " |    |    |    |    |    |    |-- url: string (nullable = true)\n",
      " |-- extended_tweet: struct (nullable = true)\n",
      " |    |-- display_text_range: array (nullable = true)\n",
      " |    |    |-- element: long (containsNull = true)\n",
      " |    |-- entities: struct (nullable = true)\n",
      " |    |    |-- hashtags: array (nullable = true)\n",
      " |    |    |    |-- element: struct (containsNull = true)\n",
      " |    |    |    |    |-- indices: array (nullable = true)\n",
      " |    |    |    |    |    |-- element: long (containsNull = true)\n",
      " |    |    |    |    |-- text: string (nullable = true)\n",
      " |    |    |-- media: array (nullable = true)\n",
      " |    |    |    |-- element: struct (containsNull = true)\n",
      " |    |    |    |    |-- display_url: string (nullable = true)\n",
      " |    |    |    |    |-- expanded_url: string (nullable = true)\n",
      " |    |    |    |    |-- id: long (nullable = true)\n",
      " |    |    |    |    |-- id_str: string (nullable = true)\n",
      " |    |    |    |    |-- indices: array (nullable = true)\n",
      " |    |    |    |    |    |-- element: long (containsNull = true)\n",
      " |    |    |    |    |-- media_url: string (nullable = true)\n",
      " |    |    |    |    |-- media_url_https: string (nullable = true)\n",
      " |    |    |    |    |-- sizes: struct (nullable = true)\n",
      " |    |    |    |    |    |-- large: struct (nullable = true)\n",
      " |    |    |    |    |    |    |-- h: long (nullable = true)\n",
      " |    |    |    |    |    |    |-- resize: string (nullable = true)\n",
      " |    |    |    |    |    |    |-- w: long (nullable = true)\n",
      " |    |    |    |    |    |-- medium: struct (nullable = true)\n",
      " |    |    |    |    |    |    |-- h: long (nullable = true)\n",
      " |    |    |    |    |    |    |-- resize: string (nullable = true)\n",
      " |    |    |    |    |    |    |-- w: long (nullable = true)\n",
      " |    |    |    |    |    |-- small: struct (nullable = true)\n",
      " |    |    |    |    |    |    |-- h: long (nullable = true)\n",
      " |    |    |    |    |    |    |-- resize: string (nullable = true)\n",
      " |    |    |    |    |    |    |-- w: long (nullable = true)\n",
      " |    |    |    |    |    |-- thumb: struct (nullable = true)\n",
      " |    |    |    |    |    |    |-- h: long (nullable = true)\n",
      " |    |    |    |    |    |    |-- resize: string (nullable = true)\n",
      " |    |    |    |    |    |    |-- w: long (nullable = true)\n",
      " |    |    |    |    |-- source_status_id: long (nullable = true)\n",
      " |    |    |    |    |-- source_status_id_str: string (nullable = true)\n",
      " |    |    |    |    |-- source_user_id: long (nullable = true)\n",
      " |    |    |    |    |-- source_user_id_str: string (nullable = true)\n",
      " |    |    |    |    |-- type: string (nullable = true)\n",
      " |    |    |    |    |-- url: string (nullable = true)\n",
      " |    |    |    |    |-- video_info: struct (nullable = true)\n",
      " |    |    |    |    |    |-- aspect_ratio: array (nullable = true)\n",
      " |    |    |    |    |    |    |-- element: long (containsNull = true)\n",
      " |    |    |    |    |    |-- duration_millis: long (nullable = true)\n",
      " |    |    |    |    |    |-- variants: array (nullable = true)\n",
      " |    |    |    |    |    |    |-- element: struct (containsNull = true)\n",
      " |    |    |    |    |    |    |    |-- bitrate: long (nullable = true)\n",
      " |    |    |    |    |    |    |    |-- content_type: string (nullable = true)\n",
      " |    |    |    |    |    |    |    |-- url: string (nullable = true)\n",
      " |    |    |-- symbols: array (nullable = true)\n",
      " |    |    |    |-- element: string (containsNull = true)\n",
      " |    |    |-- urls: array (nullable = true)\n",
      " |    |    |    |-- element: struct (containsNull = true)\n",
      " |    |    |    |    |-- display_url: string (nullable = true)\n",
      " |    |    |    |    |-- expanded_url: string (nullable = true)\n",
      " |    |    |    |    |-- indices: array (nullable = true)\n",
      " |    |    |    |    |    |-- element: long (containsNull = true)\n",
      " |    |    |    |    |-- url: string (nullable = true)\n",
      " |    |    |-- user_mentions: array (nullable = true)\n",
      " |    |    |    |-- element: struct (containsNull = true)\n",
      " |    |    |    |    |-- id: long (nullable = true)\n",
      " |    |    |    |    |-- id_str: string (nullable = true)\n",
      " |    |    |    |    |-- indices: array (nullable = true)\n",
      " |    |    |    |    |    |-- element: long (containsNull = true)\n",
      " |    |    |    |    |-- name: string (nullable = true)\n",
      " |    |    |    |    |-- screen_name: string (nullable = true)\n",
      " |    |-- extended_entities: struct (nullable = true)\n",
      " |    |    |-- media: array (nullable = true)\n",
      " |    |    |    |-- element: struct (containsNull = true)\n",
      " |    |    |    |    |-- display_url: string (nullable = true)\n",
      " |    |    |    |    |-- expanded_url: string (nullable = true)\n",
      " |    |    |    |    |-- id: long (nullable = true)\n",
      " |    |    |    |    |-- id_str: string (nullable = true)\n",
      " |    |    |    |    |-- indices: array (nullable = true)\n",
      " |    |    |    |    |    |-- element: long (containsNull = true)\n",
      " |    |    |    |    |-- media_url: string (nullable = true)\n",
      " |    |    |    |    |-- media_url_https: string (nullable = true)\n",
      " |    |    |    |    |-- sizes: struct (nullable = true)\n",
      " |    |    |    |    |    |-- large: struct (nullable = true)\n",
      " |    |    |    |    |    |    |-- h: long (nullable = true)\n",
      " |    |    |    |    |    |    |-- resize: string (nullable = true)\n",
      " |    |    |    |    |    |    |-- w: long (nullable = true)\n",
      " |    |    |    |    |    |-- medium: struct (nullable = true)\n",
      " |    |    |    |    |    |    |-- h: long (nullable = true)\n",
      " |    |    |    |    |    |    |-- resize: string (nullable = true)\n",
      " |    |    |    |    |    |    |-- w: long (nullable = true)\n",
      " |    |    |    |    |    |-- small: struct (nullable = true)\n",
      " |    |    |    |    |    |    |-- h: long (nullable = true)\n",
      " |    |    |    |    |    |    |-- resize: string (nullable = true)\n",
      " |    |    |    |    |    |    |-- w: long (nullable = true)\n",
      " |    |    |    |    |    |-- thumb: struct (nullable = true)\n",
      " |    |    |    |    |    |    |-- h: long (nullable = true)\n",
      " |    |    |    |    |    |    |-- resize: string (nullable = true)\n",
      " |    |    |    |    |    |    |-- w: long (nullable = true)\n",
      " |    |    |    |    |-- source_status_id: long (nullable = true)\n",
      " |    |    |    |    |-- source_status_id_str: string (nullable = true)\n",
      " |    |    |    |    |-- source_user_id: long (nullable = true)\n",
      " |    |    |    |    |-- source_user_id_str: string (nullable = true)\n",
      " |    |    |    |    |-- type: string (nullable = true)\n",
      " |    |    |    |    |-- url: string (nullable = true)\n",
      " |    |    |    |    |-- video_info: struct (nullable = true)\n",
      " |    |    |    |    |    |-- aspect_ratio: array (nullable = true)\n",
      " |    |    |    |    |    |    |-- element: long (containsNull = true)\n",
      " |    |    |    |    |    |-- duration_millis: long (nullable = true)\n",
      " |    |    |    |    |    |-- variants: array (nullable = true)\n",
      " |    |    |    |    |    |    |-- element: struct (containsNull = true)\n",
      " |    |    |    |    |    |    |    |-- bitrate: long (nullable = true)\n",
      " |    |    |    |    |    |    |    |-- content_type: string (nullable = true)\n",
      " |    |    |    |    |    |    |    |-- url: string (nullable = true)\n",
      " |    |-- full_text: string (nullable = true)\n",
      " |-- favorite_count: long (nullable = true)\n",
      " |-- favorited: boolean (nullable = true)\n",
      " |-- filter_level: string (nullable = true)\n",
      " |-- geo: struct (nullable = true)\n",
      " |    |-- coordinates: array (nullable = true)\n",
      " |    |    |-- element: double (containsNull = true)\n",
      " |    |-- type: string (nullable = true)\n",
      " |-- id: long (nullable = true)\n",
      " |-- id_str: string (nullable = true)\n",
      " |-- in_reply_to_screen_name: string (nullable = true)\n",
      " |-- in_reply_to_status_id: long (nullable = true)\n",
      " |-- in_reply_to_status_id_str: string (nullable = true)\n",
      " |-- in_reply_to_user_id: long (nullable = true)\n",
      " |-- in_reply_to_user_id_str: string (nullable = true)\n",
      " |-- is_quote_status: boolean (nullable = true)\n",
      " |-- lang: string (nullable = true)\n",
      " |-- place: struct (nullable = true)\n",
      " |    |-- bounding_box: struct (nullable = true)\n",
      " |    |    |-- coordinates: array (nullable = true)\n",
      " |    |    |    |-- element: array (containsNull = true)\n",
      " |    |    |    |    |-- element: array (containsNull = true)\n",
      " |    |    |    |    |    |-- element: double (containsNull = true)\n",
      " |    |    |-- type: string (nullable = true)\n",
      " |    |-- country: string (nullable = true)\n",
      " |    |-- country_code: string (nullable = true)\n",
      " |    |-- full_name: string (nullable = true)\n",
      " |    |-- id: string (nullable = true)\n",
      " |    |-- name: string (nullable = true)\n",
      " |    |-- place_type: string (nullable = true)\n",
      " |    |-- url: string (nullable = true)\n",
      " |-- possibly_sensitive: boolean (nullable = true)\n",
      " |-- quoted_status: struct (nullable = true)\n",
      " |    |-- contributors: array (nullable = true)\n",
      " |    |    |-- element: long (containsNull = true)\n",
      " |    |-- coordinates: struct (nullable = true)\n",
      " |    |    |-- coordinates: array (nullable = true)\n",
      " |    |    |    |-- element: double (containsNull = true)\n",
      " |    |    |-- type: string (nullable = true)\n",
      " |    |-- created_at: string (nullable = true)\n",
      " |    |-- display_text_range: array (nullable = true)\n",
      " |    |    |-- element: long (containsNull = true)\n",
      " |    |-- entities: struct (nullable = true)\n",
      " |    |    |-- hashtags: array (nullable = true)\n",
      " |    |    |    |-- element: struct (containsNull = true)\n",
      " |    |    |    |    |-- indices: array (nullable = true)\n",
      " |    |    |    |    |    |-- element: long (containsNull = true)\n",
      " |    |    |    |    |-- text: string (nullable = true)\n",
      " |    |    |-- media: array (nullable = true)\n",
      " |    |    |    |-- element: struct (containsNull = true)\n",
      " |    |    |    |    |-- display_url: string (nullable = true)\n",
      " |    |    |    |    |-- expanded_url: string (nullable = true)\n",
      " |    |    |    |    |-- id: long (nullable = true)\n",
      " |    |    |    |    |-- id_str: string (nullable = true)\n",
      " |    |    |    |    |-- indices: array (nullable = true)\n",
      " |    |    |    |    |    |-- element: long (containsNull = true)\n",
      " |    |    |    |    |-- media_url: string (nullable = true)\n",
      " |    |    |    |    |-- media_url_https: string (nullable = true)\n",
      " |    |    |    |    |-- sizes: struct (nullable = true)\n",
      " |    |    |    |    |    |-- large: struct (nullable = true)\n",
      " |    |    |    |    |    |    |-- h: long (nullable = true)\n",
      " |    |    |    |    |    |    |-- resize: string (nullable = true)\n",
      " |    |    |    |    |    |    |-- w: long (nullable = true)\n",
      " |    |    |    |    |    |-- medium: struct (nullable = true)\n",
      " |    |    |    |    |    |    |-- h: long (nullable = true)\n",
      " |    |    |    |    |    |    |-- resize: string (nullable = true)\n",
      " |    |    |    |    |    |    |-- w: long (nullable = true)\n",
      " |    |    |    |    |    |-- small: struct (nullable = true)\n",
      " |    |    |    |    |    |    |-- h: long (nullable = true)\n",
      " |    |    |    |    |    |    |-- resize: string (nullable = true)\n",
      " |    |    |    |    |    |    |-- w: long (nullable = true)\n",
      " |    |    |    |    |    |-- thumb: struct (nullable = true)\n",
      " |    |    |    |    |    |    |-- h: long (nullable = true)\n",
      " |    |    |    |    |    |    |-- resize: string (nullable = true)\n",
      " |    |    |    |    |    |    |-- w: long (nullable = true)\n",
      " |    |    |    |    |-- source_status_id: long (nullable = true)\n",
      " |    |    |    |    |-- source_status_id_str: string (nullable = true)\n",
      " |    |    |    |    |-- source_user_id: long (nullable = true)\n",
      " |    |    |    |    |-- source_user_id_str: string (nullable = true)\n",
      " |    |    |    |    |-- type: string (nullable = true)\n",
      " |    |    |    |    |-- url: string (nullable = true)\n",
      " |    |    |-- symbols: array (nullable = true)\n",
      " |    |    |    |-- element: struct (containsNull = true)\n",
      " |    |    |    |    |-- indices: array (nullable = true)\n",
      " |    |    |    |    |    |-- element: long (containsNull = true)\n",
      " |    |    |    |    |-- text: string (nullable = true)\n",
      " |    |    |-- urls: array (nullable = true)\n",
      " |    |    |    |-- element: struct (containsNull = true)\n",
      " |    |    |    |    |-- display_url: string (nullable = true)\n",
      " |    |    |    |    |-- expanded_url: string (nullable = true)\n",
      " |    |    |    |    |-- indices: array (nullable = true)\n",
      " |    |    |    |    |    |-- element: long (containsNull = true)\n",
      " |    |    |    |    |-- url: string (nullable = true)\n",
      " |    |    |-- user_mentions: array (nullable = true)\n",
      " |    |    |    |-- element: struct (containsNull = true)\n",
      " |    |    |    |    |-- id: long (nullable = true)\n",
      " |    |    |    |    |-- id_str: string (nullable = true)\n",
      " |    |    |    |    |-- indices: array (nullable = true)\n",
      " |    |    |    |    |    |-- element: long (containsNull = true)\n",
      " |    |    |    |    |-- name: string (nullable = true)\n",
      " |    |    |    |    |-- screen_name: string (nullable = true)\n",
      " |    |-- extended_entities: struct (nullable = true)\n",
      " |    |    |-- media: array (nullable = true)\n",
      " |    |    |    |-- element: struct (containsNull = true)\n",
      " |    |    |    |    |-- display_url: string (nullable = true)\n",
      " |    |    |    |    |-- expanded_url: string (nullable = true)\n",
      " |    |    |    |    |-- id: long (nullable = true)\n",
      " |    |    |    |    |-- id_str: string (nullable = true)\n",
      " |    |    |    |    |-- indices: array (nullable = true)\n",
      " |    |    |    |    |    |-- element: long (containsNull = true)\n",
      " |    |    |    |    |-- media_url: string (nullable = true)\n",
      " |    |    |    |    |-- media_url_https: string (nullable = true)\n",
      " |    |    |    |    |-- sizes: struct (nullable = true)\n",
      " |    |    |    |    |    |-- large: struct (nullable = true)\n",
      " |    |    |    |    |    |    |-- h: long (nullable = true)\n",
      " |    |    |    |    |    |    |-- resize: string (nullable = true)\n",
      " |    |    |    |    |    |    |-- w: long (nullable = true)\n",
      " |    |    |    |    |    |-- medium: struct (nullable = true)\n",
      " |    |    |    |    |    |    |-- h: long (nullable = true)\n",
      " |    |    |    |    |    |    |-- resize: string (nullable = true)\n",
      " |    |    |    |    |    |    |-- w: long (nullable = true)\n",
      " |    |    |    |    |    |-- small: struct (nullable = true)\n",
      " |    |    |    |    |    |    |-- h: long (nullable = true)\n",
      " |    |    |    |    |    |    |-- resize: string (nullable = true)\n",
      " |    |    |    |    |    |    |-- w: long (nullable = true)\n",
      " |    |    |    |    |    |-- thumb: struct (nullable = true)\n",
      " |    |    |    |    |    |    |-- h: long (nullable = true)\n",
      " |    |    |    |    |    |    |-- resize: string (nullable = true)\n",
      " |    |    |    |    |    |    |-- w: long (nullable = true)\n",
      " |    |    |    |    |-- source_status_id: long (nullable = true)\n",
      " |    |    |    |    |-- source_status_id_str: string (nullable = true)\n",
      " |    |    |    |    |-- source_user_id: long (nullable = true)\n",
      " |    |    |    |    |-- source_user_id_str: string (nullable = true)\n",
      " |    |    |    |    |-- type: string (nullable = true)\n",
      " |    |    |    |    |-- url: string (nullable = true)\n",
      " |    |    |    |    |-- video_info: struct (nullable = true)\n",
      " |    |    |    |    |    |-- aspect_ratio: array (nullable = true)\n",
      " |    |    |    |    |    |    |-- element: long (containsNull = true)\n",
      " |    |    |    |    |    |-- duration_millis: long (nullable = true)\n",
      " |    |    |    |    |    |-- variants: array (nullable = true)\n",
      " |    |    |    |    |    |    |-- element: struct (containsNull = true)\n",
      " |    |    |    |    |    |    |    |-- bitrate: long (nullable = true)\n",
      " |    |    |    |    |    |    |    |-- content_type: string (nullable = true)\n",
      " |    |    |    |    |    |    |    |-- url: string (nullable = true)\n",
      " |    |-- extended_tweet: struct (nullable = true)\n",
      " |    |    |-- display_text_range: array (nullable = true)\n",
      " |    |    |    |-- element: long (containsNull = true)\n",
      " |    |    |-- entities: struct (nullable = true)\n",
      " |    |    |    |-- hashtags: array (nullable = true)\n",
      " |    |    |    |    |-- element: struct (containsNull = true)\n",
      " |    |    |    |    |    |-- indices: array (nullable = true)\n",
      " |    |    |    |    |    |    |-- element: long (containsNull = true)\n",
      " |    |    |    |    |    |-- text: string (nullable = true)\n",
      " |    |    |    |-- media: array (nullable = true)\n",
      " |    |    |    |    |-- element: struct (containsNull = true)\n",
      " |    |    |    |    |    |-- display_url: string (nullable = true)\n",
      " |    |    |    |    |    |-- expanded_url: string (nullable = true)\n",
      " |    |    |    |    |    |-- id: long (nullable = true)\n",
      " |    |    |    |    |    |-- id_str: string (nullable = true)\n",
      " |    |    |    |    |    |-- indices: array (nullable = true)\n",
      " |    |    |    |    |    |    |-- element: long (containsNull = true)\n",
      " |    |    |    |    |    |-- media_url: string (nullable = true)\n",
      " |    |    |    |    |    |-- media_url_https: string (nullable = true)\n",
      " |    |    |    |    |    |-- sizes: struct (nullable = true)\n",
      " |    |    |    |    |    |    |-- large: struct (nullable = true)\n",
      " |    |    |    |    |    |    |    |-- h: long (nullable = true)\n",
      " |    |    |    |    |    |    |    |-- resize: string (nullable = true)\n",
      " |    |    |    |    |    |    |    |-- w: long (nullable = true)\n",
      " |    |    |    |    |    |    |-- medium: struct (nullable = true)\n",
      " |    |    |    |    |    |    |    |-- h: long (nullable = true)\n",
      " |    |    |    |    |    |    |    |-- resize: string (nullable = true)\n",
      " |    |    |    |    |    |    |    |-- w: long (nullable = true)\n",
      " |    |    |    |    |    |    |-- small: struct (nullable = true)\n",
      " |    |    |    |    |    |    |    |-- h: long (nullable = true)\n",
      " |    |    |    |    |    |    |    |-- resize: string (nullable = true)\n",
      " |    |    |    |    |    |    |    |-- w: long (nullable = true)\n",
      " |    |    |    |    |    |    |-- thumb: struct (nullable = true)\n",
      " |    |    |    |    |    |    |    |-- h: long (nullable = true)\n",
      " |    |    |    |    |    |    |    |-- resize: string (nullable = true)\n",
      " |    |    |    |    |    |    |    |-- w: long (nullable = true)\n",
      " |    |    |    |    |    |-- source_status_id: long (nullable = true)\n",
      " |    |    |    |    |    |-- source_status_id_str: string (nullable = true)\n",
      " |    |    |    |    |    |-- source_user_id: long (nullable = true)\n",
      " |    |    |    |    |    |-- source_user_id_str: string (nullable = true)\n",
      " |    |    |    |    |    |-- type: string (nullable = true)\n",
      " |    |    |    |    |    |-- url: string (nullable = true)\n",
      " |    |    |    |    |    |-- video_info: struct (nullable = true)\n",
      " |    |    |    |    |    |    |-- aspect_ratio: array (nullable = true)\n",
      " |    |    |    |    |    |    |    |-- element: long (containsNull = true)\n",
      " |    |    |    |    |    |    |-- duration_millis: long (nullable = true)\n",
      " |    |    |    |    |    |    |-- variants: array (nullable = true)\n",
      " |    |    |    |    |    |    |    |-- element: struct (containsNull = true)\n",
      " |    |    |    |    |    |    |    |    |-- bitrate: long (nullable = true)\n",
      " |    |    |    |    |    |    |    |    |-- content_type: string (nullable = true)\n",
      " |    |    |    |    |    |    |    |    |-- url: string (nullable = true)\n",
      " |    |    |    |-- symbols: array (nullable = true)\n",
      " |    |    |    |    |-- element: struct (containsNull = true)\n",
      " |    |    |    |    |    |-- indices: array (nullable = true)\n",
      " |    |    |    |    |    |    |-- element: long (containsNull = true)\n",
      " |    |    |    |    |    |-- text: string (nullable = true)\n",
      " |    |    |    |-- urls: array (nullable = true)\n",
      " |    |    |    |    |-- element: struct (containsNull = true)\n",
      " |    |    |    |    |    |-- display_url: string (nullable = true)\n",
      " |    |    |    |    |    |-- expanded_url: string (nullable = true)\n",
      " |    |    |    |    |    |-- indices: array (nullable = true)\n",
      " |    |    |    |    |    |    |-- element: long (containsNull = true)\n",
      " |    |    |    |    |    |-- url: string (nullable = true)\n",
      " |    |    |    |-- user_mentions: array (nullable = true)\n",
      " |    |    |    |    |-- element: struct (containsNull = true)\n",
      " |    |    |    |    |    |-- id: long (nullable = true)\n",
      " |    |    |    |    |    |-- id_str: string (nullable = true)\n",
      " |    |    |    |    |    |-- indices: array (nullable = true)\n",
      " |    |    |    |    |    |    |-- element: long (containsNull = true)\n",
      " |    |    |    |    |    |-- name: string (nullable = true)\n",
      " |    |    |    |    |    |-- screen_name: string (nullable = true)\n",
      " |    |    |-- extended_entities: struct (nullable = true)\n",
      " |    |    |    |-- media: array (nullable = true)\n",
      " |    |    |    |    |-- element: struct (containsNull = true)\n",
      " |    |    |    |    |    |-- display_url: string (nullable = true)\n",
      " |    |    |    |    |    |-- expanded_url: string (nullable = true)\n",
      " |    |    |    |    |    |-- id: long (nullable = true)\n",
      " |    |    |    |    |    |-- id_str: string (nullable = true)\n",
      " |    |    |    |    |    |-- indices: array (nullable = true)\n",
      " |    |    |    |    |    |    |-- element: long (containsNull = true)\n",
      " |    |    |    |    |    |-- media_url: string (nullable = true)\n",
      " |    |    |    |    |    |-- media_url_https: string (nullable = true)\n",
      " |    |    |    |    |    |-- sizes: struct (nullable = true)\n",
      " |    |    |    |    |    |    |-- large: struct (nullable = true)\n",
      " |    |    |    |    |    |    |    |-- h: long (nullable = true)\n",
      " |    |    |    |    |    |    |    |-- resize: string (nullable = true)\n",
      " |    |    |    |    |    |    |    |-- w: long (nullable = true)\n",
      " |    |    |    |    |    |    |-- medium: struct (nullable = true)\n",
      " |    |    |    |    |    |    |    |-- h: long (nullable = true)\n",
      " |    |    |    |    |    |    |    |-- resize: string (nullable = true)\n",
      " |    |    |    |    |    |    |    |-- w: long (nullable = true)\n",
      " |    |    |    |    |    |    |-- small: struct (nullable = true)\n",
      " |    |    |    |    |    |    |    |-- h: long (nullable = true)\n",
      " |    |    |    |    |    |    |    |-- resize: string (nullable = true)\n",
      " |    |    |    |    |    |    |    |-- w: long (nullable = true)\n",
      " |    |    |    |    |    |    |-- thumb: struct (nullable = true)\n",
      " |    |    |    |    |    |    |    |-- h: long (nullable = true)\n",
      " |    |    |    |    |    |    |    |-- resize: string (nullable = true)\n",
      " |    |    |    |    |    |    |    |-- w: long (nullable = true)\n",
      " |    |    |    |    |    |-- source_status_id: long (nullable = true)\n",
      " |    |    |    |    |    |-- source_status_id_str: string (nullable = true)\n",
      " |    |    |    |    |    |-- source_user_id: long (nullable = true)\n",
      " |    |    |    |    |    |-- source_user_id_str: string (nullable = true)\n",
      " |    |    |    |    |    |-- type: string (nullable = true)\n",
      " |    |    |    |    |    |-- url: string (nullable = true)\n",
      " |    |    |    |    |    |-- video_info: struct (nullable = true)\n",
      " |    |    |    |    |    |    |-- aspect_ratio: array (nullable = true)\n",
      " |    |    |    |    |    |    |    |-- element: long (containsNull = true)\n",
      " |    |    |    |    |    |    |-- duration_millis: long (nullable = true)\n",
      " |    |    |    |    |    |    |-- variants: array (nullable = true)\n",
      " |    |    |    |    |    |    |    |-- element: struct (containsNull = true)\n",
      " |    |    |    |    |    |    |    |    |-- bitrate: long (nullable = true)\n",
      " |    |    |    |    |    |    |    |    |-- content_type: string (nullable = true)\n",
      " |    |    |    |    |    |    |    |    |-- url: string (nullable = true)\n",
      " |    |    |-- full_text: string (nullable = true)\n",
      " |    |-- favorite_count: long (nullable = true)\n",
      " |    |-- favorited: boolean (nullable = true)\n",
      " |    |-- filter_level: string (nullable = true)\n",
      " |    |-- geo: struct (nullable = true)\n",
      " |    |    |-- coordinates: array (nullable = true)\n",
      " |    |    |    |-- element: double (containsNull = true)\n",
      " |    |    |-- type: string (nullable = true)\n",
      " |    |-- id: long (nullable = true)\n",
      " |    |-- id_str: string (nullable = true)\n",
      " |    |-- in_reply_to_screen_name: string (nullable = true)\n",
      " |    |-- in_reply_to_status_id: long (nullable = true)\n",
      " |    |-- in_reply_to_status_id_str: string (nullable = true)\n",
      " |    |-- in_reply_to_user_id: long (nullable = true)\n",
      " |    |-- in_reply_to_user_id_str: string (nullable = true)\n",
      " |    |-- is_quote_status: boolean (nullable = true)\n",
      " |    |-- lang: string (nullable = true)\n",
      " |    |-- place: struct (nullable = true)\n",
      " |    |    |-- bounding_box: struct (nullable = true)\n",
      " |    |    |    |-- coordinates: array (nullable = true)\n",
      " |    |    |    |    |-- element: array (containsNull = true)\n",
      " |    |    |    |    |    |-- element: array (containsNull = true)\n",
      " |    |    |    |    |    |    |-- element: double (containsNull = true)\n",
      " |    |    |    |-- type: string (nullable = true)\n",
      " |    |    |-- country: string (nullable = true)\n",
      " |    |    |-- country_code: string (nullable = true)\n",
      " |    |    |-- full_name: string (nullable = true)\n",
      " |    |    |-- id: string (nullable = true)\n",
      " |    |    |-- name: string (nullable = true)\n",
      " |    |    |-- place_type: string (nullable = true)\n",
      " |    |    |-- url: string (nullable = true)\n",
      " |    |-- possibly_sensitive: boolean (nullable = true)\n",
      " |    |-- quoted_status_id: long (nullable = true)\n",
      " |    |-- quoted_status_id_str: string (nullable = true)\n",
      " |    |-- retweet_count: long (nullable = true)\n",
      " |    |-- retweeted: boolean (nullable = true)\n",
      " |    |-- scopes: struct (nullable = true)\n",
      " |    |    |-- followers: boolean (nullable = true)\n",
      " |    |-- source: string (nullable = true)\n",
      " |    |-- text: string (nullable = true)\n",
      " |    |-- truncated: boolean (nullable = true)\n",
      " |    |-- user: struct (nullable = true)\n",
      " |    |    |-- contributors_enabled: boolean (nullable = true)\n",
      " |    |    |-- created_at: string (nullable = true)\n",
      " |    |    |-- default_profile: boolean (nullable = true)\n",
      " |    |    |-- default_profile_image: boolean (nullable = true)\n",
      " |    |    |-- description: string (nullable = true)\n",
      " |    |    |-- favourites_count: long (nullable = true)\n",
      " |    |    |-- follow_request_sent: string (nullable = true)\n",
      " |    |    |-- followers_count: long (nullable = true)\n",
      " |    |    |-- following: string (nullable = true)\n",
      " |    |    |-- friends_count: long (nullable = true)\n",
      " |    |    |-- geo_enabled: boolean (nullable = true)\n",
      " |    |    |-- id: long (nullable = true)\n",
      " |    |    |-- id_str: string (nullable = true)\n",
      " |    |    |-- is_translator: boolean (nullable = true)\n",
      " |    |    |-- lang: string (nullable = true)\n",
      " |    |    |-- listed_count: long (nullable = true)\n",
      " |    |    |-- location: string (nullable = true)\n",
      " |    |    |-- name: string (nullable = true)\n",
      " |    |    |-- notifications: string (nullable = true)\n",
      " |    |    |-- profile_background_color: string (nullable = true)\n",
      " |    |    |-- profile_background_image_url: string (nullable = true)\n",
      " |    |    |-- profile_background_image_url_https: string (nullable = true)\n",
      " |    |    |-- profile_background_tile: boolean (nullable = true)\n",
      " |    |    |-- profile_banner_url: string (nullable = true)\n",
      " |    |    |-- profile_image_url: string (nullable = true)\n",
      " |    |    |-- profile_image_url_https: string (nullable = true)\n",
      " |    |    |-- profile_link_color: string (nullable = true)\n",
      " |    |    |-- profile_sidebar_border_color: string (nullable = true)\n",
      " |    |    |-- profile_sidebar_fill_color: string (nullable = true)\n",
      " |    |    |-- profile_text_color: string (nullable = true)\n",
      " |    |    |-- profile_use_background_image: boolean (nullable = true)\n",
      " |    |    |-- protected: boolean (nullable = true)\n",
      " |    |    |-- screen_name: string (nullable = true)\n",
      " |    |    |-- statuses_count: long (nullable = true)\n",
      " |    |    |-- time_zone: string (nullable = true)\n",
      " |    |    |-- url: string (nullable = true)\n",
      " |    |    |-- utc_offset: long (nullable = true)\n",
      " |    |    |-- verified: boolean (nullable = true)\n",
      " |    |-- withheld_in_countries: array (nullable = true)\n",
      " |    |    |-- element: string (containsNull = true)\n",
      " |-- quoted_status_id: long (nullable = true)\n",
      " |-- quoted_status_id_str: string (nullable = true)\n",
      " |-- retweet_count: long (nullable = true)\n",
      " |-- retweeted: boolean (nullable = true)\n",
      " |-- retweeted_status: struct (nullable = true)\n",
      " |    |-- contributors: array (nullable = true)\n",
      " |    |    |-- element: long (containsNull = true)\n",
      " |    |-- coordinates: struct (nullable = true)\n",
      " |    |    |-- coordinates: array (nullable = true)\n",
      " |    |    |    |-- element: double (containsNull = true)\n",
      " |    |    |-- type: string (nullable = true)\n",
      " |    |-- created_at: string (nullable = true)\n",
      " |    |-- display_text_range: array (nullable = true)\n",
      " |    |    |-- element: long (containsNull = true)\n",
      " |    |-- entities: struct (nullable = true)\n",
      " |    |    |-- hashtags: array (nullable = true)\n",
      " |    |    |    |-- element: struct (containsNull = true)\n",
      " |    |    |    |    |-- indices: array (nullable = true)\n",
      " |    |    |    |    |    |-- element: long (containsNull = true)\n",
      " |    |    |    |    |-- text: string (nullable = true)\n",
      " |    |    |-- media: array (nullable = true)\n",
      " |    |    |    |-- element: struct (containsNull = true)\n",
      " |    |    |    |    |-- display_url: string (nullable = true)\n",
      " |    |    |    |    |-- expanded_url: string (nullable = true)\n",
      " |    |    |    |    |-- id: long (nullable = true)\n",
      " |    |    |    |    |-- id_str: string (nullable = true)\n",
      " |    |    |    |    |-- indices: array (nullable = true)\n",
      " |    |    |    |    |    |-- element: long (containsNull = true)\n",
      " |    |    |    |    |-- media_url: string (nullable = true)\n",
      " |    |    |    |    |-- media_url_https: string (nullable = true)\n",
      " |    |    |    |    |-- sizes: struct (nullable = true)\n",
      " |    |    |    |    |    |-- large: struct (nullable = true)\n",
      " |    |    |    |    |    |    |-- h: long (nullable = true)\n",
      " |    |    |    |    |    |    |-- resize: string (nullable = true)\n",
      " |    |    |    |    |    |    |-- w: long (nullable = true)\n",
      " |    |    |    |    |    |-- medium: struct (nullable = true)\n",
      " |    |    |    |    |    |    |-- h: long (nullable = true)\n",
      " |    |    |    |    |    |    |-- resize: string (nullable = true)\n",
      " |    |    |    |    |    |    |-- w: long (nullable = true)\n",
      " |    |    |    |    |    |-- small: struct (nullable = true)\n",
      " |    |    |    |    |    |    |-- h: long (nullable = true)\n",
      " |    |    |    |    |    |    |-- resize: string (nullable = true)\n",
      " |    |    |    |    |    |    |-- w: long (nullable = true)\n",
      " |    |    |    |    |    |-- thumb: struct (nullable = true)\n",
      " |    |    |    |    |    |    |-- h: long (nullable = true)\n",
      " |    |    |    |    |    |    |-- resize: string (nullable = true)\n",
      " |    |    |    |    |    |    |-- w: long (nullable = true)\n",
      " |    |    |    |    |-- source_status_id: long (nullable = true)\n",
      " |    |    |    |    |-- source_status_id_str: string (nullable = true)\n",
      " |    |    |    |    |-- source_user_id: long (nullable = true)\n",
      " |    |    |    |    |-- source_user_id_str: string (nullable = true)\n",
      " |    |    |    |    |-- type: string (nullable = true)\n",
      " |    |    |    |    |-- url: string (nullable = true)\n",
      " |    |    |-- symbols: array (nullable = true)\n",
      " |    |    |    |-- element: struct (containsNull = true)\n",
      " |    |    |    |    |-- indices: array (nullable = true)\n",
      " |    |    |    |    |    |-- element: long (containsNull = true)\n",
      " |    |    |    |    |-- text: string (nullable = true)\n",
      " |    |    |-- urls: array (nullable = true)\n",
      " |    |    |    |-- element: struct (containsNull = true)\n",
      " |    |    |    |    |-- display_url: string (nullable = true)\n",
      " |    |    |    |    |-- expanded_url: string (nullable = true)\n",
      " |    |    |    |    |-- indices: array (nullable = true)\n",
      " |    |    |    |    |    |-- element: long (containsNull = true)\n",
      " |    |    |    |    |-- url: string (nullable = true)\n",
      " |    |    |-- user_mentions: array (nullable = true)\n",
      " |    |    |    |-- element: struct (containsNull = true)\n",
      " |    |    |    |    |-- id: long (nullable = true)\n",
      " |    |    |    |    |-- id_str: string (nullable = true)\n",
      " |    |    |    |    |-- indices: array (nullable = true)\n",
      " |    |    |    |    |    |-- element: long (containsNull = true)\n",
      " |    |    |    |    |-- name: string (nullable = true)\n",
      " |    |    |    |    |-- screen_name: string (nullable = true)\n",
      " |    |-- extended_entities: struct (nullable = true)\n",
      " |    |    |-- media: array (nullable = true)\n",
      " |    |    |    |-- element: struct (containsNull = true)\n",
      " |    |    |    |    |-- display_url: string (nullable = true)\n",
      " |    |    |    |    |-- expanded_url: string (nullable = true)\n",
      " |    |    |    |    |-- id: long (nullable = true)\n",
      " |    |    |    |    |-- id_str: string (nullable = true)\n",
      " |    |    |    |    |-- indices: array (nullable = true)\n",
      " |    |    |    |    |    |-- element: long (containsNull = true)\n",
      " |    |    |    |    |-- media_url: string (nullable = true)\n",
      " |    |    |    |    |-- media_url_https: string (nullable = true)\n",
      " |    |    |    |    |-- sizes: struct (nullable = true)\n",
      " |    |    |    |    |    |-- large: struct (nullable = true)\n",
      " |    |    |    |    |    |    |-- h: long (nullable = true)\n",
      " |    |    |    |    |    |    |-- resize: string (nullable = true)\n",
      " |    |    |    |    |    |    |-- w: long (nullable = true)\n",
      " |    |    |    |    |    |-- medium: struct (nullable = true)\n",
      " |    |    |    |    |    |    |-- h: long (nullable = true)\n",
      " |    |    |    |    |    |    |-- resize: string (nullable = true)\n",
      " |    |    |    |    |    |    |-- w: long (nullable = true)\n",
      " |    |    |    |    |    |-- small: struct (nullable = true)\n",
      " |    |    |    |    |    |    |-- h: long (nullable = true)\n",
      " |    |    |    |    |    |    |-- resize: string (nullable = true)\n",
      " |    |    |    |    |    |    |-- w: long (nullable = true)\n",
      " |    |    |    |    |    |-- thumb: struct (nullable = true)\n",
      " |    |    |    |    |    |    |-- h: long (nullable = true)\n",
      " |    |    |    |    |    |    |-- resize: string (nullable = true)\n",
      " |    |    |    |    |    |    |-- w: long (nullable = true)\n",
      " |    |    |    |    |-- source_status_id: long (nullable = true)\n",
      " |    |    |    |    |-- source_status_id_str: string (nullable = true)\n",
      " |    |    |    |    |-- source_user_id: long (nullable = true)\n",
      " |    |    |    |    |-- source_user_id_str: string (nullable = true)\n",
      " |    |    |    |    |-- type: string (nullable = true)\n",
      " |    |    |    |    |-- url: string (nullable = true)\n",
      " |    |    |    |    |-- video_info: struct (nullable = true)\n",
      " |    |    |    |    |    |-- aspect_ratio: array (nullable = true)\n",
      " |    |    |    |    |    |    |-- element: long (containsNull = true)\n",
      " |    |    |    |    |    |-- duration_millis: long (nullable = true)\n",
      " |    |    |    |    |    |-- variants: array (nullable = true)\n",
      " |    |    |    |    |    |    |-- element: struct (containsNull = true)\n",
      " |    |    |    |    |    |    |    |-- bitrate: long (nullable = true)\n",
      " |    |    |    |    |    |    |    |-- content_type: string (nullable = true)\n",
      " |    |    |    |    |    |    |    |-- url: string (nullable = true)\n",
      " |    |-- extended_tweet: struct (nullable = true)\n",
      " |    |    |-- display_text_range: array (nullable = true)\n",
      " |    |    |    |-- element: long (containsNull = true)\n",
      " |    |    |-- entities: struct (nullable = true)\n",
      " |    |    |    |-- hashtags: array (nullable = true)\n",
      " |    |    |    |    |-- element: struct (containsNull = true)\n",
      " |    |    |    |    |    |-- indices: array (nullable = true)\n",
      " |    |    |    |    |    |    |-- element: long (containsNull = true)\n",
      " |    |    |    |    |    |-- text: string (nullable = true)\n",
      " |    |    |    |-- media: array (nullable = true)\n",
      " |    |    |    |    |-- element: struct (containsNull = true)\n",
      " |    |    |    |    |    |-- display_url: string (nullable = true)\n",
      " |    |    |    |    |    |-- expanded_url: string (nullable = true)\n",
      " |    |    |    |    |    |-- id: long (nullable = true)\n",
      " |    |    |    |    |    |-- id_str: string (nullable = true)\n",
      " |    |    |    |    |    |-- indices: array (nullable = true)\n",
      " |    |    |    |    |    |    |-- element: long (containsNull = true)\n",
      " |    |    |    |    |    |-- media_url: string (nullable = true)\n",
      " |    |    |    |    |    |-- media_url_https: string (nullable = true)\n",
      " |    |    |    |    |    |-- sizes: struct (nullable = true)\n",
      " |    |    |    |    |    |    |-- large: struct (nullable = true)\n",
      " |    |    |    |    |    |    |    |-- h: long (nullable = true)\n",
      " |    |    |    |    |    |    |    |-- resize: string (nullable = true)\n",
      " |    |    |    |    |    |    |    |-- w: long (nullable = true)\n",
      " |    |    |    |    |    |    |-- medium: struct (nullable = true)\n",
      " |    |    |    |    |    |    |    |-- h: long (nullable = true)\n",
      " |    |    |    |    |    |    |    |-- resize: string (nullable = true)\n",
      " |    |    |    |    |    |    |    |-- w: long (nullable = true)\n",
      " |    |    |    |    |    |    |-- small: struct (nullable = true)\n",
      " |    |    |    |    |    |    |    |-- h: long (nullable = true)\n",
      " |    |    |    |    |    |    |    |-- resize: string (nullable = true)\n",
      " |    |    |    |    |    |    |    |-- w: long (nullable = true)\n",
      " |    |    |    |    |    |    |-- thumb: struct (nullable = true)\n",
      " |    |    |    |    |    |    |    |-- h: long (nullable = true)\n",
      " |    |    |    |    |    |    |    |-- resize: string (nullable = true)\n",
      " |    |    |    |    |    |    |    |-- w: long (nullable = true)\n",
      " |    |    |    |    |    |-- source_status_id: long (nullable = true)\n",
      " |    |    |    |    |    |-- source_status_id_str: string (nullable = true)\n",
      " |    |    |    |    |    |-- source_user_id: long (nullable = true)\n",
      " |    |    |    |    |    |-- source_user_id_str: string (nullable = true)\n",
      " |    |    |    |    |    |-- type: string (nullable = true)\n",
      " |    |    |    |    |    |-- url: string (nullable = true)\n",
      " |    |    |    |    |    |-- video_info: struct (nullable = true)\n",
      " |    |    |    |    |    |    |-- aspect_ratio: array (nullable = true)\n",
      " |    |    |    |    |    |    |    |-- element: long (containsNull = true)\n",
      " |    |    |    |    |    |    |-- duration_millis: long (nullable = true)\n",
      " |    |    |    |    |    |    |-- variants: array (nullable = true)\n",
      " |    |    |    |    |    |    |    |-- element: struct (containsNull = true)\n",
      " |    |    |    |    |    |    |    |    |-- bitrate: long (nullable = true)\n",
      " |    |    |    |    |    |    |    |    |-- content_type: string (nullable = true)\n",
      " |    |    |    |    |    |    |    |    |-- url: string (nullable = true)\n",
      " |    |    |    |-- symbols: array (nullable = true)\n",
      " |    |    |    |    |-- element: struct (containsNull = true)\n",
      " |    |    |    |    |    |-- indices: array (nullable = true)\n",
      " |    |    |    |    |    |    |-- element: long (containsNull = true)\n",
      " |    |    |    |    |    |-- text: string (nullable = true)\n",
      " |    |    |    |-- urls: array (nullable = true)\n",
      " |    |    |    |    |-- element: struct (containsNull = true)\n",
      " |    |    |    |    |    |-- display_url: string (nullable = true)\n",
      " |    |    |    |    |    |-- expanded_url: string (nullable = true)\n",
      " |    |    |    |    |    |-- indices: array (nullable = true)\n",
      " |    |    |    |    |    |    |-- element: long (containsNull = true)\n",
      " |    |    |    |    |    |-- url: string (nullable = true)\n",
      " |    |    |    |-- user_mentions: array (nullable = true)\n",
      " |    |    |    |    |-- element: struct (containsNull = true)\n",
      " |    |    |    |    |    |-- id: long (nullable = true)\n",
      " |    |    |    |    |    |-- id_str: string (nullable = true)\n",
      " |    |    |    |    |    |-- indices: array (nullable = true)\n",
      " |    |    |    |    |    |    |-- element: long (containsNull = true)\n",
      " |    |    |    |    |    |-- name: string (nullable = true)\n",
      " |    |    |    |    |    |-- screen_name: string (nullable = true)\n",
      " |    |    |-- extended_entities: struct (nullable = true)\n",
      " |    |    |    |-- media: array (nullable = true)\n",
      " |    |    |    |    |-- element: struct (containsNull = true)\n",
      " |    |    |    |    |    |-- display_url: string (nullable = true)\n",
      " |    |    |    |    |    |-- expanded_url: string (nullable = true)\n",
      " |    |    |    |    |    |-- id: long (nullable = true)\n",
      " |    |    |    |    |    |-- id_str: string (nullable = true)\n",
      " |    |    |    |    |    |-- indices: array (nullable = true)\n",
      " |    |    |    |    |    |    |-- element: long (containsNull = true)\n",
      " |    |    |    |    |    |-- media_url: string (nullable = true)\n",
      " |    |    |    |    |    |-- media_url_https: string (nullable = true)\n",
      " |    |    |    |    |    |-- sizes: struct (nullable = true)\n",
      " |    |    |    |    |    |    |-- large: struct (nullable = true)\n",
      " |    |    |    |    |    |    |    |-- h: long (nullable = true)\n",
      " |    |    |    |    |    |    |    |-- resize: string (nullable = true)\n",
      " |    |    |    |    |    |    |    |-- w: long (nullable = true)\n",
      " |    |    |    |    |    |    |-- medium: struct (nullable = true)\n",
      " |    |    |    |    |    |    |    |-- h: long (nullable = true)\n",
      " |    |    |    |    |    |    |    |-- resize: string (nullable = true)\n",
      " |    |    |    |    |    |    |    |-- w: long (nullable = true)\n",
      " |    |    |    |    |    |    |-- small: struct (nullable = true)\n",
      " |    |    |    |    |    |    |    |-- h: long (nullable = true)\n",
      " |    |    |    |    |    |    |    |-- resize: string (nullable = true)\n",
      " |    |    |    |    |    |    |    |-- w: long (nullable = true)\n",
      " |    |    |    |    |    |    |-- thumb: struct (nullable = true)\n",
      " |    |    |    |    |    |    |    |-- h: long (nullable = true)\n",
      " |    |    |    |    |    |    |    |-- resize: string (nullable = true)\n",
      " |    |    |    |    |    |    |    |-- w: long (nullable = true)\n",
      " |    |    |    |    |    |-- source_status_id: long (nullable = true)\n",
      " |    |    |    |    |    |-- source_status_id_str: string (nullable = true)\n",
      " |    |    |    |    |    |-- source_user_id: long (nullable = true)\n",
      " |    |    |    |    |    |-- source_user_id_str: string (nullable = true)\n",
      " |    |    |    |    |    |-- type: string (nullable = true)\n",
      " |    |    |    |    |    |-- url: string (nullable = true)\n",
      " |    |    |    |    |    |-- video_info: struct (nullable = true)\n",
      " |    |    |    |    |    |    |-- aspect_ratio: array (nullable = true)\n",
      " |    |    |    |    |    |    |    |-- element: long (containsNull = true)\n",
      " |    |    |    |    |    |    |-- duration_millis: long (nullable = true)\n",
      " |    |    |    |    |    |    |-- variants: array (nullable = true)\n",
      " |    |    |    |    |    |    |    |-- element: struct (containsNull = true)\n",
      " |    |    |    |    |    |    |    |    |-- bitrate: long (nullable = true)\n",
      " |    |    |    |    |    |    |    |    |-- content_type: string (nullable = true)\n",
      " |    |    |    |    |    |    |    |    |-- url: string (nullable = true)\n",
      " |    |    |-- full_text: string (nullable = true)\n",
      " |    |-- favorite_count: long (nullable = true)\n",
      " |    |-- favorited: boolean (nullable = true)\n",
      " |    |-- filter_level: string (nullable = true)\n",
      " |    |-- geo: struct (nullable = true)\n",
      " |    |    |-- coordinates: array (nullable = true)\n",
      " |    |    |    |-- element: double (containsNull = true)\n",
      " |    |    |-- type: string (nullable = true)\n",
      " |    |-- id: long (nullable = true)\n",
      " |    |-- id_str: string (nullable = true)\n",
      " |    |-- in_reply_to_screen_name: string (nullable = true)\n",
      " |    |-- in_reply_to_status_id: long (nullable = true)\n",
      " |    |-- in_reply_to_status_id_str: string (nullable = true)\n",
      " |    |-- in_reply_to_user_id: long (nullable = true)\n",
      " |    |-- in_reply_to_user_id_str: string (nullable = true)\n",
      " |    |-- is_quote_status: boolean (nullable = true)\n",
      " |    |-- lang: string (nullable = true)\n",
      " |    |-- place: struct (nullable = true)\n",
      " |    |    |-- bounding_box: struct (nullable = true)\n",
      " |    |    |    |-- coordinates: array (nullable = true)\n",
      " |    |    |    |    |-- element: array (containsNull = true)\n",
      " |    |    |    |    |    |-- element: array (containsNull = true)\n",
      " |    |    |    |    |    |    |-- element: double (containsNull = true)\n",
      " |    |    |    |-- type: string (nullable = true)\n",
      " |    |    |-- country: string (nullable = true)\n",
      " |    |    |-- country_code: string (nullable = true)\n",
      " |    |    |-- full_name: string (nullable = true)\n",
      " |    |    |-- id: string (nullable = true)\n",
      " |    |    |-- name: string (nullable = true)\n",
      " |    |    |-- place_type: string (nullable = true)\n",
      " |    |    |-- url: string (nullable = true)\n",
      " |    |-- possibly_sensitive: boolean (nullable = true)\n",
      " |    |-- quoted_status: struct (nullable = true)\n",
      " |    |    |-- contributors: array (nullable = true)\n",
      " |    |    |    |-- element: long (containsNull = true)\n",
      " |    |    |-- coordinates: struct (nullable = true)\n",
      " |    |    |    |-- coordinates: array (nullable = true)\n",
      " |    |    |    |    |-- element: double (containsNull = true)\n",
      " |    |    |    |-- type: string (nullable = true)\n",
      " |    |    |-- created_at: string (nullable = true)\n",
      " |    |    |-- display_text_range: array (nullable = true)\n",
      " |    |    |    |-- element: long (containsNull = true)\n",
      " |    |    |-- entities: struct (nullable = true)\n",
      " |    |    |    |-- hashtags: array (nullable = true)\n",
      " |    |    |    |    |-- element: struct (containsNull = true)\n",
      " |    |    |    |    |    |-- indices: array (nullable = true)\n",
      " |    |    |    |    |    |    |-- element: long (containsNull = true)\n",
      " |    |    |    |    |    |-- text: string (nullable = true)\n",
      " |    |    |    |-- media: array (nullable = true)\n",
      " |    |    |    |    |-- element: struct (containsNull = true)\n",
      " |    |    |    |    |    |-- display_url: string (nullable = true)\n",
      " |    |    |    |    |    |-- expanded_url: string (nullable = true)\n",
      " |    |    |    |    |    |-- id: long (nullable = true)\n",
      " |    |    |    |    |    |-- id_str: string (nullable = true)\n",
      " |    |    |    |    |    |-- indices: array (nullable = true)\n",
      " |    |    |    |    |    |    |-- element: long (containsNull = true)\n",
      " |    |    |    |    |    |-- media_url: string (nullable = true)\n",
      " |    |    |    |    |    |-- media_url_https: string (nullable = true)\n",
      " |    |    |    |    |    |-- sizes: struct (nullable = true)\n",
      " |    |    |    |    |    |    |-- large: struct (nullable = true)\n",
      " |    |    |    |    |    |    |    |-- h: long (nullable = true)\n",
      " |    |    |    |    |    |    |    |-- resize: string (nullable = true)\n",
      " |    |    |    |    |    |    |    |-- w: long (nullable = true)\n",
      " |    |    |    |    |    |    |-- medium: struct (nullable = true)\n",
      " |    |    |    |    |    |    |    |-- h: long (nullable = true)\n",
      " |    |    |    |    |    |    |    |-- resize: string (nullable = true)\n",
      " |    |    |    |    |    |    |    |-- w: long (nullable = true)\n",
      " |    |    |    |    |    |    |-- small: struct (nullable = true)\n",
      " |    |    |    |    |    |    |    |-- h: long (nullable = true)\n",
      " |    |    |    |    |    |    |    |-- resize: string (nullable = true)\n",
      " |    |    |    |    |    |    |    |-- w: long (nullable = true)\n",
      " |    |    |    |    |    |    |-- thumb: struct (nullable = true)\n",
      " |    |    |    |    |    |    |    |-- h: long (nullable = true)\n",
      " |    |    |    |    |    |    |    |-- resize: string (nullable = true)\n",
      " |    |    |    |    |    |    |    |-- w: long (nullable = true)\n",
      " |    |    |    |    |    |-- source_status_id: long (nullable = true)\n",
      " |    |    |    |    |    |-- source_status_id_str: string (nullable = true)\n",
      " |    |    |    |    |    |-- source_user_id: long (nullable = true)\n",
      " |    |    |    |    |    |-- source_user_id_str: string (nullable = true)\n",
      " |    |    |    |    |    |-- type: string (nullable = true)\n",
      " |    |    |    |    |    |-- url: string (nullable = true)\n",
      " |    |    |    |-- symbols: array (nullable = true)\n",
      " |    |    |    |    |-- element: string (containsNull = true)\n",
      " |    |    |    |-- urls: array (nullable = true)\n",
      " |    |    |    |    |-- element: struct (containsNull = true)\n",
      " |    |    |    |    |    |-- display_url: string (nullable = true)\n",
      " |    |    |    |    |    |-- expanded_url: string (nullable = true)\n",
      " |    |    |    |    |    |-- indices: array (nullable = true)\n",
      " |    |    |    |    |    |    |-- element: long (containsNull = true)\n",
      " |    |    |    |    |    |-- url: string (nullable = true)\n",
      " |    |    |    |-- user_mentions: array (nullable = true)\n",
      " |    |    |    |    |-- element: struct (containsNull = true)\n",
      " |    |    |    |    |    |-- id: long (nullable = true)\n",
      " |    |    |    |    |    |-- id_str: string (nullable = true)\n",
      " |    |    |    |    |    |-- indices: array (nullable = true)\n",
      " |    |    |    |    |    |    |-- element: long (containsNull = true)\n",
      " |    |    |    |    |    |-- name: string (nullable = true)\n",
      " |    |    |    |    |    |-- screen_name: string (nullable = true)\n",
      " |    |    |-- extended_entities: struct (nullable = true)\n",
      " |    |    |    |-- media: array (nullable = true)\n",
      " |    |    |    |    |-- element: struct (containsNull = true)\n",
      " |    |    |    |    |    |-- display_url: string (nullable = true)\n",
      " |    |    |    |    |    |-- expanded_url: string (nullable = true)\n",
      " |    |    |    |    |    |-- id: long (nullable = true)\n",
      " |    |    |    |    |    |-- id_str: string (nullable = true)\n",
      " |    |    |    |    |    |-- indices: array (nullable = true)\n",
      " |    |    |    |    |    |    |-- element: long (containsNull = true)\n",
      " |    |    |    |    |    |-- media_url: string (nullable = true)\n",
      " |    |    |    |    |    |-- media_url_https: string (nullable = true)\n",
      " |    |    |    |    |    |-- sizes: struct (nullable = true)\n",
      " |    |    |    |    |    |    |-- large: struct (nullable = true)\n",
      " |    |    |    |    |    |    |    |-- h: long (nullable = true)\n",
      " |    |    |    |    |    |    |    |-- resize: string (nullable = true)\n",
      " |    |    |    |    |    |    |    |-- w: long (nullable = true)\n",
      " |    |    |    |    |    |    |-- medium: struct (nullable = true)\n",
      " |    |    |    |    |    |    |    |-- h: long (nullable = true)\n",
      " |    |    |    |    |    |    |    |-- resize: string (nullable = true)\n",
      " |    |    |    |    |    |    |    |-- w: long (nullable = true)\n",
      " |    |    |    |    |    |    |-- small: struct (nullable = true)\n",
      " |    |    |    |    |    |    |    |-- h: long (nullable = true)\n",
      " |    |    |    |    |    |    |    |-- resize: string (nullable = true)\n",
      " |    |    |    |    |    |    |    |-- w: long (nullable = true)\n",
      " |    |    |    |    |    |    |-- thumb: struct (nullable = true)\n",
      " |    |    |    |    |    |    |    |-- h: long (nullable = true)\n",
      " |    |    |    |    |    |    |    |-- resize: string (nullable = true)\n",
      " |    |    |    |    |    |    |    |-- w: long (nullable = true)\n",
      " |    |    |    |    |    |-- source_status_id: long (nullable = true)\n",
      " |    |    |    |    |    |-- source_status_id_str: string (nullable = true)\n",
      " |    |    |    |    |    |-- source_user_id: long (nullable = true)\n",
      " |    |    |    |    |    |-- source_user_id_str: string (nullable = true)\n",
      " |    |    |    |    |    |-- type: string (nullable = true)\n",
      " |    |    |    |    |    |-- url: string (nullable = true)\n",
      " |    |    |    |    |    |-- video_info: struct (nullable = true)\n",
      " |    |    |    |    |    |    |-- aspect_ratio: array (nullable = true)\n",
      " |    |    |    |    |    |    |    |-- element: long (containsNull = true)\n",
      " |    |    |    |    |    |    |-- duration_millis: long (nullable = true)\n",
      " |    |    |    |    |    |    |-- variants: array (nullable = true)\n",
      " |    |    |    |    |    |    |    |-- element: struct (containsNull = true)\n",
      " |    |    |    |    |    |    |    |    |-- bitrate: long (nullable = true)\n",
      " |    |    |    |    |    |    |    |    |-- content_type: string (nullable = true)\n",
      " |    |    |    |    |    |    |    |    |-- url: string (nullable = true)\n",
      " |    |    |-- extended_tweet: struct (nullable = true)\n",
      " |    |    |    |-- display_text_range: array (nullable = true)\n",
      " |    |    |    |    |-- element: long (containsNull = true)\n",
      " |    |    |    |-- entities: struct (nullable = true)\n",
      " |    |    |    |    |-- hashtags: array (nullable = true)\n",
      " |    |    |    |    |    |-- element: struct (containsNull = true)\n",
      " |    |    |    |    |    |    |-- indices: array (nullable = true)\n",
      " |    |    |    |    |    |    |    |-- element: long (containsNull = true)\n",
      " |    |    |    |    |    |    |-- text: string (nullable = true)\n",
      " |    |    |    |    |-- media: array (nullable = true)\n",
      " |    |    |    |    |    |-- element: struct (containsNull = true)\n",
      " |    |    |    |    |    |    |-- display_url: string (nullable = true)\n",
      " |    |    |    |    |    |    |-- expanded_url: string (nullable = true)\n",
      " |    |    |    |    |    |    |-- id: long (nullable = true)\n",
      " |    |    |    |    |    |    |-- id_str: string (nullable = true)\n",
      " |    |    |    |    |    |    |-- indices: array (nullable = true)\n",
      " |    |    |    |    |    |    |    |-- element: long (containsNull = true)\n",
      " |    |    |    |    |    |    |-- media_url: string (nullable = true)\n",
      " |    |    |    |    |    |    |-- media_url_https: string (nullable = true)\n",
      " |    |    |    |    |    |    |-- sizes: struct (nullable = true)\n",
      " |    |    |    |    |    |    |    |-- large: struct (nullable = true)\n",
      " |    |    |    |    |    |    |    |    |-- h: long (nullable = true)\n",
      " |    |    |    |    |    |    |    |    |-- resize: string (nullable = true)\n",
      " |    |    |    |    |    |    |    |    |-- w: long (nullable = true)\n",
      " |    |    |    |    |    |    |    |-- medium: struct (nullable = true)\n",
      " |    |    |    |    |    |    |    |    |-- h: long (nullable = true)\n",
      " |    |    |    |    |    |    |    |    |-- resize: string (nullable = true)\n",
      " |    |    |    |    |    |    |    |    |-- w: long (nullable = true)\n",
      " |    |    |    |    |    |    |    |-- small: struct (nullable = true)\n",
      " |    |    |    |    |    |    |    |    |-- h: long (nullable = true)\n",
      " |    |    |    |    |    |    |    |    |-- resize: string (nullable = true)\n",
      " |    |    |    |    |    |    |    |    |-- w: long (nullable = true)\n",
      " |    |    |    |    |    |    |    |-- thumb: struct (nullable = true)\n",
      " |    |    |    |    |    |    |    |    |-- h: long (nullable = true)\n",
      " |    |    |    |    |    |    |    |    |-- resize: string (nullable = true)\n",
      " |    |    |    |    |    |    |    |    |-- w: long (nullable = true)\n",
      " |    |    |    |    |    |    |-- source_status_id: long (nullable = true)\n",
      " |    |    |    |    |    |    |-- source_status_id_str: string (nullable = true)\n",
      " |    |    |    |    |    |    |-- source_user_id: long (nullable = true)\n",
      " |    |    |    |    |    |    |-- source_user_id_str: string (nullable = true)\n",
      " |    |    |    |    |    |    |-- type: string (nullable = true)\n",
      " |    |    |    |    |    |    |-- url: string (nullable = true)\n",
      " |    |    |    |    |    |    |-- video_info: struct (nullable = true)\n",
      " |    |    |    |    |    |    |    |-- aspect_ratio: array (nullable = true)\n",
      " |    |    |    |    |    |    |    |    |-- element: long (containsNull = true)\n",
      " |    |    |    |    |    |    |    |-- duration_millis: long (nullable = true)\n",
      " |    |    |    |    |    |    |    |-- variants: array (nullable = true)\n",
      " |    |    |    |    |    |    |    |    |-- element: struct (containsNull = true)\n",
      " |    |    |    |    |    |    |    |    |    |-- bitrate: long (nullable = true)\n",
      " |    |    |    |    |    |    |    |    |    |-- content_type: string (nullable = true)\n",
      " |    |    |    |    |    |    |    |    |    |-- url: string (nullable = true)\n",
      " |    |    |    |    |-- symbols: array (nullable = true)\n",
      " |    |    |    |    |    |-- element: string (containsNull = true)\n",
      " |    |    |    |    |-- urls: array (nullable = true)\n",
      " |    |    |    |    |    |-- element: struct (containsNull = true)\n",
      " |    |    |    |    |    |    |-- display_url: string (nullable = true)\n",
      " |    |    |    |    |    |    |-- expanded_url: string (nullable = true)\n",
      " |    |    |    |    |    |    |-- indices: array (nullable = true)\n",
      " |    |    |    |    |    |    |    |-- element: long (containsNull = true)\n",
      " |    |    |    |    |    |    |-- url: string (nullable = true)\n",
      " |    |    |    |    |-- user_mentions: array (nullable = true)\n",
      " |    |    |    |    |    |-- element: struct (containsNull = true)\n",
      " |    |    |    |    |    |    |-- id: long (nullable = true)\n",
      " |    |    |    |    |    |    |-- id_str: string (nullable = true)\n",
      " |    |    |    |    |    |    |-- indices: array (nullable = true)\n",
      " |    |    |    |    |    |    |    |-- element: long (containsNull = true)\n",
      " |    |    |    |    |    |    |-- name: string (nullable = true)\n",
      " |    |    |    |    |    |    |-- screen_name: string (nullable = true)\n",
      " |    |    |    |-- extended_entities: struct (nullable = true)\n",
      " |    |    |    |    |-- media: array (nullable = true)\n",
      " |    |    |    |    |    |-- element: struct (containsNull = true)\n",
      " |    |    |    |    |    |    |-- display_url: string (nullable = true)\n",
      " |    |    |    |    |    |    |-- expanded_url: string (nullable = true)\n",
      " |    |    |    |    |    |    |-- id: long (nullable = true)\n",
      " |    |    |    |    |    |    |-- id_str: string (nullable = true)\n",
      " |    |    |    |    |    |    |-- indices: array (nullable = true)\n",
      " |    |    |    |    |    |    |    |-- element: long (containsNull = true)\n",
      " |    |    |    |    |    |    |-- media_url: string (nullable = true)\n",
      " |    |    |    |    |    |    |-- media_url_https: string (nullable = true)\n",
      " |    |    |    |    |    |    |-- sizes: struct (nullable = true)\n",
      " |    |    |    |    |    |    |    |-- large: struct (nullable = true)\n",
      " |    |    |    |    |    |    |    |    |-- h: long (nullable = true)\n",
      " |    |    |    |    |    |    |    |    |-- resize: string (nullable = true)\n",
      " |    |    |    |    |    |    |    |    |-- w: long (nullable = true)\n",
      " |    |    |    |    |    |    |    |-- medium: struct (nullable = true)\n",
      " |    |    |    |    |    |    |    |    |-- h: long (nullable = true)\n",
      " |    |    |    |    |    |    |    |    |-- resize: string (nullable = true)\n",
      " |    |    |    |    |    |    |    |    |-- w: long (nullable = true)\n",
      " |    |    |    |    |    |    |    |-- small: struct (nullable = true)\n",
      " |    |    |    |    |    |    |    |    |-- h: long (nullable = true)\n",
      " |    |    |    |    |    |    |    |    |-- resize: string (nullable = true)\n",
      " |    |    |    |    |    |    |    |    |-- w: long (nullable = true)\n",
      " |    |    |    |    |    |    |    |-- thumb: struct (nullable = true)\n",
      " |    |    |    |    |    |    |    |    |-- h: long (nullable = true)\n",
      " |    |    |    |    |    |    |    |    |-- resize: string (nullable = true)\n",
      " |    |    |    |    |    |    |    |    |-- w: long (nullable = true)\n",
      " |    |    |    |    |    |    |-- source_status_id: long (nullable = true)\n",
      " |    |    |    |    |    |    |-- source_status_id_str: string (nullable = true)\n",
      " |    |    |    |    |    |    |-- source_user_id: long (nullable = true)\n",
      " |    |    |    |    |    |    |-- source_user_id_str: string (nullable = true)\n",
      " |    |    |    |    |    |    |-- type: string (nullable = true)\n",
      " |    |    |    |    |    |    |-- url: string (nullable = true)\n",
      " |    |    |    |    |    |    |-- video_info: struct (nullable = true)\n",
      " |    |    |    |    |    |    |    |-- aspect_ratio: array (nullable = true)\n",
      " |    |    |    |    |    |    |    |    |-- element: long (containsNull = true)\n",
      " |    |    |    |    |    |    |    |-- duration_millis: long (nullable = true)\n",
      " |    |    |    |    |    |    |    |-- variants: array (nullable = true)\n",
      " |    |    |    |    |    |    |    |    |-- element: struct (containsNull = true)\n",
      " |    |    |    |    |    |    |    |    |    |-- bitrate: long (nullable = true)\n",
      " |    |    |    |    |    |    |    |    |    |-- content_type: string (nullable = true)\n",
      " |    |    |    |    |    |    |    |    |    |-- url: string (nullable = true)\n",
      " |    |    |    |-- full_text: string (nullable = true)\n",
      " |    |    |-- favorite_count: long (nullable = true)\n",
      " |    |    |-- favorited: boolean (nullable = true)\n",
      " |    |    |-- filter_level: string (nullable = true)\n",
      " |    |    |-- geo: struct (nullable = true)\n",
      " |    |    |    |-- coordinates: array (nullable = true)\n",
      " |    |    |    |    |-- element: double (containsNull = true)\n",
      " |    |    |    |-- type: string (nullable = true)\n",
      " |    |    |-- id: long (nullable = true)\n",
      " |    |    |-- id_str: string (nullable = true)\n",
      " |    |    |-- in_reply_to_screen_name: string (nullable = true)\n",
      " |    |    |-- in_reply_to_status_id: long (nullable = true)\n",
      " |    |    |-- in_reply_to_status_id_str: string (nullable = true)\n",
      " |    |    |-- in_reply_to_user_id: long (nullable = true)\n",
      " |    |    |-- in_reply_to_user_id_str: string (nullable = true)\n",
      " |    |    |-- is_quote_status: boolean (nullable = true)\n",
      " |    |    |-- lang: string (nullable = true)\n",
      " |    |    |-- place: struct (nullable = true)\n",
      " |    |    |    |-- bounding_box: struct (nullable = true)\n",
      " |    |    |    |    |-- coordinates: array (nullable = true)\n",
      " |    |    |    |    |    |-- element: array (containsNull = true)\n",
      " |    |    |    |    |    |    |-- element: array (containsNull = true)\n",
      " |    |    |    |    |    |    |    |-- element: double (containsNull = true)\n",
      " |    |    |    |    |-- type: string (nullable = true)\n",
      " |    |    |    |-- country: string (nullable = true)\n",
      " |    |    |    |-- country_code: string (nullable = true)\n",
      " |    |    |    |-- full_name: string (nullable = true)\n",
      " |    |    |    |-- id: string (nullable = true)\n",
      " |    |    |    |-- name: string (nullable = true)\n",
      " |    |    |    |-- place_type: string (nullable = true)\n",
      " |    |    |    |-- url: string (nullable = true)\n",
      " |    |    |-- possibly_sensitive: boolean (nullable = true)\n",
      " |    |    |-- quoted_status_id: long (nullable = true)\n",
      " |    |    |-- quoted_status_id_str: string (nullable = true)\n",
      " |    |    |-- retweet_count: long (nullable = true)\n",
      " |    |    |-- retweeted: boolean (nullable = true)\n",
      " |    |    |-- scopes: struct (nullable = true)\n",
      " |    |    |    |-- followers: boolean (nullable = true)\n",
      " |    |    |-- source: string (nullable = true)\n",
      " |    |    |-- text: string (nullable = true)\n",
      " |    |    |-- truncated: boolean (nullable = true)\n",
      " |    |    |-- user: struct (nullable = true)\n",
      " |    |    |    |-- contributors_enabled: boolean (nullable = true)\n",
      " |    |    |    |-- created_at: string (nullable = true)\n",
      " |    |    |    |-- default_profile: boolean (nullable = true)\n",
      " |    |    |    |-- default_profile_image: boolean (nullable = true)\n",
      " |    |    |    |-- description: string (nullable = true)\n",
      " |    |    |    |-- favourites_count: long (nullable = true)\n",
      " |    |    |    |-- follow_request_sent: string (nullable = true)\n",
      " |    |    |    |-- followers_count: long (nullable = true)\n",
      " |    |    |    |-- following: string (nullable = true)\n",
      " |    |    |    |-- friends_count: long (nullable = true)\n",
      " |    |    |    |-- geo_enabled: boolean (nullable = true)\n",
      " |    |    |    |-- id: long (nullable = true)\n",
      " |    |    |    |-- id_str: string (nullable = true)\n",
      " |    |    |    |-- is_translator: boolean (nullable = true)\n",
      " |    |    |    |-- lang: string (nullable = true)\n",
      " |    |    |    |-- listed_count: long (nullable = true)\n",
      " |    |    |    |-- location: string (nullable = true)\n",
      " |    |    |    |-- name: string (nullable = true)\n",
      " |    |    |    |-- notifications: string (nullable = true)\n",
      " |    |    |    |-- profile_background_color: string (nullable = true)\n",
      " |    |    |    |-- profile_background_image_url: string (nullable = true)\n",
      " |    |    |    |-- profile_background_image_url_https: string (nullable = true)\n",
      " |    |    |    |-- profile_background_tile: boolean (nullable = true)\n",
      " |    |    |    |-- profile_banner_url: string (nullable = true)\n",
      " |    |    |    |-- profile_image_url: string (nullable = true)\n",
      " |    |    |    |-- profile_image_url_https: string (nullable = true)\n",
      " |    |    |    |-- profile_link_color: string (nullable = true)\n",
      " |    |    |    |-- profile_sidebar_border_color: string (nullable = true)\n",
      " |    |    |    |-- profile_sidebar_fill_color: string (nullable = true)\n",
      " |    |    |    |-- profile_text_color: string (nullable = true)\n",
      " |    |    |    |-- profile_use_background_image: boolean (nullable = true)\n",
      " |    |    |    |-- protected: boolean (nullable = true)\n",
      " |    |    |    |-- screen_name: string (nullable = true)\n",
      " |    |    |    |-- statuses_count: long (nullable = true)\n",
      " |    |    |    |-- time_zone: string (nullable = true)\n",
      " |    |    |    |-- url: string (nullable = true)\n",
      " |    |    |    |-- utc_offset: long (nullable = true)\n",
      " |    |    |    |-- verified: boolean (nullable = true)\n",
      " |    |    |-- withheld_in_countries: array (nullable = true)\n",
      " |    |    |    |-- element: string (containsNull = true)\n",
      " |    |-- quoted_status_id: long (nullable = true)\n",
      " |    |-- quoted_status_id_str: string (nullable = true)\n",
      " |    |-- retweet_count: long (nullable = true)\n",
      " |    |-- retweeted: boolean (nullable = true)\n",
      " |    |-- scopes: struct (nullable = true)\n",
      " |    |    |-- followers: boolean (nullable = true)\n",
      " |    |-- source: string (nullable = true)\n",
      " |    |-- text: string (nullable = true)\n",
      " |    |-- truncated: boolean (nullable = true)\n",
      " |    |-- user: struct (nullable = true)\n",
      " |    |    |-- contributors_enabled: boolean (nullable = true)\n",
      " |    |    |-- created_at: string (nullable = true)\n",
      " |    |    |-- default_profile: boolean (nullable = true)\n",
      " |    |    |-- default_profile_image: boolean (nullable = true)\n",
      " |    |    |-- description: string (nullable = true)\n",
      " |    |    |-- favourites_count: long (nullable = true)\n",
      " |    |    |-- follow_request_sent: string (nullable = true)\n",
      " |    |    |-- followers_count: long (nullable = true)\n",
      " |    |    |-- following: string (nullable = true)\n",
      " |    |    |-- friends_count: long (nullable = true)\n",
      " |    |    |-- geo_enabled: boolean (nullable = true)\n",
      " |    |    |-- id: long (nullable = true)\n",
      " |    |    |-- id_str: string (nullable = true)\n",
      " |    |    |-- is_translator: boolean (nullable = true)\n",
      " |    |    |-- lang: string (nullable = true)\n",
      " |    |    |-- listed_count: long (nullable = true)\n",
      " |    |    |-- location: string (nullable = true)\n",
      " |    |    |-- name: string (nullable = true)\n",
      " |    |    |-- notifications: string (nullable = true)\n",
      " |    |    |-- profile_background_color: string (nullable = true)\n",
      " |    |    |-- profile_background_image_url: string (nullable = true)\n",
      " |    |    |-- profile_background_image_url_https: string (nullable = true)\n",
      " |    |    |-- profile_background_tile: boolean (nullable = true)\n",
      " |    |    |-- profile_banner_url: string (nullable = true)\n",
      " |    |    |-- profile_image_url: string (nullable = true)\n",
      " |    |    |-- profile_image_url_https: string (nullable = true)\n",
      " |    |    |-- profile_link_color: string (nullable = true)\n",
      " |    |    |-- profile_sidebar_border_color: string (nullable = true)\n",
      " |    |    |-- profile_sidebar_fill_color: string (nullable = true)\n",
      " |    |    |-- profile_text_color: string (nullable = true)\n",
      " |    |    |-- profile_use_background_image: boolean (nullable = true)\n",
      " |    |    |-- protected: boolean (nullable = true)\n",
      " |    |    |-- screen_name: string (nullable = true)\n",
      " |    |    |-- statuses_count: long (nullable = true)\n",
      " |    |    |-- time_zone: string (nullable = true)\n",
      " |    |    |-- url: string (nullable = true)\n",
      " |    |    |-- utc_offset: long (nullable = true)\n",
      " |    |    |-- verified: boolean (nullable = true)\n",
      " |    |-- withheld_in_countries: array (nullable = true)\n",
      " |    |    |-- element: string (containsNull = true)\n",
      " |-- source: string (nullable = true)\n",
      " |-- text: string (nullable = true)\n",
      " |-- timestamp_ms: string (nullable = true)\n",
      " |-- truncated: boolean (nullable = true)\n",
      " |-- user: struct (nullable = true)\n",
      " |    |-- contributors_enabled: boolean (nullable = true)\n",
      " |    |-- created_at: string (nullable = true)\n",
      " |    |-- default_profile: boolean (nullable = true)\n",
      " |    |-- default_profile_image: boolean (nullable = true)\n",
      " |    |-- description: string (nullable = true)\n",
      " |    |-- favourites_count: long (nullable = true)\n",
      " |    |-- follow_request_sent: string (nullable = true)\n",
      " |    |-- followers_count: long (nullable = true)\n",
      " |    |-- following: string (nullable = true)\n",
      " |    |-- friends_count: long (nullable = true)\n",
      " |    |-- geo_enabled: boolean (nullable = true)\n",
      " |    |-- id: long (nullable = true)\n",
      " |    |-- id_str: string (nullable = true)\n",
      " |    |-- is_translator: boolean (nullable = true)\n",
      " |    |-- lang: string (nullable = true)\n",
      " |    |-- listed_count: long (nullable = true)\n",
      " |    |-- location: string (nullable = true)\n",
      " |    |-- name: string (nullable = true)\n",
      " |    |-- notifications: string (nullable = true)\n",
      " |    |-- profile_background_color: string (nullable = true)\n",
      " |    |-- profile_background_image_url: string (nullable = true)\n",
      " |    |-- profile_background_image_url_https: string (nullable = true)\n",
      " |    |-- profile_background_tile: boolean (nullable = true)\n",
      " |    |-- profile_banner_url: string (nullable = true)\n",
      " |    |-- profile_image_url: string (nullable = true)\n",
      " |    |-- profile_image_url_https: string (nullable = true)\n",
      " |    |-- profile_link_color: string (nullable = true)\n",
      " |    |-- profile_sidebar_border_color: string (nullable = true)\n",
      " |    |-- profile_sidebar_fill_color: string (nullable = true)\n",
      " |    |-- profile_text_color: string (nullable = true)\n",
      " |    |-- profile_use_background_image: boolean (nullable = true)\n",
      " |    |-- protected: boolean (nullable = true)\n",
      " |    |-- screen_name: string (nullable = true)\n",
      " |    |-- statuses_count: long (nullable = true)\n",
      " |    |-- time_zone: string (nullable = true)\n",
      " |    |-- url: string (nullable = true)\n",
      " |    |-- utc_offset: long (nullable = true)\n",
      " |    |-- verified: boolean (nullable = true)\n",
      " |-- withheld_in_countries: array (nullable = true)\n",
      " |    |-- element: string (containsNull = true)\n",
      "\n"
     ]
    }
   ],
   "source": [
    "# analyze data\n",
    "print(f\"Number of tweets: {twitter.count()}\")\n",
    "twitter.printSchema()"
   ]
  },
  {
   "cell_type": "markdown",
   "metadata": {},
   "source": [
    "We'll compute the trending topic by doing a word count of the hashtags inside the `text` field."
   ]
  },
  {
   "cell_type": "markdown",
   "metadata": {},
   "source": [
    "## Using SQL"
   ]
  },
  {
   "cell_type": "markdown",
   "metadata": {},
   "source": [
    "First let's extract the `text` field, excluding `NULL`s."
   ]
  },
  {
   "cell_type": "code",
   "execution_count": 33,
   "metadata": {},
   "outputs": [
    {
     "name": "stdout",
     "output_type": "stream",
     "text": [
      "+-------------------------------------+\n",
      "|                                 text|\n",
      "+-------------------------------------+\n",
      "|                  @tearies ドナドナー|\n",
      "|                RT @kkangssoo0: 솔...|\n",
      "|そこには、引力だけが残り、ブラック...|\n",
      "|                 RT @Billystafford...|\n",
      "|                           (みえない)|\n",
      "|    車ってのは、1tの鉄の塊だ。\\nこ...|\n",
      "|       これがミスの第一号だ…………こい!!|\n",
      "|                 RT @ppinkqx: เป็น...|\n",
      "|                 RT @majhood8999: ...|\n",
      "|                           STROBE.ISO|\n",
      "|                 RT @ashlynnnn_: L...|\n",
      "|                 RT @MatiAlbornoz1...|\n",
      "|                 @BrGuedes Já li, ...|\n",
      "|                 On Air: #NowPlayi...|\n",
      "|                 Me siento cambiad...|\n",
      "|                 @pecafranco @maji...|\n",
      "|          @miyomaki すごい気になるwww|\n",
      "|                 RT @dewahoya: Kom...|\n",
      "|           @maid_nono 来たらとりあ...|\n",
      "|                 RT @Pejirider_555...|\n",
      "+-------------------------------------+\n",
      "only showing top 20 rows\n",
      "\n"
     ]
    }
   ],
   "source": [
    "twitter.createOrReplaceTempView(\"tweets\")\n",
    "t = spark.sql(\"SELECT text FROM tweets WHERE text IS NOT NULL\")\n",
    "t.show()"
   ]
  },
  {
   "cell_type": "markdown",
   "metadata": {},
   "source": [
    "Now we'll separate each text in words, and filter hashtags.\n",
    "\n",
    "In order to do a `.map`, we need to downgrade from a DataFrame to an RDD.  \n",
    "As each element of the RDD is a row of one column, we extract the first column, filter out `None` values, split by words (and flat map), and filter hashtags. Finally, we generate the tuples, and reduce."
   ]
  },
  {
   "cell_type": "code",
   "execution_count": 34,
   "metadata": {},
   "outputs": [],
   "source": [
    "from operator import add\n",
    "\n",
    "result = t.rdd.map(lambda x: x[0]).flatMap(lambda x: x.split()).filter(lambda x: x.startswith(\"#\")).map(lambda x: (x, 1)).reduceByKey(add)"
   ]
  },
  {
   "cell_type": "markdown",
   "metadata": {},
   "source": [
    "Finally, we'll sort by number of words, and take the top 10."
   ]
  },
  {
   "cell_type": "code",
   "execution_count": 35,
   "metadata": {},
   "outputs": [
    {
     "data": {
      "text/plain": [
       "[('#PREMIOSMTVMIAW', 2268),\n",
       " ('#MTVINSTAMXBAUTISTA', 658),\n",
       " ('#VeranoMTV2017', 510),\n",
       " ('#PRODUCE101', 501),\n",
       " ('#BAMA2017DiamondEdition_SuperJunior', 455),\n",
       " ('#MTVINSTAARVICICONTE', 430),\n",
       " ('#MTVINSTAMXDANNA', 421),\n",
       " ('#M…', 340),\n",
       " ('#مسابقه_الوليد_شفاه_الله_7', 328),\n",
       " ('#MTVFRESCAJANCARLO', 318)]"
      ]
     },
     "execution_count": 35,
     "metadata": {},
     "output_type": "execute_result"
    }
   ],
   "source": [
    "result.sortBy(lambda x: x[1], False).take(10)"
   ]
  },
  {
   "cell_type": "markdown",
   "metadata": {},
   "source": [
    "## Using Pyspark SQL"
   ]
  },
  {
   "cell_type": "markdown",
   "metadata": {},
   "source": [
    "First let's extract the `text` field, excluding `NULL`s."
   ]
  },
  {
   "cell_type": "code",
   "execution_count": 36,
   "metadata": {},
   "outputs": [],
   "source": [
    "twitter.createOrReplaceTempView(\"tweets\")\n",
    "t = twitter.select(['text']).na.drop()"
   ]
  },
  {
   "cell_type": "markdown",
   "metadata": {},
   "source": [
    "For splitting the words, we'll temporarily use RDDs due to the `.flatMap` method, and generate the tuples."
   ]
  },
  {
   "cell_type": "code",
   "execution_count": 37,
   "metadata": {},
   "outputs": [],
   "source": [
    "t = t.rdd.map(lambda x: x[0]).flatMap(lambda x: x.split()).map(lambda x: (x, 1))"
   ]
  },
  {
   "cell_type": "markdown",
   "metadata": {},
   "source": [
    "We'll go back to a DataFrame for filtering. It's less efficient to do it after the tuple generation in this specific case, but it's just to show how to do it."
   ]
  },
  {
   "cell_type": "code",
   "execution_count": 38,
   "metadata": {},
   "outputs": [
    {
     "name": "stdout",
     "output_type": "stream",
     "text": [
      "+------------+-----+\n",
      "|     hashtag|count|\n",
      "+------------+-----+\n",
      "|    @tearies|    1|\n",
      "|  ドナドナー|    1|\n",
      "|          RT|    1|\n",
      "|@kkangssoo0:|    1|\n",
      "|      솔직히|    1|\n",
      "|        오늘|    1|\n",
      "|    방송에서|    1|\n",
      "|    하성운이|    1|\n",
      "|    어른이다|    1|\n",
      "|      싶었다|    1|\n",
      "|        진짜|    1|\n",
      "|      자존심|    1|\n",
      "|        상할|    1|\n",
      "|          수|    1|\n",
      "|        있는|    1|\n",
      "|    상황인데|    1|\n",
      "|        금방|    1|\n",
      "|      분위기|    1|\n",
      "|    전환하고|    1|\n",
      "|      최선을|    1|\n",
      "+------------+-----+\n",
      "only showing top 20 rows\n",
      "\n"
     ]
    }
   ],
   "source": [
    "t2 = t.toDF().withColumnRenamed(\"_1\", \"hashtag\").withColumnRenamed(\"_2\", \"count\")\n",
    "t2.show()"
   ]
  },
  {
   "cell_type": "markdown",
   "metadata": {},
   "source": [
    "We'll then sum all the counts, using `.groupBy`. This will generate a new `sum(count)` column, that we can rename to `count`.  \n",
    "We then descending sort by `count`, and show the results."
   ]
  },
  {
   "cell_type": "code",
   "execution_count": 39,
   "metadata": {},
   "outputs": [
    {
     "name": "stdout",
     "output_type": "stream",
     "text": [
      "+--------------------+-----+\n",
      "|             hashtag|count|\n",
      "+--------------------+-----+\n",
      "|     #PREMIOSMTVMIAW| 2268|\n",
      "| #MTVINSTAMXBAUTISTA|  658|\n",
      "|      #VeranoMTV2017|  510|\n",
      "|         #PRODUCE101|  501|\n",
      "|#BAMA2017DiamondE...|  455|\n",
      "|#MTVINSTAARVICICONTE|  430|\n",
      "|    #MTVINSTAMXDANNA|  421|\n",
      "|                 #M…|  340|\n",
      "|#مسابقه_الوليد_شف...|  328|\n",
      "|  #MTVFRESCAJANCARLO|  318|\n",
      "+--------------------+-----+\n",
      "only showing top 10 rows\n",
      "\n"
     ]
    }
   ],
   "source": [
    "t3 = t2.where(\"hashtag LIKE '#%'\").groupBy('hashtag').sum().withColumnRenamed(\"sum(count)\", \"count\")\n",
    "t3.sort(t3['count'].desc()).show(10)"
   ]
  }
 ],
 "metadata": {
  "colab": {
   "collapsed_sections": [
    "BYkPQP4Y0C3r",
    "Q3B58xLV-M4k",
    "abLWyOFm_vF_",
    "jDo0xp9kA-Y1",
    "m5iNbIIXGNI2",
    "sVwzNeG7HBPG",
    "9DRWkJpkNUck",
    "CGiwTDTq7rqs",
    "v-IRLtMwcuER",
    "qGV5Rs-f7COd",
    "ISw1JP9oz6kw"
   ],
   "provenance": []
  },
  "kernelspec": {
   "display_name": "Python 3 (ipykernel)",
   "language": "python",
   "name": "python3"
  },
  "language_info": {
   "codemirror_mode": {
    "name": "ipython",
    "version": 3
   },
   "file_extension": ".py",
   "mimetype": "text/x-python",
   "name": "python",
   "nbconvert_exporter": "python",
   "pygments_lexer": "ipython3",
   "version": "3.11.10"
  }
 },
 "nbformat": 4,
 "nbformat_minor": 4
}
