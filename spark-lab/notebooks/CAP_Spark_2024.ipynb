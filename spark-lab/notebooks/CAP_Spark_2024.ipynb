{
 "cells": [
  {
   "cell_type": "code",
   "execution_count": 9,
   "id": "0abe4add-b05f-4019-8ec4-718ea3c77c00",
   "metadata": {},
   "outputs": [
    {
     "data": {
      "text/html": [
       "\n",
       "            <div>\n",
       "                <p><b>SparkSession - in-memory</b></p>\n",
       "                \n",
       "        <div>\n",
       "            <p><b>SparkContext</b></p>\n",
       "\n",
       "            <p><a href=\"http://de8cf428998d:4040\">Spark UI</a></p>\n",
       "\n",
       "            <dl>\n",
       "              <dt>Version</dt>\n",
       "                <dd><code>v3.5.3</code></dd>\n",
       "              <dt>Master</dt>\n",
       "                <dd><code>local[2]</code></dd>\n",
       "              <dt>AppName</dt>\n",
       "                <dd><code>pyspark-shell</code></dd>\n",
       "            </dl>\n",
       "        </div>\n",
       "        \n",
       "            </div>\n",
       "        "
      ],
      "text/plain": [
       "<pyspark.sql.session.SparkSession at 0x7f704c0b6050>"
      ]
     },
     "execution_count": 9,
     "metadata": {},
     "output_type": "execute_result"
    }
   ],
   "source": [
    "from pyspark.sql import SparkSession\n",
    "from pyspark import SparkContext, SparkConf\n",
    "\n",
    "\n",
    "spark = SparkSession.builder.master('local[2]').getOrCreate()\n",
    "#spark.conf.set('spark.cores.max', '1')\n",
    "#spark.conf.set('spark.driver.memory','1000M')\n",
    "\n",
    "sc = spark.sparkContext\n",
    "\n",
    "spark"
   ]
  },
  {
   "cell_type": "code",
   "execution_count": 10,
   "id": "9f34ba11-5877-4464-bf73-54a2662873e0",
   "metadata": {},
   "outputs": [
    {
     "name": "stdout",
     "output_type": "stream",
     "text": [
      "Requirement already satisfied: psutil in /opt/conda/lib/python3.11/site-packages (6.0.0)\n",
      "Your runtime has 8.2 GiB of RAM, 2cores\n"
     ]
    }
   ],
   "source": [
    "!pip install psutil\n",
    "from psutil import virtual_memory\n",
    "print(f\"Your runtime has {virtual_memory().total / 1e9:.1f} GiB of RAM, {spark.sparkContext.defaultParallelism}cores\")"
   ]
  },
  {
   "cell_type": "markdown",
   "id": "93084eb5",
   "metadata": {},
   "source": [
    "## Word count"
   ]
  },
  {
   "cell_type": "code",
   "execution_count": 25,
   "id": "61fc7db1",
   "metadata": {},
   "outputs": [
    {
     "name": "stdout",
     "output_type": "stream",
     "text": [
      "279091\n",
      "['The Project Gutenberg EBook of Peter Pan, by James M. Barrie', '', '  This eBook is for the use of anyone anywhere at no cost and with', 'almost no restrictions whatsoever.  You may copy it, give it away or', 're-use it under the terms of the Project Gutenberg License included']\n"
     ]
    }
   ],
   "source": [
    "libros = sc.textFile(\"data/books\")  # cargamos los libros\n",
    "print(libros.count())\n",
    "print(libros.take(5))"
   ]
  },
  {
   "cell_type": "code",
   "execution_count": 32,
   "id": "cd4ea58f",
   "metadata": {},
   "outputs": [
    {
     "data": {
      "text/plain": [
       "PythonRDD[152] at RDD at PythonRDD.scala:53"
      ]
     },
     "execution_count": 32,
     "metadata": {},
     "output_type": "execute_result"
    }
   ],
   "source": [
    "tuplas = libros.flatMap(lambda x: x.split()).map(lambda x: (x, 1))  # MAP (flat bc .split() returns a list)\n",
    "tuplas.cache()  # cache results for re-use"
   ]
  },
  {
   "cell_type": "code",
   "execution_count": 34,
   "id": "23106ad0",
   "metadata": {},
   "outputs": [],
   "source": [
    "result = tuplas.reduceByKey(lambda x,y: x+y)  # SHUFFLE (`ByKey`) & REDUCE\n",
    "result.coalesce(1).saveAsTextFile(\"output/wc\")  # save as one file"
   ]
  }
 ],
 "metadata": {
  "kernelspec": {
   "display_name": "Python 3 (ipykernel)",
   "language": "python",
   "name": "python3"
  }
 },
 "nbformat": 4,
 "nbformat_minor": 5
}
